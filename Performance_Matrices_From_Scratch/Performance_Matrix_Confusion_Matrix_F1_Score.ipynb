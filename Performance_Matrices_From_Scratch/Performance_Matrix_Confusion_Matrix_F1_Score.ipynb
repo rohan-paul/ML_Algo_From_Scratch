{
 "cells": [
  {
   "cell_type": "markdown",
   "source": [
    "# Computing performance metrics in Pure Python without scikit-learn\n",
    "\n",
    "Here I will compute following for the dataset 5_a.csv\n",
    "\n",
    "\n",
    " - Compute Confusion Matrix\n",
    "\n",
    " - Compute F1 Score\n",
    "\n",
    " - Compute AUC Score, we need to compute different thresholds and for each threshold compute tpr,fpr and then use\n",
    "\n",
    "  Note 1: in this data we can see number of positive points >> number of negatives points\n",
    "\n",
    "  Note 3: we need to derive the class labels from given score\n",
    "  \n",
    "  ## $$y^{pred} = [0 \\text{ if } y_{score} < 0.5  \\text{ else }  1]$$\n",
    "\n",
    "- Compute Accuracy Score"
   ],
   "metadata": {}
  },
  {
   "cell_type": "code",
   "execution_count": 2,
   "source": [
    "import numpy as np\n",
    "import pandas as pd\n",
    "import matplotlib.pyplot as plt\n",
    "from sklearn.metrics import roc_auc_score\n",
    "\n",
    "df_5_a = pd.read_csv('./5_a.csv')\n",
    "\n",
    "print(df_5_a.shape)\n",
    "df_5_a.head()"
   ],
   "outputs": [
    {
     "output_type": "stream",
     "name": "stdout",
     "text": [
      "(10100, 2)\n"
     ]
    },
    {
     "output_type": "execute_result",
     "data": {
      "text/plain": [
       "     y     proba\n",
       "0  1.0  0.637387\n",
       "1  1.0  0.635165\n",
       "2  1.0  0.766586\n",
       "3  1.0  0.724564\n",
       "4  1.0  0.889199"
      ],
      "text/html": [
       "<div>\n",
       "<style scoped>\n",
       "    .dataframe tbody tr th:only-of-type {\n",
       "        vertical-align: middle;\n",
       "    }\n",
       "\n",
       "    .dataframe tbody tr th {\n",
       "        vertical-align: top;\n",
       "    }\n",
       "\n",
       "    .dataframe thead th {\n",
       "        text-align: right;\n",
       "    }\n",
       "</style>\n",
       "<table border=\"1\" class=\"dataframe\">\n",
       "  <thead>\n",
       "    <tr style=\"text-align: right;\">\n",
       "      <th></th>\n",
       "      <th>y</th>\n",
       "      <th>proba</th>\n",
       "    </tr>\n",
       "  </thead>\n",
       "  <tbody>\n",
       "    <tr>\n",
       "      <th>0</th>\n",
       "      <td>1.0</td>\n",
       "      <td>0.637387</td>\n",
       "    </tr>\n",
       "    <tr>\n",
       "      <th>1</th>\n",
       "      <td>1.0</td>\n",
       "      <td>0.635165</td>\n",
       "    </tr>\n",
       "    <tr>\n",
       "      <th>2</th>\n",
       "      <td>1.0</td>\n",
       "      <td>0.766586</td>\n",
       "    </tr>\n",
       "    <tr>\n",
       "      <th>3</th>\n",
       "      <td>1.0</td>\n",
       "      <td>0.724564</td>\n",
       "    </tr>\n",
       "    <tr>\n",
       "      <th>4</th>\n",
       "      <td>1.0</td>\n",
       "      <td>0.889199</td>\n",
       "    </tr>\n",
       "  </tbody>\n",
       "</table>\n",
       "</div>"
      ]
     },
     "metadata": {},
     "execution_count": 2
    }
   ],
   "metadata": {
    "collapsed": false,
    "jupyter": {
     "outputs_hidden": false
    },
    "pycharm": {
     "name": "#%%\n"
    }
   }
  },
  {
   "cell_type": "code",
   "execution_count": 3,
   "source": [
    "df_5_a['y_predicted'] = np.where(df_5_a['proba'] >= 0.5, float(1), float(0))\n",
    "df_5_a.head()\n"
   ],
   "outputs": [
    {
     "output_type": "execute_result",
     "data": {
      "text/plain": [
       "     y     proba  y_predicted\n",
       "0  1.0  0.637387          1.0\n",
       "1  1.0  0.635165          1.0\n",
       "2  1.0  0.766586          1.0\n",
       "3  1.0  0.724564          1.0\n",
       "4  1.0  0.889199          1.0"
      ],
      "text/html": [
       "<div>\n",
       "<style scoped>\n",
       "    .dataframe tbody tr th:only-of-type {\n",
       "        vertical-align: middle;\n",
       "    }\n",
       "\n",
       "    .dataframe tbody tr th {\n",
       "        vertical-align: top;\n",
       "    }\n",
       "\n",
       "    .dataframe thead th {\n",
       "        text-align: right;\n",
       "    }\n",
       "</style>\n",
       "<table border=\"1\" class=\"dataframe\">\n",
       "  <thead>\n",
       "    <tr style=\"text-align: right;\">\n",
       "      <th></th>\n",
       "      <th>y</th>\n",
       "      <th>proba</th>\n",
       "      <th>y_predicted</th>\n",
       "    </tr>\n",
       "  </thead>\n",
       "  <tbody>\n",
       "    <tr>\n",
       "      <th>0</th>\n",
       "      <td>1.0</td>\n",
       "      <td>0.637387</td>\n",
       "      <td>1.0</td>\n",
       "    </tr>\n",
       "    <tr>\n",
       "      <th>1</th>\n",
       "      <td>1.0</td>\n",
       "      <td>0.635165</td>\n",
       "      <td>1.0</td>\n",
       "    </tr>\n",
       "    <tr>\n",
       "      <th>2</th>\n",
       "      <td>1.0</td>\n",
       "      <td>0.766586</td>\n",
       "      <td>1.0</td>\n",
       "    </tr>\n",
       "    <tr>\n",
       "      <th>3</th>\n",
       "      <td>1.0</td>\n",
       "      <td>0.724564</td>\n",
       "      <td>1.0</td>\n",
       "    </tr>\n",
       "    <tr>\n",
       "      <th>4</th>\n",
       "      <td>1.0</td>\n",
       "      <td>0.889199</td>\n",
       "      <td>1.0</td>\n",
       "    </tr>\n",
       "  </tbody>\n",
       "</table>\n",
       "</div>"
      ]
     },
     "metadata": {},
     "execution_count": 3
    }
   ],
   "metadata": {
    "collapsed": false,
    "jupyter": {
     "outputs_hidden": false
    },
    "pycharm": {
     "name": "#%%\n"
    }
   }
  },
  {
   "cell_type": "code",
   "execution_count": 4,
   "source": [
    "# Checking to see if there's any 'proba' less than or equal to 0.5\n",
    "# And there is none. So all y_predicted will be classified as 1\n",
    "# df = df_5_a.loc[df_5_a['proba'] <= 0.5 ]\n",
    "# df.head()"
   ],
   "outputs": [],
   "metadata": {
    "collapsed": false,
    "jupyter": {
     "outputs_hidden": false
    },
    "pycharm": {
     "name": "#%%\n"
    }
   }
  },
  {
   "cell_type": "code",
   "execution_count": 5,
   "source": [
    "# print(df_5_a.to_numpy())\n",
    "actual_y_train_arr = df_5_a.iloc[:, 0].values\n",
    "print('actual_y_train_arr ', actual_y_train_arr)\n",
    "predicted_y_arr = df_5_a.iloc[:, 2].values\n",
    "print('predicted_y_arr ', predicted_y_arr)\n",
    "y_proba = df_5_a.iloc[:, 1].values"
   ],
   "outputs": [
    {
     "output_type": "stream",
     "name": "stdout",
     "text": [
      "actual_y_train_arr  [1. 1. 1. ... 1. 1. 1.]\n",
      "predicted_y_arr  [1. 1. 1. ... 1. 1. 1.]\n"
     ]
    }
   ],
   "metadata": {
    "collapsed": false,
    "jupyter": {
     "outputs_hidden": false
    },
    "pycharm": {
     "name": "#%%\n"
    }
   }
  },
  {
   "cell_type": "markdown",
   "source": [
    "#### In below implementation, for a binary class-label (1 and 0 ) I will have 'true-nagative' at the top left of the final confusion matrix, as the traversing of the unique_classes array will start from 0\n",
    "\n",
    "![img](https://i.imgur.com/MvapmPv.png[/img])"
   ],
   "metadata": {
    "pycharm": {
     "name": "#%% md\n"
    }
   }
  },
  {
   "cell_type": "code",
   "execution_count": 6,
   "source": [
    "\n",
    "def calculate_confusion_matrix(true_y_classes_array, predicted_y_classes_array):\n",
    "\n",
    "  # extract all unique classes from the train y class\n",
    "  unique_classes = np.unique(true_y_classes_array)\n",
    "  # print('unique', unique_classes)\n",
    "\n",
    "  # initialize a matrix with zero values that will be the final confusion matrix\n",
    "  confusion_matrix = np.zeros((len(unique_classes), len(unique_classes)))\n",
    "\n",
    "  for i in range(len(unique_classes)):\n",
    "    for j in range(len(unique_classes)):\n",
    "      confusion_matrix[i, j] = np.sum((true_y_classes_array == unique_classes[i]) & (predicted_y_classes_array == unique_classes[j]))\n",
    "\n",
    "  return confusion_matrix\n",
    "\n",
    "# actual_y_class_list = [1, 3, 3, 2, 5, 5, 3, 2, 1, 4, 3, 2, 1, 1, 2]\n",
    "# predicted_y_class_list = [1, 2, 3, 4, 2, 3, 3, 2, 1, 2, 3, 1, 5, 1, 1]\n",
    "\n",
    "# Only binary class dataset\n",
    "actual_y_class_list = [1, 1, 1, 0, 0]\n",
    "predicted_y_class_list =   [1, 1, 1, 0, 1]\n",
    "\n",
    "print(calculate_confusion_matrix(actual_y_class_list, predicted_y_class_list))"
   ],
   "outputs": [
    {
     "output_type": "stream",
     "name": "stdout",
     "text": [
      "[[1. 1.]\n",
      " [0. 3.]]\n"
     ]
    }
   ],
   "metadata": {
    "collapsed": false,
    "jupyter": {
     "outputs_hidden": false
    },
    "pycharm": {
     "name": "#%%\n"
    }
   }
  },
  {
   "cell_type": "markdown",
   "source": [
    "## Explanations on the above calculate_confusion_matrix() funcion\n",
    "\n",
    "[In above implementation, for a binary class-label (1 and 0 ) I will have 'true-nagative' at the top left of the final confusion matrix, as the traversing of the unique_classes array will start from 0 ]\n",
    "\n",
    "#### 1.np.zeros()  - the first arg of np.zeros() is the shape which is a tuple of ints or simple int\n",
    "\n",
    "e.g., (2, 3) or 2.\n",
    "\n",
    "---\n",
    "\n",
    "#### 2. Now for each row, I need to compare the values between true_y_classes_array and predicted_y_classes_array\n",
    "\n",
    "So, I will implement this by comparing each element from true_y_classes_array with each of the unique array's elements and then the same for  predicted_y_classes_array\n",
    "\n",
    "It will give me a list of True / False. Lets see this example\n",
    "\n",
    "```python\n",
    "arr1 = [1, 1, 2, 6, 4]\n",
    "arr2 = np.unique(arr1) # [1 2 4 6]\n",
    "\n",
    "print(\"comparing \",  arr1 == arr2[0])\n",
    "# comparing [ True  True False False False]\n",
    "```\n",
    "\n",
    "That is, the above will compare the whole of arr1 with arr2[0] which is 1\n",
    "\n",
    "---\n",
    "\n",
    "### 3. An now use np.sum() to count number of True value\n",
    "\n",
    "```python\n",
    "print('np.sum of above True False numpy array ', np.sum(arr1 == arr2[0]))\n",
    "\n",
    "# np.sum of above True False numpy array  2\n",
    "```\n",
    "\n",
    "Note that above kind of operation will only work with `np.unique()` which returns a numpy array, and will not work with plain python list\n",
    "\n",
    "---\n",
    "\n",
    "### 4. So now for the confusion matrix, I need to fill up with matching counts of\n",
    "\n",
    "#### Note `unique_classes[0]` is 1 and `unique_classes[1]` = 0\n",
    "\n",
    "### For first row of my final confusion_matrix\n",
    "\n",
    "confusion_matrix[0,0] => i.e. i, j = 0, 0 => will have the Total 'True' count (i.e. `np.sum()`)  of following conditions\n",
    "\n",
    "`(true_y_classes_array == unique_classes[0]) & (predicted_y_classes_array == unique_classes[0])`\n",
    "\n",
    "Similarly for `confusion_matrix[0, 1]` => i.e. i, j = 0, 1  => will have the Total 'True' count (i.e. `np.sum()`)  of following conditions\n",
    "\n",
    "`(true_y_classes_array == unique_classes[0]) & (predicted_y_classes_array == unique_classes[1])`\n",
    "\n",
    "#### And for second row of my final confusion_matrix\n",
    "\n",
    "confusion_matrix[1,0] => will have the Total 'True' count (i.e. `np.sum()`)  of following conditions\n",
    "\n",
    "`(true_y_classes_array == unique_classes[1]) & (predicted_y_classes_array == unique_classes[0])`\n",
    "\n",
    "Similarly for confusion_matrix[1, 1] => will have the Total 'True' count (i.e. `np.sum()`)  of following conditions\n",
    "\n",
    "`(true_y_classes_array == unique_classes[1]) & (predicted_y_classes_array == unique_classes[1])`\n",
    "\n",
    "\"\"\"\n",
    "\n",
    "---\n",
    "\n",
    "# Confusion matrix of binary class-labels placing 'true-positive' / TF at the top left of Matrix\n",
    "\n",
    "### If for a binary class-label I have to place 'true-positive' / TF at the top left of the final confusion matrix\n",
    "\n",
    "i.e. the top-left will have 1 instead of 0 in the final confusion matrix then only need to reverse the unique_classes variable as below."
   ],
   "metadata": {
    "pycharm": {
     "name": "#%% md\n"
    }
   }
  },
  {
   "cell_type": "code",
   "execution_count": 7,
   "source": [
    "def get_confusion_matrix(true_y_classes_array, predicted_y_classes_array):\n",
    "  \n",
    "  unique_classes = np.unique(true_y_classes_array)\n",
    "  # For a binary class the above will give me [0 1] numpy array\n",
    "  # so top-left of confusion matrix will start from 0 i.e. 'True Negative'\n",
    "\n",
    "  # But the challenge here asks that the top left will be 'True Positive'\n",
    "  # Hence I need to reverse the above numpy array\n",
    "  unique_classes = unique_classes[::-1]\n",
    "  # print('reversed unique', unique_classes) # will convert the above array to [1 0]\n",
    "\n",
    "  # initialize a matrix with zero values that will be the final confusion matrix\n",
    "  # For the binary class-label dataset, this confusion matrix will be a 2*2 square matrix\n",
    "  confusion_matrix = np.zeros((len(unique_classes), len(unique_classes)))\n",
    "\n",
    "  for i in range(len(unique_classes)):\n",
    "    for j in range(len(unique_classes)):\n",
    "      confusion_matrix[i, j] = np.sum((true_y_classes_array == unique_classes[j]) & (predicted_y_classes_array == unique_classes[i]))\n",
    "\n",
    "  return confusion_matrix\n",
    "\n",
    "confusion_matrix_5_a = get_confusion_matrix(actual_y_train_arr, predicted_y_arr)\n",
    "print(confusion_matrix_5_a)\n",
    "\n",
    "true_negative, false_positive, false_negative, true_positive = int(confusion_matrix_5_a[1][1]), int(confusion_matrix_5_a[0][1]), int(confusion_matrix_5_a[1][0]), int(confusion_matrix_5_a[0][0])"
   ],
   "outputs": [
    {
     "output_type": "stream",
     "name": "stdout",
     "text": [
      "[[10000.   100.]\n",
      " [    0.     0.]]\n"
     ]
    }
   ],
   "metadata": {
    "collapsed": false,
    "jupyter": {
     "outputs_hidden": false
    },
    "pycharm": {
     "name": "#%%\n"
    }
   }
  },
  {
   "cell_type": "markdown",
   "source": [
    "### Explanations and notes on above Confusion matrix function\n",
    "\n",
    "![img](https://i.imgur.com/1A3Izpg.png)\n",
    "\n",
    "#### Note `unique_classes[0]` is 1 and `unique_classes[1]` = 0\n",
    "\n",
    "### For first row of my final confusion_matrix\n",
    "\n",
    "`confusion_matrix[0,0]` => i.e. i, j = 0, 0 => will have the Total 'True' count (i.e. `np.sum()`) of following conditions\n",
    "\n",
    "`(true_y_classes_array == unique_classes[0]) & (predicted_y_classes_array == unique_classes[0])`\n",
    "\n",
    "Similarly for `confusion_matrix[0, 1]` => i.e. i, j = 0, 1 => will have the Total 'True' count (i.e. `np.sum()`)  of following conditions\n",
    "\n",
    "`(true_y_classes_array == unique_classes[1]) & (predicted_y_classes_array == unique_classes[0])`\n",
    "\n",
    "---\n",
    "\n",
    "### Now second row\n",
    "\n",
    "And for second row of my final confusion_matrix\n",
    "\n",
    "`confusion_matrix[1,0]`  => i.e. i, j = 1, 0 => will have the Total 'True' count (i.e. `np.sum()`)  of following conditions\n",
    "\n",
    "`(true_y_classes_array == unique_classes[0]) & (predicted_y_classes_array == unique_classes[1])`\n",
    "\n",
    "Similarly for `confusion_matrix[1, 1]`  => i.e. i, j = 1, 1  => will have the Total 'True' count (i.e. `np.sum()`) of following conditions\n",
    "\n",
    "\n",
    "`(true_y_classes_array == unique_classes[1]) & (predicted_y_classes_array == unique_classes[1])`"
   ],
   "metadata": {}
  },
  {
   "cell_type": "code",
   "execution_count": 8,
   "source": [
    "# To check that the total num of elements of the original dataframe matches\n",
    "# with the counts captured in the confusion matrix\n",
    "# sum-all-the-elements-of-the confusion_matrix_5_a\n",
    "sum_all_elements_of_confusion_matrix = np.concatenate(confusion_matrix_5_a).sum()\n",
    "print(sum_all_elements_of_confusion_matrix == df_5_a.shape[0] )"
   ],
   "outputs": [
    {
     "output_type": "stream",
     "name": "stdout",
     "text": [
      "True\n"
     ]
    }
   ],
   "metadata": {
    "collapsed": false,
    "jupyter": {
     "outputs_hidden": false
    },
    "pycharm": {
     "name": "#%%\n"
    }
   }
  },
  {
   "cell_type": "code",
   "execution_count": 9,
   "source": [
    "# Testing my custom confusion_matrix result with scikit-learn\n",
    "from sklearn.metrics import confusion_matrix\n",
    "sklearn_confustion_matrix = confusion_matrix(actual_y_class_list, predicted_y_class_list)\n",
    "print(sklearn_confustion_matrix)"
   ],
   "outputs": [
    {
     "output_type": "stream",
     "name": "stdout",
     "text": [
      "[[1 1]\n",
      " [0 3]]\n"
     ]
    }
   ],
   "metadata": {
    "collapsed": false,
    "jupyter": {
     "outputs_hidden": false
    },
    "pycharm": {
     "name": "#%%\n"
    }
   }
  },
  {
   "cell_type": "code",
   "execution_count": 10,
   "source": [
    "tn, fp, fn, tp = confusion_matrix(actual_y_class_list, predicted_y_class_list).ravel()\n",
    "print(tn, fp, fn, tp)\n",
    "print(true_negative, false_positive, false_negative, true_positive)"
   ],
   "outputs": [
    {
     "output_type": "stream",
     "name": "stdout",
     "text": [
      "1 1 0 3\n",
      "0 100 0 10000\n"
     ]
    }
   ],
   "metadata": {
    "collapsed": false,
    "jupyter": {
     "outputs_hidden": false
    },
    "pycharm": {
     "name": "#%%\n"
    }
   }
  },
  {
   "cell_type": "markdown",
   "source": [
    "### From above we can see the values of the confution Matrix matches between scikit-learn and our custom-implementation\n",
    "\n",
    "\n",
    "\n",
    "---\n",
    "\n",
    "## F1 Score\n",
    "\n",
    "![img](https://i.imgur.com/ZPntYB0.jpg)\n",
    "\n",
    "![Imgur](https://imgur.com/qy5Fesd.jpg)\n"
   ],
   "metadata": {
    "pycharm": {
     "name": "#%% md\n"
    }
   }
  },
  {
   "cell_type": "code",
   "execution_count": 11,
   "source": [
    "# the below function will work only for\n",
    "# binary confusion matrix\n",
    "def get_f1_score_accuracy_score(binary_conf_matrix):\n",
    "    true_negative  = binary_conf_matrix[1][1]    \n",
    "    false_positive = binary_conf_matrix[0][1]\n",
    "    false_negative = binary_conf_matrix[1][0]\n",
    "    true_positive = binary_conf_matrix[0][0]\n",
    "\n",
    "    precision = true_positive / (true_positive + false_positive)\n",
    "    recall = true_positive/ (true_positive + false_negative)\n",
    "    \n",
    "    f1_score = (2 * (precision * recall)) / (precision + recall )\n",
    "    \n",
    "    sum_all_elements_of_confusion_matrix = np.concatenate(binary_conf_matrix).sum()\n",
    "    \n",
    "    accuracy_score = (true_positive + true_negative)/sum_all_elements_of_confusion_matrix\n",
    "    \n",
    "    return f1_score, accuracy_score\n",
    "\n",
    "\n",
    "print(\"My custom function's f1_score and accuracy_score \", get_f1_score_accuracy_score(confusion_matrix_5_a))  \n",
    "\n"
   ],
   "outputs": [
    {
     "output_type": "stream",
     "name": "stdout",
     "text": [
      "My custom function's f1_score and accuracy_score  (0.9950248756218906, 0.9900990099009901)\n"
     ]
    }
   ],
   "metadata": {
    "collapsed": false,
    "jupyter": {
     "outputs_hidden": false
    },
    "pycharm": {
     "name": "#%%\n"
    }
   }
  },
  {
   "cell_type": "markdown",
   "source": [
    "### Now verifying the above F1-Score with that of sk-learn\n"
   ],
   "metadata": {}
  },
  {
   "cell_type": "code",
   "execution_count": 12,
   "source": [
    "from sklearn.metrics import f1_score\n",
    "from sklearn.metrics import accuracy_score\n",
    "\n",
    "sklearn_f1_score = f1_score(actual_y_train_arr, predicted_y_arr)\n",
    "print('sklearn_f1_score ', sklearn_f1_score)\n",
    "\n",
    "sklearn_accuracy_score = accuracy_score(actual_y_train_arr, predicted_y_arr)\n",
    "print('sklearn_accuracy_score ', sklearn_accuracy_score)\n"
   ],
   "outputs": [
    {
     "output_type": "stream",
     "name": "stdout",
     "text": [
      "sklearn_f1_score  0.9950248756218906\n",
      "sklearn_accuracy_score  0.9900990099009901\n"
     ]
    }
   ],
   "metadata": {
    "collapsed": false,
    "jupyter": {
     "outputs_hidden": false
    },
    "pycharm": {
     "name": "#%%\n"
    }
   }
  },
  {
   "cell_type": "markdown",
   "source": [
    "## From above we can see the values of1_score, accuracy_score matches between scikit-learn and our custom-implementation\n",
    "\n",
    "# Note on ROC Curve\n",
    "\n",
    "The ROC curve is plotted with TPR against the FPR where TPR is on y-axis and FPR is on the x-axis.\n",
    "\n",
    "In Machine Learning, performance measurement is an essential task. So when it comes to a classification problem, we can count on an AUC - ROC Curve. When we need to check or visualize the performance of the multi - class classification problem, we use AUC (Area Under The Curve) ROC (Receiver Operating Characteristics) curve. It is one of the most important evaluation metrics for checking any classification model’s performance. It is also written as AUROC (Area Under the Receiver Operating Characteristics)\n",
    "\n",
    "### What is AUC - ROC Curve?\n",
    "\n",
    "AUC - ROC curve is a performance measurement for classification problem at various thresholds settings. ROC is a probability curve and AUC represents degree or measure of separability. It tells how much model is capable of distinguishing between classes. Higher the AUC, better the model is at predicting 0s as 0s and 1s as 1s. By analogy, Higher the AUC, better the model is at distinguishing between patients with disease and no disease.\n",
    "The ROC curve is plotted with TPR against the FPR where TPR is on y-axis and FPR is on the x-axis.\n",
    "\n",
    "\n",
    "\n",
    "---\n",
    "\n",
    "# AUC-ROC Score Calculation\n",
    "\n",
    "The Receiver Operating Characetristic (ROC) curve is a graphical plot that allows us to assess the performance of binary classifiers. With imbalanced datasets, the Area Under the Curve (AUC) score is calculated from ROC and is a very useful metric in imbalanced datasets.\n",
    "\n",
    "TPR and FPR are defined as follows:\n",
    "\n",
    "- TPR = True Positives / All Positives\n",
    "- FPR = False Positives / All negatives"
   ],
   "metadata": {}
  },
  {
   "cell_type": "code",
   "execution_count": 13,
   "source": [
    "\n",
    "def get_single_tpr_fpr(df):\n",
    "\n",
    "    '''\n",
    "    Note, this implementation is only for binaly class labels (0 and 1)\n",
    "    :param df: the dataframe should have 'y' and 'y_predicted' as its labels\n",
    "    :return: a list containing tpr and fpr\n",
    "    '''\n",
    "\n",
    "    tp = ((df['y'] == 1.0 ) & (df['y_predicted'] == 1)).sum()\n",
    "    fp = ((df['y'] == 0.0 ) & (df['y_predicted'] == 1)).sum()\n",
    "    tn = ((df['y'] == 0.0 ) & (df['y_predicted'] == 0)).sum()\n",
    "    fn = ((df['y'] == 1.0 ) & (df['y_predicted'] == 0)).sum()\n",
    "\n",
    "    tpr = tp / (tp + fn )\n",
    "    fpr = fp / (fp + tn)\n",
    "\n",
    "    return [tpr, fpr]\n",
    "\n",
    "\n",
    "# While computing AUC score you need to calculate \"TP,\"FP\" at every threshold by using actual \"y\" and predicted \"y_pred\".\n",
    "\n",
    "def calculate_all_thresholds_tpr_fpr_arr(df_original):\n",
    "\n",
    "    '''\n",
    "\n",
    "    :param df_original: the original dataframe, which should have a 'proba' label\n",
    "    :return: two arrays, tpr_arr_for_all_thresholds, fpr_arr_for_all_thresholds\n",
    "    '''\n",
    "\n",
    "    tpr_arr_for_all_thresholds = []\n",
    "    fpr_arr_for_all_thresholds = []\n",
    "\n",
    "    sorted_df = df_original.sort_values(by=['proba'], ascending=False)\n",
    "\n",
    "    unique_probability_thresholds = sorted_df['proba'].unique()\n",
    "\n",
    "    for threshold in tqdm(unique_probability_thresholds):\n",
    "        sorted_df['y_predicted'] = np.where(sorted_df['proba'] >= threshold, 1, 0)\n",
    "        tpr_fpr_arr = get_single_tpr_fpr(sorted_df)\n",
    "        tpr_arr_for_all_thresholds.append(tpr_fpr_arr[0])\n",
    "        fpr_arr_for_all_thresholds.append(tpr_fpr_arr[1])\n",
    "\n",
    "    return tpr_arr_for_all_thresholds, fpr_arr_for_all_thresholds\n"
   ],
   "outputs": [],
   "metadata": {
    "collapsed": false,
    "jupyter": {
     "outputs_hidden": false
    },
    "pycharm": {
     "name": "#%%\n"
    }
   }
  },
  {
   "cell_type": "markdown",
   "source": [
    "### Now finally the AUC Score"
   ],
   "metadata": {}
  },
  {
   "cell_type": "code",
   "execution_count": 14,
   "source": [
    "from tqdm import tqdm\n",
    "all_tpr_together_5_a, all_fpr_together_5_a = calculate_all_thresholds_tpr_fpr_arr(df_5_a)\n",
    "auc_score_5_a = np.trapz(all_tpr_together_5_a, all_fpr_together_5_a)\n",
    "print('My Custom function ROC-AUC Score for 5_a.csv: ', auc_score_5_a)\n",
    "# My Custom function ROC-AUC Score for 5_a.csv:  0.48829900000000004"
   ],
   "outputs": [
    {
     "output_type": "stream",
     "name": "stderr",
     "text": [
      "100%|██████████| 10100/10100 [00:15<00:00, 643.04it/s]"
     ]
    },
    {
     "output_type": "stream",
     "name": "stdout",
     "text": [
      "My Custom function ROC-AUC Score for 5_a.csv:  0.48829900000000004\n"
     ]
    },
    {
     "output_type": "stream",
     "name": "stderr",
     "text": [
      "\n"
     ]
    }
   ],
   "metadata": {}
  },
  {
   "cell_type": "code",
   "execution_count": 15,
   "source": [
    "# Checking result with scikit-learn\n",
    "sklearn_roc_auc_score = roc_auc_score(actual_y_train_arr, y_proba)\n",
    "print('sk-learn roc_auc_score for 5_a.csv: ', sklearn_roc_auc_score)\n",
    "# sk-learn roc_auc_score:  0.48829900000000004"
   ],
   "outputs": [
    {
     "output_type": "stream",
     "name": "stdout",
     "text": [
      "sk-learn roc_auc_score for 5_a.csv:  0.48829900000000004\n"
     ]
    }
   ],
   "metadata": {}
  },
  {
   "cell_type": "markdown",
   "source": [
    "## As we can see above the roc_auc_score matches between my Custom function and that of sklearn"
   ],
   "metadata": {}
  },
  {
   "cell_type": "code",
   "execution_count": 16,
   "source": [
    "# Plotting of ROC-AUC Curve\n",
    "\n",
    "plt.plot(all_tpr_together_5_a, all_fpr_together_5_a, 'r', lw=2)\n",
    "plt.plot([0, 1], [0, 1], 'k-', lw=2)\n",
    "plt.xlabel('FPR')\n",
    "plt.ylabel('TPR')\n",
    "plt.title('AUC={}'.format(round(auc_score_5_a, 4)))\n"
   ],
   "outputs": [
    {
     "output_type": "execute_result",
     "data": {
      "text/plain": [
       "Text(0.5, 1.0, 'AUC=0.4883')"
      ]
     },
     "metadata": {},
     "execution_count": 16
    },
    {
     "output_type": "display_data",
     "data": {
      "text/plain": [
       "<Figure size 432x288 with 1 Axes>"
      ],
      "image/png": "[encoded data removed]"
     },
     "metadata": {
      "needs_background": "light"
     }
    }
   ],
   "metadata": {}
  },
  {
   "cell_type": "markdown",
   "source": [
    "## Annotating threshold value in the RUC-AOC curve\n",
    "\n",
    "When we only plot the TPR and the FPR against each other we'll loose the threshold information. However, we can easily add them to the plot. In the below example with some randomly generated X and Y data, I annotated every 5th value but this should be enough the see the relationship (high confidence - bottom left, low confidence - top right)."
   ],
   "metadata": {
    "pycharm": {
     "name": "#%% md\n"
    }
   }
  },
  {
   "cell_type": "code",
   "execution_count": 17,
   "source": [
    "from sklearn import metrics\n",
    "from sklearn.linear_model import LogisticRegression\n",
    "\n",
    "x = np.random.randint(40, 400, 100).reshape(-1, 1)\n",
    "y = np.random.randint(0, 2, 100)\n",
    "\n",
    "model = LogisticRegression()\n",
    "model.fit(x, y)\n",
    "probs = model.predict_proba(x)\n",
    "fpr, tpr, thresholds = metrics.roc_curve(y, probs[:,1])\n",
    "\n",
    "# %%\n",
    "plt.subplots(figsize=(10, 6))\n",
    "plt.plot(fpr, tpr, 'o-', label=\"ROC curve\")\n",
    "plt.plot(np.linspace(0,1,10), np.linspace(0,1,10), label=\"diagonal\")\n",
    "for x, y, txt in zip(fpr[::5], tpr[::5], thresholds[::5]):\n",
    "    plt.annotate(np.round(txt,2), (x, y-0.04))\n",
    "rnd_idx = 27\n",
    "plt.annotate('this point refers to the tpr and the fpr\\n at a probability threshold of {}'.format(np.round(thresholds[rnd_idx], 2)),\n",
    "             xy=(fpr[rnd_idx], tpr[rnd_idx]), xytext=(fpr[rnd_idx]+0.2, tpr[rnd_idx]-0.25),\n",
    "             arrowprops=dict(facecolor='black', lw=2, arrowstyle='->'),)\n",
    "plt.legend(loc=\"upper left\")\n",
    "plt.xlabel(\"FPR\")\n",
    "plt.ylabel(\"TPR\")\n",
    "plt.show()"
   ],
   "outputs": [
    {
     "output_type": "display_data",
     "data": {
      "text/plain": [
       "<Figure size 720x432 with 1 Axes>"
      ],
      "image/png": "[encoded data removed]"
     },
     "metadata": {
      "needs_background": "light"
     }
    }
   ],
   "metadata": {
    "collapsed": false,
    "jupyter": {
     "outputs_hidden": false
    },
    "pycharm": {
     "name": "#%%\n"
    }
   }
  },
  {
   "cell_type": "markdown",
   "source": [
    "## After plotting ROC-Curve - next question is how the threshold relates back to the values of the variable (x) for identification of the cut off.\n",
    "\n",
    "Simple ans is we can not.\n",
    "\n",
    "X was our input matrix on which we performed the prediction. The thresholds are only related to the prediction from the classifier (\"probabilities\" values)."
   ],
   "metadata": {
    "pycharm": {
     "name": "#%% md\n"
    }
   }
  },
  {
   "cell_type": "markdown",
   "source": [
    "\n",
    "# C. Computing the best threshold\n",
    "\n",
    "### Compute the best threshold (similarly to ROC curve computation) of probability which gives lowest values of metric A for the given data 5_c.csv\n",
    "\n",
    "we will be predicting label of a data points like this:\n",
    "\n",
    "## $$ y^{pred} = [0 \\text{ if } y_{score} < \\text{ threshold }  \\text{ else } 1 $$\n",
    "\n",
    "$ A = 500 \\times \\text{number of false negative} + 100 \\times \\text{numebr of false positive}$\n",
    "\n",
    "Note 1: in this data we can see number of negative points > number of positive points"
   ],
   "metadata": {
    "pycharm": {
     "name": "#%% md\n"
    }
   }
  },
  {
   "cell_type": "code",
   "execution_count": 18,
   "source": [
    "df_5_c = pd.read_csv('./5_c.csv')\n",
    "print('df_5_c.shape ', df_5_c.shape)\n",
    "df_5_c.head()"
   ],
   "outputs": [
    {
     "output_type": "stream",
     "name": "stdout",
     "text": [
      "df_5_c.shape  (2852, 2)\n"
     ]
    },
    {
     "output_type": "execute_result",
     "data": {
      "text/plain": [
       "   y      prob\n",
       "0  0  0.458521\n",
       "1  0  0.505037\n",
       "2  0  0.418652\n",
       "3  0  0.412057\n",
       "4  0  0.375579"
      ],
      "text/html": [
       "<div>\n",
       "<style scoped>\n",
       "    .dataframe tbody tr th:only-of-type {\n",
       "        vertical-align: middle;\n",
       "    }\n",
       "\n",
       "    .dataframe tbody tr th {\n",
       "        vertical-align: top;\n",
       "    }\n",
       "\n",
       "    .dataframe thead th {\n",
       "        text-align: right;\n",
       "    }\n",
       "</style>\n",
       "<table border=\"1\" class=\"dataframe\">\n",
       "  <thead>\n",
       "    <tr style=\"text-align: right;\">\n",
       "      <th></th>\n",
       "      <th>y</th>\n",
       "      <th>prob</th>\n",
       "    </tr>\n",
       "  </thead>\n",
       "  <tbody>\n",
       "    <tr>\n",
       "      <th>0</th>\n",
       "      <td>0</td>\n",
       "      <td>0.458521</td>\n",
       "    </tr>\n",
       "    <tr>\n",
       "      <th>1</th>\n",
       "      <td>0</td>\n",
       "      <td>0.505037</td>\n",
       "    </tr>\n",
       "    <tr>\n",
       "      <th>2</th>\n",
       "      <td>0</td>\n",
       "      <td>0.418652</td>\n",
       "    </tr>\n",
       "    <tr>\n",
       "      <th>3</th>\n",
       "      <td>0</td>\n",
       "      <td>0.412057</td>\n",
       "    </tr>\n",
       "    <tr>\n",
       "      <th>4</th>\n",
       "      <td>0</td>\n",
       "      <td>0.375579</td>\n",
       "    </tr>\n",
       "  </tbody>\n",
       "</table>\n",
       "</div>"
      ]
     },
     "metadata": {},
     "execution_count": 18
    }
   ],
   "metadata": {
    "collapsed": false,
    "jupyter": {
     "outputs_hidden": false
    },
    "pycharm": {
     "name": "#%%\n"
    }
   }
  },
  {
   "cell_type": "code",
   "execution_count": 19,
   "source": [
    "actual_y_train_arr_5_c = df_5_c.iloc[:, 0].values\n",
    "print('actual_y_train_arr_5_c ', actual_y_train_arr_5_c)\n",
    "\n",
    "y_proba_5_c = df_5_c.iloc[:, 1].values\n",
    "print('y_proba_5_c ', y_proba_5_c)\n",
    "\n",
    "unique_probability_thresholds_5_c = np.unique(df_5_c['prob'])\n"
   ],
   "outputs": [
    {
     "output_type": "stream",
     "name": "stdout",
     "text": [
      "actual_y_train_arr_5_c  [0 0 0 ... 1 1 1]\n",
      "y_proba_5_c  [0.45852068 0.50503693 0.41865174 ... 0.65916054 0.45626546 0.65916054]\n"
     ]
    }
   ],
   "metadata": {
    "collapsed": false,
    "jupyter": {
     "outputs_hidden": false
    },
    "pycharm": {
     "name": "#%%\n"
    }
   }
  },
  {
   "cell_type": "code",
   "execution_count": 20,
   "source": [
    "# First I will modify the above get_tpr_fpr() function to return the value of A\n",
    "\n",
    "def get_A_metric(y_actual, y_probabilities, threshold):\n",
    "    tp = 0\n",
    "    fp = 0\n",
    "    tn = 0\n",
    "    fn = 0\n",
    "\n",
    "    min_a = float('inf')\n",
    "\n",
    "    for i in range(len(y_probabilities)):\n",
    "        if y_probabilities[i] >= threshold :\n",
    "            if y_actual[i] == 1:\n",
    "                tp += 1\n",
    "            else:\n",
    "                fp += 1\n",
    "\n",
    "        if y_probabilities[i] < threshold:\n",
    "            if y_actual[i] == 0:\n",
    "                tn += 1\n",
    "            else:\n",
    "                fn += 1\n",
    "\n",
    "    A = (500 * fn) + (100 * fp)\n",
    "\n",
    "    return A\n"
   ],
   "outputs": [],
   "metadata": {
    "collapsed": false,
    "jupyter": {
     "outputs_hidden": false
    },
    "pycharm": {
     "name": "#%%\n"
    }
   }
  },
  {
   "cell_type": "code",
   "execution_count": 21,
   "source": [
    "# Now a function to traverse the entire unique probability thresholds array\n",
    "# and return the minimum value of A and also the corresponding threshold\n",
    "\n",
    "def get_minimized_a(y_actual, y_probabilities, total_threshold_arr ):\n",
    "  min_a = float('inf')\n",
    "  min_t = 0\n",
    "\n",
    "  for threshold in total_threshold_arr:\n",
    "    a = get_A_metric(y_actual, y_probabilities, threshold)\n",
    "    if a <= min_a:\n",
    "        min_a = min(a, min_a)\n",
    "        min_t = threshold\n",
    "\n",
    "  return min_a, min_t"
   ],
   "outputs": [],
   "metadata": {
    "collapsed": false,
    "jupyter": {
     "outputs_hidden": false
    },
    "pycharm": {
     "name": "#%%\n"
    }
   }
  },
  {
   "cell_type": "code",
   "execution_count": 22,
   "source": [
    "print(get_minimized_a(actual_y_train_arr_5_c, y_proba_5_c, unique_probability_thresholds_5_c ))\n",
    "# (141000, 0.2300390278970873)"
   ],
   "outputs": [
    {
     "output_type": "stream",
     "name": "stdout",
     "text": [
      "(141000, 0.2300390278970873)\n"
     ]
    }
   ],
   "metadata": {
    "collapsed": false,
    "jupyter": {
     "outputs_hidden": false
    },
    "pycharm": {
     "name": "#%%\n"
    }
   }
  },
  {
   "cell_type": "markdown",
   "source": [
    "So that thats the minimum value of **A** which is 141000\n",
    "\n",
    "and the corresponding threshold is 0.2300390278970873"
   ],
   "metadata": {}
  },
  {
   "cell_type": "code",
   "execution_count": 23,
   "source": [
    "# from sklearn.metrics import r2_score\n",
    "\n",
    "df_5_d = pd.read_csv('./5_d.csv')\n",
    "df_5_d.head()"
   ],
   "outputs": [
    {
     "output_type": "execute_result",
     "data": {
      "text/plain": [
       "       y   pred\n",
       "0  101.0  100.0\n",
       "1  120.0  100.0\n",
       "2  131.0  113.0\n",
       "3  164.0  125.0\n",
       "4  154.0  152.0"
      ],
      "text/html": [
       "<div>\n",
       "<style scoped>\n",
       "    .dataframe tbody tr th:only-of-type {\n",
       "        vertical-align: middle;\n",
       "    }\n",
       "\n",
       "    .dataframe tbody tr th {\n",
       "        vertical-align: top;\n",
       "    }\n",
       "\n",
       "    .dataframe thead th {\n",
       "        text-align: right;\n",
       "    }\n",
       "</style>\n",
       "<table border=\"1\" class=\"dataframe\">\n",
       "  <thead>\n",
       "    <tr style=\"text-align: right;\">\n",
       "      <th></th>\n",
       "      <th>y</th>\n",
       "      <th>pred</th>\n",
       "    </tr>\n",
       "  </thead>\n",
       "  <tbody>\n",
       "    <tr>\n",
       "      <th>0</th>\n",
       "      <td>101.0</td>\n",
       "      <td>100.0</td>\n",
       "    </tr>\n",
       "    <tr>\n",
       "      <th>1</th>\n",
       "      <td>120.0</td>\n",
       "      <td>100.0</td>\n",
       "    </tr>\n",
       "    <tr>\n",
       "      <th>2</th>\n",
       "      <td>131.0</td>\n",
       "      <td>113.0</td>\n",
       "    </tr>\n",
       "    <tr>\n",
       "      <th>3</th>\n",
       "      <td>164.0</td>\n",
       "      <td>125.0</td>\n",
       "    </tr>\n",
       "    <tr>\n",
       "      <th>4</th>\n",
       "      <td>154.0</td>\n",
       "      <td>152.0</td>\n",
       "    </tr>\n",
       "  </tbody>\n",
       "</table>\n",
       "</div>"
      ]
     },
     "metadata": {},
     "execution_count": 23
    }
   ],
   "metadata": {
    "collapsed": false,
    "jupyter": {
     "outputs_hidden": false
    },
    "pycharm": {
     "name": "#%%\n"
    }
   }
  },
  {
   "cell_type": "code",
   "execution_count": 24,
   "source": [
    "# print(df_5_d.to_numpy())\n",
    "actual_y_train_arr_5d = df_5_d.iloc[:, 0].values\n",
    "print('actual_y_train_arr_5d ', actual_y_train_arr_5d)\n",
    "predicted_y_arr_5d = df_5_d.iloc[:, 1].values\n",
    "print('predicted_y_arr_5d ', predicted_y_arr_5d)"
   ],
   "outputs": [
    {
     "output_type": "stream",
     "name": "stdout",
     "text": [
      "actual_y_train_arr_5d  [101. 120. 131. ... 106. 105.  81.]\n",
      "predicted_y_arr_5d  [100. 100. 113. ...  93. 101. 104.]\n"
     ]
    }
   ],
   "metadata": {
    "collapsed": false,
    "jupyter": {
     "outputs_hidden": false
    },
    "pycharm": {
     "name": "#%%\n"
    }
   }
  },
  {
   "cell_type": "markdown",
   "source": [
    "# Coefficient of determination or $R^2$ calculation\n",
    "\n",
    "[See Definitions of $R^2$ error](https://en.wikipedia.org/wiki/Coefficient_of_determination#Definitions)\n",
    "\n",
    "Coefficient of determination also called as $R^2$ score is used to evaluate the performance of a linear regression model. It is the amount of the variation in the output dependent attribute which is predictable from the input independent variable(s). It is used to check how well-observed results are reproduced by the model, depending on the ratio of total deviation of results described by the model.\n",
    "\n",
    "Assume R2 = 0.68\n",
    "It can be referred that 68% of the changeability of the dependent output attribute can be explained by the model while the remaining 32 % of the variability is still unaccounted for.\n",
    "R2 indicates the proportion of data points which lie within the line created by the regression equation. A higher value of R2 is desirable as it indicates better results.\n",
    "\n",
    "R² is calculated by taking one minus the sum of squares of residuals divided by the total sum of squares.\n",
    "\n",
    "![Imgur](https://imgur.com/X0zWQho.png)"
   ],
   "metadata": {}
  },
  {
   "cell_type": "code",
   "execution_count": 25,
   "source": [
    "# Checking the r-square metric with sklearn\n",
    "from sklearn.metrics import r2_score\n",
    "\n",
    "sklearn_r2 = r2_score(actual_y_train_arr_5d, predicted_y_arr_5d)\n",
    "sklearn_r2"
   ],
   "outputs": [
    {
     "output_type": "execute_result",
     "data": {
      "text/plain": [
       "0.9563582786990937"
      ]
     },
     "metadata": {},
     "execution_count": 25
    }
   ],
   "metadata": {
    "collapsed": false,
    "jupyter": {
     "outputs_hidden": false
    },
    "pycharm": {
     "name": "#%%\n"
    }
   }
  },
  {
   "cell_type": "code",
   "execution_count": 26,
   "source": [
    "def calculate_r2_score(y_train, y_predicted):\n",
    "    y_train_bar = y_train.mean()\n",
    "    # y_train_bar = np.mean(y_train)\n",
    "\n",
    "    sum_squared_residual = ((y_train - y_predicted)**2).sum()\n",
    "    sum_squared_total = ((y_train - y_train_bar)**2).sum()\n",
    "\n",
    "    return 1 - (sum_squared_residual/sum_squared_total)\n",
    "\n",
    "print(calculate_r2_score(actual_y_train_arr_5d, predicted_y_arr_5d))\n"
   ],
   "outputs": [
    {
     "output_type": "stream",
     "name": "stdout",
     "text": [
      "0.9563582786990937\n"
     ]
    }
   ],
   "metadata": {
    "collapsed": false,
    "jupyter": {
     "outputs_hidden": false
    },
    "pycharm": {
     "name": "#%%\n"
    }
   }
  },
  {
   "cell_type": "markdown",
   "source": [
    "## So the r-square measures matches between my custom function and sklearn's inbuilt funcion\n",
    "\n",
    "---\n",
    "\n",
    "# Mean Squared Error (MSE) / Mean Squared Deviation (MSD)\n",
    "\n",
    "The Mean Squared Error measures the average of the errors squared. It basically calculates the difference between the estimated and the actual value, squares these results and then computes their average.\n",
    "\n",
    "Because the errors are squared, MSE can only assume non-negative values. Due to the intrinsic randomness and noise associated with most processes, MSE is usually positive and not zero.\n",
    "\n",
    "![Imgur](https://imgur.com/GWH0ap5.png)"
   ],
   "metadata": {}
  },
  {
   "cell_type": "code",
   "execution_count": 27,
   "source": [
    "def calculate_mse(y_actual, y_predicted):\n",
    "    mse = np.mean((y_actual - y_predicted)**2)\n",
    "    return mse\n",
    "\n",
    "print(calculate_mse(actual_y_train_arr_5d, predicted_y_arr_5d))\n"
   ],
   "outputs": [
    {
     "output_type": "stream",
     "name": "stdout",
     "text": [
      "177.16569974554707\n"
     ]
    }
   ],
   "metadata": {
    "collapsed": false,
    "jupyter": {
     "outputs_hidden": false
    },
    "pycharm": {
     "name": "#%%\n"
    }
   }
  },
  {
   "cell_type": "code",
   "execution_count": 28,
   "source": [
    "# Checking the Mean Square Error metric with sklearn\n",
    "from sklearn.metrics import mean_squared_error\n",
    "\n",
    "sklearn_mse = mean_squared_error(actual_y_train_arr_5d, predicted_y_arr_5d)\n",
    "sklearn_mse"
   ],
   "outputs": [
    {
     "output_type": "execute_result",
     "data": {
      "text/plain": [
       "177.16569974554707"
      ]
     },
     "metadata": {},
     "execution_count": 28
    }
   ],
   "metadata": {
    "collapsed": false,
    "jupyter": {
     "outputs_hidden": false
    },
    "pycharm": {
     "name": "#%%\n"
    }
   }
  },
  {
   "cell_type": "markdown",
   "source": [
    "## So the Mean Squared Error measures matches between my custom function and sklearn's inbuilt funcion\n",
    "\n",
    "---\n",
    "\n",
    "# Mean Absolute Percentage Error (MAPE)\n",
    "\n",
    "The Mean Absolute Percentage Error measures the error between actual and forecasted values as a percentage. It achieves so by calculating it similarly to MAE, but also dividing it by the actual value, expressing the result as a percentage.\n",
    "\n",
    "By expressing the error as a percentage, we can have a better understanding of how off our predictions are in relative terms. For instance, if we were to predict next year’s spending, an MAE error of $50 could be both a relatively good or bad approximation.\n",
    "\n",
    "![Imgur](https://imgur.com/zCFJTE6.png)\n"
   ],
   "metadata": {}
  },
  {
   "cell_type": "code",
   "execution_count": 29,
   "source": [
    "# The below will return the % value i.e 12.9 means 12.9%\n",
    "def calculate_mean_absolute_percentage_error(y_actual, y_predicted):\n",
    "    mape = np.mean((np.abs(y_actual - y_predicted)) / np.mean(y_actual)) * 100\n",
    "    return mape\n",
    "\n",
    "print(calculate_mean_absolute_percentage_error(actual_y_train_arr_5d, predicted_y_arr_5d))"
   ],
   "outputs": [
    {
     "output_type": "stream",
     "name": "stdout",
     "text": [
      "12.912029940096867\n"
     ]
    }
   ],
   "metadata": {
    "collapsed": false,
    "jupyter": {
     "outputs_hidden": false
    },
    "pycharm": {
     "name": "#%%\n"
    }
   }
  },
  {
   "cell_type": "markdown",
   "source": [
    "### When one of the actual data-point is zero\n",
    "\n",
    "https://en.wikipedia.org/wiki/Mean_absolute_percentage_error\n",
    "\n",
    "Problems can occur when calculating the MAPE value with a series of small denominators. A singularity problem of the form 'one divided by zero' and/or the creation of very large changes in the Absolute Percentage Error, caused by a small deviation in error, can occur.\n",
    "\n",
    "As an alternative, each actual value (At) of the series in the original formula can be replaced by the average of all actual values (Āt) of that series. This alternative is still being used for measuring the performance of models that forecast spot electricity prices.[2]\n",
    "\n",
    "Note that this is equivalent to dividing the sum of absolute differences by the sum of actual values, and is sometimes referred to as WAPE (weighted absolute percentage error).\n",
    "\n",
    "So in that case the formulate becomes\n",
    "\n",
    "![Imgur](https://imgur.com/KTg47Gk.png)\n",
    "\n",
    "The derivation is as follows.\n",
    "\n",
    "![Imgur](https://imgur.com/Lm45BRD.png)\n",
    "\n",
    "Basically,\n",
    "\n",
    "```python\n",
    "\n",
    "mean(actual_value) = sum(actual_value) / n\n",
    "\n",
    "hence n * mean(actual_value = sum(a)\n",
    "\n",
    "```\n"
   ],
   "metadata": {}
  },
  {
   "cell_type": "code",
   "execution_count": 30,
   "source": [
    "def calculate_mean_absolute_percentage_error_2(y_actual, y_predicted):\n",
    "    mape = ((np.sum(np.abs(y_actual - y_predicted))) / np.sum(y_actual)) * 100\n",
    "    return mape\n",
    "\n",
    "print(calculate_mean_absolute_percentage_error_2(actual_y_train_arr_5d, predicted_y_arr_5d))"
   ],
   "outputs": [
    {
     "output_type": "stream",
     "name": "stdout",
     "text": [
      "12.91202994009687\n"
     ]
    }
   ],
   "metadata": {
    "collapsed": false,
    "jupyter": {
     "outputs_hidden": false
    },
    "pycharm": {
     "name": "#%%\n"
    }
   }
  }
 ],
 "metadata": {
  "kernelspec": {
   "display_name": "Python 3",
   "language": "python",
   "name": "python3"
  },
  "language_info": {
   "codemirror_mode": {
    "name": "ipython",
    "version": 3
   },
   "file_extension": ".py",
   "mimetype": "text/x-python",
   "name": "python",
   "nbconvert_exporter": "python",
   "pygments_lexer": "ipython3",
   "version": "3.7.6"
  }
 },
 "nbformat": 4,
 "nbformat_minor": 4
}