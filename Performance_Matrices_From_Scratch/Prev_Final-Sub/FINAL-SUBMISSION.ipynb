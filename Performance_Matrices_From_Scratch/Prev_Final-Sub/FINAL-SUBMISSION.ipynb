{
 "cells": [
  {
   "cell_type": "markdown",
   "metadata": {
    "pycharm": {
     "name": "#%% md\n"
    }
   },
   "source": [
    "## A. Compute performance metrics for the given data 5_a.csv\n",
    "\n",
    "  Note 1: in this data you can see number of positive points >> number of negatives points\n",
    "\n",
    "  Note 3: you need to derive the class labels from given score\n",
    "\n",
    "  $y^{pred}= \\text{[0 if y_score < 0.5 else 1]}$\n",
    "\n",
    "\n",
    " - Compute Confusion Matrix\n",
    "\n",
    " - Compute F1 Score\n",
    "\n",
    " - Compute AUC Score, you need to compute different thresholds and for each threshold compute tpr,fpr and then use\n",
    "\n",
    " numpy.trapz(tpr_array, fpr_array)\n",
    "\n",
    " https://stackoverflow.com/q/53603376/4084039\n",
    "\n",
    " https://stackoverflow.com/a/39678975/4084039\n",
    "\n",
    " Note: it should be numpy.trapz(tpr_array, fpr_array) not numpy.trapz(fpr_array, tpr_array)\n",
    "\n",
    "- Compute Accuracy Score"
   ]
  },
  {
   "cell_type": "code",
   "execution_count": 1,
   "metadata": {},
   "outputs": [
    {
     "name": "stdout",
     "output_type": "stream",
     "text": [
      "(10100, 2)\n"
     ]
    },
    {
     "data": {
      "text/plain": "     y     proba\n0  1.0  0.637387\n1  1.0  0.635165\n2  1.0  0.766586\n3  1.0  0.724564\n4  1.0  0.889199",
      "text/html": "<div>\n<style scoped>\n    .dataframe tbody tr th:only-of-type {\n        vertical-align: middle;\n    }\n\n    .dataframe tbody tr th {\n        vertical-align: top;\n    }\n\n    .dataframe thead th {\n        text-align: right;\n    }\n</style>\n<table border=\"1\" class=\"dataframe\">\n  <thead>\n    <tr style=\"text-align: right;\">\n      <th></th>\n      <th>y</th>\n      <th>proba</th>\n    </tr>\n  </thead>\n  <tbody>\n    <tr>\n      <th>0</th>\n      <td>1.0</td>\n      <td>0.637387</td>\n    </tr>\n    <tr>\n      <th>1</th>\n      <td>1.0</td>\n      <td>0.635165</td>\n    </tr>\n    <tr>\n      <th>2</th>\n      <td>1.0</td>\n      <td>0.766586</td>\n    </tr>\n    <tr>\n      <th>3</th>\n      <td>1.0</td>\n      <td>0.724564</td>\n    </tr>\n    <tr>\n      <th>4</th>\n      <td>1.0</td>\n      <td>0.889199</td>\n    </tr>\n  </tbody>\n</table>\n</div>"
     },
     "execution_count": 1,
     "metadata": {},
     "output_type": "execute_result"
    }
   ],
   "source": [
    "import numpy as np\n",
    "import pandas as pd\n",
    "import matplotlib.pyplot as plt\n",
    "# imporint roc_auc_score from sklearn to cross check\n",
    "# scores with my custom function's output\n",
    "from sklearn.metrics import roc_auc_score\n",
    "from tqdm import tqdm\n",
    "\n",
    "# df_5_a = pd.read_csv('../Instructions-AML/5_a.csv')\n",
    "df_5_a = pd.read_csv('https://raw.githubusercontent.com/rohan-paul/Multiple-Dataset/main/5-Performance-metrics-without-Sklearn/5_a.csv')\n",
    "print(df_5_a.shape)\n",
    "df_5_a.head()"
   ]
  },
  {
   "cell_type": "code",
   "execution_count": 2,
   "metadata": {
    "collapsed": false,
    "jupyter": {
     "outputs_hidden": false
    },
    "pycharm": {
     "name": "#%%\n"
    }
   },
   "outputs": [
    {
     "data": {
      "text/plain": "     y     proba  y_predicted\n0  1.0  0.637387          1.0\n1  1.0  0.635165          1.0\n2  1.0  0.766586          1.0\n3  1.0  0.724564          1.0\n4  1.0  0.889199          1.0",
      "text/html": "<div>\n<style scoped>\n    .dataframe tbody tr th:only-of-type {\n        vertical-align: middle;\n    }\n\n    .dataframe tbody tr th {\n        vertical-align: top;\n    }\n\n    .dataframe thead th {\n        text-align: right;\n    }\n</style>\n<table border=\"1\" class=\"dataframe\">\n  <thead>\n    <tr style=\"text-align: right;\">\n      <th></th>\n      <th>y</th>\n      <th>proba</th>\n      <th>y_predicted</th>\n    </tr>\n  </thead>\n  <tbody>\n    <tr>\n      <th>0</th>\n      <td>1.0</td>\n      <td>0.637387</td>\n      <td>1.0</td>\n    </tr>\n    <tr>\n      <th>1</th>\n      <td>1.0</td>\n      <td>0.635165</td>\n      <td>1.0</td>\n    </tr>\n    <tr>\n      <th>2</th>\n      <td>1.0</td>\n      <td>0.766586</td>\n      <td>1.0</td>\n    </tr>\n    <tr>\n      <th>3</th>\n      <td>1.0</td>\n      <td>0.724564</td>\n      <td>1.0</td>\n    </tr>\n    <tr>\n      <th>4</th>\n      <td>1.0</td>\n      <td>0.889199</td>\n      <td>1.0</td>\n    </tr>\n  </tbody>\n</table>\n</div>"
     },
     "execution_count": 2,
     "metadata": {},
     "output_type": "execute_result"
    }
   ],
   "source": [
    "df_5_a['y_predicted'] = np.where(df_5_a['proba'] >= 0.5, float(1), float(0))\n",
    "df_5_a.head()\n"
   ]
  },
  {
   "cell_type": "code",
   "execution_count": 3,
   "metadata": {
    "collapsed": false,
    "jupyter": {
     "outputs_hidden": false
    },
    "pycharm": {
     "name": "#%%\n"
    }
   },
   "outputs": [],
   "source": [
    "# Checking to see if there's any 'proba' less than or equal to 0.5\n",
    "# And there is none. So all y_predicted will be classified as 1\n",
    "# df = df_5_a.loc[df_5_a['proba'] <= 0.5 ]\n",
    "# df.head()"
   ]
  },
  {
   "cell_type": "code",
   "execution_count": 4,
   "metadata": {
    "collapsed": false,
    "jupyter": {
     "outputs_hidden": false
    },
    "pycharm": {
     "name": "#%%\n"
    }
   },
   "outputs": [],
   "source": [
    "# print(df_5_a.to_numpy())\n",
    "actual_y_train_arr = df_5_a.iloc[:, 0].values\n",
    "predicted_y_arr = df_5_a.iloc[:, 2].values\n",
    "y_proba = df_5_a.iloc[:, 1].values\n"
   ]
  },
  {
   "cell_type": "code",
   "execution_count": 5,
   "metadata": {
    "collapsed": false,
    "jupyter": {
     "outputs_hidden": false
    },
    "pycharm": {
     "name": "#%%\n"
    }
   },
   "outputs": [
    {
     "name": "stdout",
     "output_type": "stream",
     "text": [
      "[[10000.   100.]\n",
      " [    0.     0.]]\n"
     ]
    }
   ],
   "source": [
    "def get_confusion_matrix(true_y_classes_array, predicted_y_classes_array):\n",
    "\n",
    "  unique_classes = np.unique(true_y_classes_array)\n",
    "  # For a binary class the above will give me [0 1] numpy array\n",
    "  # so top-left of confusion matrix will start from 0 i.e. 'True Negative'\n",
    "\n",
    "  # But the challenge here asks that the top left will be 'True Positive'\n",
    "  # Hence I need to reverse the above numpy array\n",
    "  unique_classes = unique_classes[::-1]\n",
    "  # print('reversed unique', unique_classes) # will convert the above array to [1 0]\n",
    "\n",
    "  # initialize a matrix with zero values that will be the final confusion matrix\n",
    "  # For the binary class-label dataset, this confusion matrix will be a 2*2 square matrix\n",
    "  confusion_matrix = np.zeros((len(unique_classes), len(unique_classes)))\n",
    "\n",
    "  for i in range(len(unique_classes)):\n",
    "    for j in range(len(unique_classes)):\n",
    "      confusion_matrix[i, j] = np.sum((true_y_classes_array == unique_classes[j]) & (predicted_y_classes_array == unique_classes[i]))\n",
    "\n",
    "  return confusion_matrix\n",
    "\n",
    "confusion_matrix_5_a = get_confusion_matrix(actual_y_train_arr, predicted_y_arr)\n",
    "print(confusion_matrix_5_a)\n",
    "\n",
    "true_negative, false_positive, false_negative, true_positive = int(confusion_matrix_5_a[1][1]), int(confusion_matrix_5_a[0][1]), int(confusion_matrix_5_a[1][0]), int(confusion_matrix_5_a[0][0])"
   ]
  },
  {
   "cell_type": "markdown",
   "metadata": {
    "pycharm": {
     "name": "#%% md\n"
    }
   },
   "source": [
    "### Explanations and notes on above Confusion matrix function\n",
    "\n",
    "![img](https://i.imgur.com/1A3Izpg.png)\n",
    "\n",
    "#### Note `unique_classes[0]` is 1 and `unique_classes[1]` = 0\n",
    "\n",
    "### For first row of my final confusion_matrix\n",
    "\n",
    "`confusion_matrix[0,0]` => i.e. i, j = 0, 0 => will have the Total 'True' count (i.e. `np.sum()`) of following conditions\n",
    "\n",
    "`(true_y_classes_array == unique_classes[0]) & (predicted_y_classes_array == unique_classes[0])`\n",
    "\n",
    "Similarly for `confusion_matrix[0, 1]` => i.e. i, j = 0, 1 => will have the Total 'True' count (i.e. `np.sum()`)  of following conditions\n",
    "\n",
    "`(true_y_classes_array == unique_classes[1]) & (predicted_y_classes_array == unique_classes[0])`\n",
    "\n",
    "---\n",
    "\n",
    "### Now second row\n",
    "\n",
    "And for second row of my final confusion_matrix\n",
    "\n",
    "`confusion_matrix[1,0]`  => i.e. i, j = 1, 0 => will have the Total 'True' count (i.e. `np.sum()`)  of following conditions\n",
    "\n",
    "`(true_y_classes_array == unique_classes[0]) & (predicted_y_classes_array == unique_classes[1])`\n",
    "\n",
    "Similarly for `confusion_matrix[1, 1]`  => i.e. i, j = 1, 1  => will have the Total 'True' count (i.e. `np.sum()`) of following conditions\n",
    "\n",
    "\n",
    "`(true_y_classes_array == unique_classes[1]) & (predicted_y_classes_array == unique_classes[1])`"
   ]
  },
  {
   "cell_type": "code",
   "execution_count": 6,
   "metadata": {
    "collapsed": false,
    "jupyter": {
     "outputs_hidden": false
    },
    "pycharm": {
     "name": "#%%\n"
    }
   },
   "outputs": [
    {
     "name": "stdout",
     "output_type": "stream",
     "text": [
      "True\n"
     ]
    }
   ],
   "source": [
    "# To check that the total num of elements of the original dataframe matches\n",
    "# with the counts captured in the confusion matrix\n",
    "# sum-all-the-elements-of-the confusion_matrix_5_a\n",
    "sum_all_elements_of_confusion_matrix = np.concatenate(confusion_matrix_5_a).sum()\n",
    "print(sum_all_elements_of_confusion_matrix == df_5_a.shape[0] )"
   ]
  },
  {
   "cell_type": "code",
   "execution_count": 7,
   "metadata": {
    "collapsed": false,
    "jupyter": {
     "outputs_hidden": false
    },
    "pycharm": {
     "name": "#%%\n"
    }
   },
   "outputs": [
    {
     "name": "stdout",
     "output_type": "stream",
     "text": [
      "[[    0   100]\n",
      " [    0 10000]]\n"
     ]
    }
   ],
   "source": [
    "# Testing my custom confusion_matrix result with scikit-learn\n",
    "from sklearn.metrics import confusion_matrix\n",
    "sklearn_confustion_matrix = confusion_matrix(actual_y_train_arr, predicted_y_arr)\n",
    "print(sklearn_confustion_matrix)"
   ]
  },
  {
   "cell_type": "code",
   "execution_count": 8,
   "metadata": {
    "collapsed": false,
    "jupyter": {
     "outputs_hidden": false
    },
    "pycharm": {
     "name": "#%%\n"
    }
   },
   "outputs": [
    {
     "name": "stdout",
     "output_type": "stream",
     "text": [
      "From Scikit learn  0 100 0 10000\n",
      "From our custom function  0 100 0 10000\n"
     ]
    }
   ],
   "source": [
    "# Verifying individual elements of the Confusion matrix from my custom result with scikit-learn\n",
    "tn, fp, fn, tp = confusion_matrix(actual_y_train_arr, predicted_y_arr).ravel()\n",
    "print(\"From Scikit learn \", tn, fp, fn, tp)\n",
    "print(\"From our custom function \", true_negative, false_positive, false_negative, true_positive)"
   ]
  },
  {
   "cell_type": "markdown",
   "metadata": {
    "pycharm": {
     "name": "#%% md\n"
    }
   },
   "source": [
    "### From above we can see the values of the confution Matrix matches between scikit-learn and our custom-implementation\n",
    "\n",
    "---\n",
    "\n",
    "## F1 Score\n",
    "\n",
    "![img](https://i.imgur.com/ZPntYB0.jpg)\n",
    "\n",
    "![Imgur](https://imgur.com/qy5Fesd.jpg)\n"
   ]
  },
  {
   "cell_type": "code",
   "execution_count": 9,
   "metadata": {
    "collapsed": false,
    "jupyter": {
     "outputs_hidden": false
    },
    "pycharm": {
     "name": "#%%\n"
    }
   },
   "outputs": [
    {
     "name": "stdout",
     "output_type": "stream",
     "text": [
      "My custom function's f1_score and accuracy_score  (0.9950248756218906, 0.9900990099009901)\n"
     ]
    }
   ],
   "source": [
    "# the below function will work only for\n",
    "# binary confusion matrix\n",
    "def get_f1_score_accuracy_score(binary_conf_matrix):\n",
    "    true_negative  = binary_conf_matrix[1][1]    \n",
    "    false_positive = binary_conf_matrix[0][1]\n",
    "    false_negative = binary_conf_matrix[1][0]\n",
    "    true_positive = binary_conf_matrix[0][0]\n",
    "\n",
    "    precision = true_positive / (true_positive + false_positive)\n",
    "    recall = true_positive/ (true_positive + false_negative)\n",
    "    \n",
    "    f1_score = (2 * (precision * recall)) / (precision + recall )\n",
    "    \n",
    "    sum_all_elements_of_confusion_matrix = np.concatenate(binary_conf_matrix).sum()\n",
    "    \n",
    "    accuracy_score = (true_positive + true_negative)/sum_all_elements_of_confusion_matrix\n",
    "    \n",
    "    return f1_score, accuracy_score\n",
    "\n",
    "\n",
    "print(\"My custom function's f1_score and accuracy_score \", get_f1_score_accuracy_score(confusion_matrix_5_a))  \n",
    "\n"
   ]
  },
  {
   "cell_type": "markdown",
   "metadata": {
    "jupyter": {
     "outputs_hidden": false
    },
    "pycharm": {
     "name": "#%% md\n"
    }
   },
   "source": [
    "### Now verifying the above F1-Score with that of sk-learn\n"
   ]
  },
  {
   "cell_type": "code",
   "execution_count": 10,
   "metadata": {
    "collapsed": false,
    "jupyter": {
     "outputs_hidden": false
    },
    "pycharm": {
     "name": "#%%\n"
    }
   },
   "outputs": [
    {
     "name": "stdout",
     "output_type": "stream",
     "text": [
      "sklearn_f1_score  0.9950248756218906\n",
      "sklearn_accuracy_score  0.9900990099009901\n"
     ]
    }
   ],
   "source": [
    "from sklearn.metrics import f1_score\n",
    "from sklearn.metrics import accuracy_score\n",
    "\n",
    "sklearn_f1_score = f1_score(actual_y_train_arr, predicted_y_arr)\n",
    "print('sklearn_f1_score ', sklearn_f1_score)\n",
    "\n",
    "sklearn_accuracy_score = accuracy_score(actual_y_train_arr, predicted_y_arr)\n",
    "print('sklearn_accuracy_score ', sklearn_accuracy_score)\n"
   ]
  },
  {
   "cell_type": "markdown",
   "metadata": {
    "pycharm": {
     "name": "#%% md\n"
    }
   },
   "source": [
    "### From above we can see the values of F1_score, accuracy_score matches between scikit-learn and our custom-implementation\n",
    "\n",
    "---\n",
    "\n",
    "## AUC-ROC Score Calculation\n",
    "\n",
    "The Receiver Operating Characetristic (ROC) curve is a graphical plot that allows us to assess the performance of binary classifiers. With imbalanced datasets, the Area Under the Curve (AUC) score is calculated from ROC and is a very useful metric in imbalanced datasets.\n",
    "\n",
    "TPR and FPR are defined as follows:\n",
    "\n",
    "- TPR = True Positives / All Positives = True Positives / (TP + FN)\n",
    "- FPR = False Positives / All negatives = False Positives / ( FP + TN )"
   ]
  },
  {
   "cell_type": "code",
   "execution_count": 11,
   "metadata": {
    "collapsed": false,
    "jupyter": {
     "outputs_hidden": false
    },
    "pycharm": {
     "name": "#%%\n"
    }
   },
   "outputs": [],
   "source": [
    "\n",
    "def get_single_tpr_fpr(df):\n",
    "\n",
    "    '''\n",
    "    Note, this implementation is only for binaly class labels (0 and 1)\n",
    "    :param df: the dataframe should have 'y' and 'y_predicted' as its labels\n",
    "    :return: a list containing tpr and fpr\n",
    "    '''\n",
    "\n",
    "    tp = ((df['y'] == 1.0 ) & (df['y_predicted'] == 1)).sum()\n",
    "    fp = ((df['y'] == 0.0 ) & (df['y_predicted'] == 1)).sum()\n",
    "    tn = ((df['y'] == 0.0 ) & (df['y_predicted'] == 0)).sum()\n",
    "    fn = ((df['y'] == 1.0 ) & (df['y_predicted'] == 0)).sum()\n",
    "\n",
    "    tpr = tp / (tp + fn )\n",
    "    fpr = fp / (fp + tn)\n",
    "\n",
    "    return [tpr, fpr]\n",
    "\n",
    "\n",
    "# While computing AUC score you need to calculate \"TP,\"FP\" at every threshold by using actual \"y\" and predicted \"y_pred\".\n",
    "\n",
    "def calculate_all_thresholds_tpr_fpr_arr(df_original):\n",
    "\n",
    "    '''\n",
    "\n",
    "    :param df_original: the original dataframe, which should have a 'proba' label\n",
    "    :return: two arrays, tpr_arr_for_all_thresholds, fpr_arr_for_all_thresholds\n",
    "    '''\n",
    "\n",
    "    tpr_arr_for_all_thresholds = []\n",
    "    fpr_arr_for_all_thresholds = []\n",
    "\n",
    "    sorted_df = df_original.sort_values(by=['proba'], ascending=False)\n",
    "\n",
    "    unique_probability_thresholds = sorted_df['proba'].unique()\n",
    "\n",
    "    for threshold in tqdm(unique_probability_thresholds):\n",
    "        sorted_df['y_predicted'] = np.where(sorted_df['proba'] >= threshold, 1, 0)\n",
    "        tpr_fpr_arr = get_single_tpr_fpr(sorted_df)\n",
    "        tpr_arr_for_all_thresholds.append(tpr_fpr_arr[0])\n",
    "        fpr_arr_for_all_thresholds.append(tpr_fpr_arr[1])\n",
    "\n",
    "    return tpr_arr_for_all_thresholds, fpr_arr_for_all_thresholds\n"
   ]
  },
  {
   "cell_type": "markdown",
   "source": [
    "### Now finally the AUC Score\n"
   ],
   "metadata": {
    "collapsed": false
   }
  },
  {
   "cell_type": "code",
   "execution_count": 12,
   "outputs": [
    {
     "name": "stderr",
     "output_type": "stream",
     "text": [
      "100%|██████████| 10100/10100 [00:50<00:00, 201.25it/s]\n"
     ]
    },
    {
     "name": "stdout",
     "output_type": "stream",
     "text": [
      "My Custom function ROC-AUC Score for 5_a.csv:  0.48829900000000004\n"
     ]
    }
   ],
   "source": [
    "all_tpr_together_5_a, all_fpr_together_5_a = calculate_all_thresholds_tpr_fpr_arr(df_5_a)\n",
    "auc_score_5_a = np.trapz(all_tpr_together_5_a, all_fpr_together_5_a)\n",
    "print('My Custom function ROC-AUC Score for 5_a.csv: ', auc_score_5_a)\n",
    "# My Custom function ROC-AUC Score for 5_a.csv:  0.48829900000000004"
   ],
   "metadata": {
    "collapsed": false,
    "pycharm": {
     "name": "#%%\n"
    }
   }
  },
  {
   "cell_type": "code",
   "execution_count": 13,
   "metadata": {
    "collapsed": false,
    "jupyter": {
     "outputs_hidden": false
    },
    "pycharm": {
     "name": "#%%\n"
    }
   },
   "outputs": [
    {
     "name": "stdout",
     "output_type": "stream",
     "text": [
      "sk-learn roc_auc_score for 5_a.csv:  0.48829900000000004\n"
     ]
    }
   ],
   "source": [
    "# Checking result with scikit-learn\n",
    "sklearn_roc_auc_score = roc_auc_score(actual_y_train_arr, y_proba)\n",
    "print('sk-learn roc_auc_score for 5_a.csv: ', sklearn_roc_auc_score)\n",
    "# sk-learn roc_auc_score:  0.48829900000000004"
   ]
  },
  {
   "cell_type": "markdown",
   "metadata": {
    "pycharm": {
     "name": "#%% md\n"
    }
   },
   "source": [
    "#### As we can see above the roc_auc_score matches between my Custom function and that of sklearn"
   ]
  },
  {
   "cell_type": "code",
   "execution_count": 14,
   "metadata": {
    "collapsed": false,
    "jupyter": {
     "outputs_hidden": false
    },
    "pycharm": {
     "name": "#%%\n"
    }
   },
   "outputs": [
    {
     "data": {
      "text/plain": "Text(0.5, 1.0, 'AUC=0.4883')"
     },
     "execution_count": 14,
     "metadata": {},
     "output_type": "execute_result"
    },
    {
     "data": {
      "text/plain": "<Figure size 432x288 with 1 Axes>",
      "image/png": "[encoded data removed]"
     },
     "metadata": {
      "needs_background": "light"
     },
     "output_type": "display_data"
    }
   ],
   "source": [
    "# Plotting of ROC-AUC Curve\n",
    "\n",
    "plt.plot(all_tpr_together_5_a, all_fpr_together_5_a, 'r', lw=2)\n",
    "plt.plot([0, 1], [0, 1], 'k-', lw=2)\n",
    "plt.xlabel('FPR')\n",
    "plt.ylabel('TPR')\n",
    "plt.title('AUC={}'.format(round(auc_score_5_a, 4)))\n"
   ]
  },
  {
   "cell_type": "markdown",
   "metadata": {
    "jupyter": {
     "outputs_hidden": false
    },
    "pycharm": {
     "is_executing": true,
     "name": "#%% md\n"
    }
   },
   "source": [
    "## Assignment-B for 5_b.csv\n",
    "\n",
    "Compute Confusion Matrix\n",
    "\n",
    "Compute F1 Score\n",
    "\n",
    "Compute AUC Score\n",
    "\n",
    "Compute Accuracy Score"
   ]
  },
  {
   "cell_type": "code",
   "execution_count": 15,
   "metadata": {
    "collapsed": false,
    "jupyter": {
     "outputs_hidden": false
    },
    "pycharm": {
     "name": "#%%\n"
    }
   },
   "outputs": [
    {
     "name": "stdout",
     "output_type": "stream",
     "text": [
      "df_5_b.shape  (10100, 2)\n"
     ]
    },
    {
     "data": {
      "text/plain": "     y     proba  y_predicted\n0  0.0  0.281035          0.0\n1  0.0  0.465152          0.0\n2  0.0  0.352793          0.0\n3  0.0  0.157818          0.0\n4  0.0  0.276648          0.0",
      "text/html": "<div>\n<style scoped>\n    .dataframe tbody tr th:only-of-type {\n        vertical-align: middle;\n    }\n\n    .dataframe tbody tr th {\n        vertical-align: top;\n    }\n\n    .dataframe thead th {\n        text-align: right;\n    }\n</style>\n<table border=\"1\" class=\"dataframe\">\n  <thead>\n    <tr style=\"text-align: right;\">\n      <th></th>\n      <th>y</th>\n      <th>proba</th>\n      <th>y_predicted</th>\n    </tr>\n  </thead>\n  <tbody>\n    <tr>\n      <th>0</th>\n      <td>0.0</td>\n      <td>0.281035</td>\n      <td>0.0</td>\n    </tr>\n    <tr>\n      <th>1</th>\n      <td>0.0</td>\n      <td>0.465152</td>\n      <td>0.0</td>\n    </tr>\n    <tr>\n      <th>2</th>\n      <td>0.0</td>\n      <td>0.352793</td>\n      <td>0.0</td>\n    </tr>\n    <tr>\n      <th>3</th>\n      <td>0.0</td>\n      <td>0.157818</td>\n      <td>0.0</td>\n    </tr>\n    <tr>\n      <th>4</th>\n      <td>0.0</td>\n      <td>0.276648</td>\n      <td>0.0</td>\n    </tr>\n  </tbody>\n</table>\n</div>"
     },
     "execution_count": 15,
     "metadata": {},
     "output_type": "execute_result"
    }
   ],
   "source": [
    "# df_5_b = pd.read_csv('../Instructions-AML/5_b.csv')\n",
    "df_5_b = pd.read_csv('https://raw.githubusercontent.com/rohan-paul/Multiple-Dataset/main/5-Performance-metrics-without-Sklearn/5_b.csv')\n",
    "print('df_5_b.shape ', df_5_b.shape)\n",
    "df_5_b.head()\n",
    "\n",
    "df_5_b['y_predicted'] = np.where(df_5_b['proba'] >= 0.5, float(1), float(0))\n",
    "df_5_b.head()"
   ]
  },
  {
   "cell_type": "code",
   "execution_count": 16,
   "metadata": {
    "collapsed": false,
    "jupyter": {
     "outputs_hidden": false
    },
    "pycharm": {
     "name": "#%%\n"
    }
   },
   "outputs": [
    {
     "name": "stdout",
     "output_type": "stream",
     "text": [
      "actual_y_train_arr_5_b  [0. 0. 0. ... 0. 0. 0.]\n",
      "predicted_y_arr_5_b  [0. 0. 0. ... 0. 0. 0.]\n"
     ]
    }
   ],
   "source": [
    "actual_y_train_arr_5_b = df_5_b.iloc[:, 0].values\n",
    "print('actual_y_train_arr_5_b ', actual_y_train_arr_5_b)\n",
    "predicted_y_arr_5_b = df_5_b.iloc[:, 2].values\n",
    "print('predicted_y_arr_5_b ', predicted_y_arr_5_b)"
   ]
  },
  {
   "cell_type": "code",
   "execution_count": 17,
   "metadata": {
    "collapsed": false,
    "jupyter": {
     "outputs_hidden": false
    },
    "pycharm": {
     "name": "#%%\n"
    }
   },
   "outputs": [],
   "source": [
    "y_proba_5_b = df_5_b.iloc[:, 1].values"
   ]
  },
  {
   "cell_type": "markdown",
   "metadata": {
    "pycharm": {
     "name": "#%% md\n"
    }
   },
   "source": [
    "## Compute Confusion Matrix - for 5_b.csv\n"
   ]
  },
  {
   "cell_type": "code",
   "execution_count": 18,
   "metadata": {
    "collapsed": false,
    "jupyter": {
     "outputs_hidden": false
    },
    "pycharm": {
     "name": "#%%\n"
    }
   },
   "outputs": [
    {
     "name": "stdout",
     "output_type": "stream",
     "text": [
      "[[  55.  239.]\n",
      " [  45. 9761.]]\n"
     ]
    }
   ],
   "source": [
    "confusion_matrix_5_b = get_confusion_matrix(actual_y_train_arr_5_b, predicted_y_arr_5_b)\n",
    "print(confusion_matrix_5_b)\n",
    "\n",
    "true_negative_5_b, false_positive_5_b, false_negative_5_b, true_positive_5_b = int(confusion_matrix_5_b[1][1]), int(confusion_matrix_5_b[0][1]), int(confusion_matrix_5_b[1][0]), int(confusion_matrix_5_b[0][0])"
   ]
  },
  {
   "cell_type": "code",
   "execution_count": 19,
   "metadata": {
    "collapsed": false,
    "jupyter": {
     "outputs_hidden": false
    },
    "pycharm": {
     "name": "#%%\n"
    }
   },
   "outputs": [
    {
     "name": "stdout",
     "output_type": "stream",
     "text": [
      "[[9761  239]\n",
      " [  45   55]]\n"
     ]
    }
   ],
   "source": [
    "# Testing my custom confusion_matrix result with scikit-learn for 5_b.csv\n",
    "sklearn_confustion_matrix_5_b = confusion_matrix(actual_y_train_arr_5_b, predicted_y_arr_5_b)\n",
    "print(sklearn_confustion_matrix_5_b)"
   ]
  },
  {
   "cell_type": "code",
   "execution_count": 20,
   "metadata": {
    "collapsed": false,
    "jupyter": {
     "outputs_hidden": false
    },
    "pycharm": {
     "name": "#%%\n"
    }
   },
   "outputs": [
    {
     "name": "stdout",
     "output_type": "stream",
     "text": [
      "9761 239 45 55\n",
      "9761 239 45 55\n"
     ]
    }
   ],
   "source": [
    "# for 5_b.csv\n",
    "# Verifying individual elements of the Confusion matrix from my custom result with scikit-learn\n",
    "tn_5_b, fp_5_b, fn_5_b, tp_5_b = confusion_matrix(actual_y_train_arr_5_b, predicted_y_arr_5_b).ravel()\n",
    "print(tn_5_b, fp_5_b, fn_5_b, tp_5_b)\n",
    "print(true_negative_5_b, false_positive_5_b, false_negative_5_b, true_positive_5_b)"
   ]
  },
  {
   "cell_type": "markdown",
   "metadata": {},
   "source": [
    "### for 5_b.csv\n",
    "\n",
    "### From above we can see the values of the confusion Matrix matches between scikit-learn and our custom-implementation for 5_b.csv\n",
    "\n",
    "---\n",
    "\n",
    "## Compute F1 Score - for 5_b.csv"
   ]
  },
  {
   "cell_type": "code",
   "execution_count": 21,
   "metadata": {
    "collapsed": false,
    "jupyter": {
     "outputs_hidden": false
    },
    "pycharm": {
     "name": "#%%\n"
    }
   },
   "outputs": [
    {
     "name": "stdout",
     "output_type": "stream",
     "text": [
      "(0.2791878172588833, 0.9718811881188119)\n"
     ]
    }
   ],
   "source": [
    "print(get_f1_score_accuracy_score(confusion_matrix_5_b))"
   ]
  },
  {
   "cell_type": "markdown",
   "metadata": {},
   "source": [
    "### Now verifying the above F1-Score with that of sk-learn for 5_b.csv"
   ]
  },
  {
   "cell_type": "code",
   "execution_count": 22,
   "metadata": {
    "collapsed": false,
    "jupyter": {
     "outputs_hidden": false
    },
    "pycharm": {
     "name": "#%%\n"
    }
   },
   "outputs": [
    {
     "name": "stdout",
     "output_type": "stream",
     "text": [
      "0.2791878172588833\n",
      "0.9718811881188119\n"
     ]
    }
   ],
   "source": [
    "sklearn_f1_score_5_b = f1_score(actual_y_train_arr_5_b, predicted_y_arr_5_b)\n",
    "print(sklearn_f1_score_5_b)\n",
    "\n",
    "sklearn_accuracy_score_5_b = accuracy_score(actual_y_train_arr_5_b, predicted_y_arr_5_b)\n",
    "print(sklearn_accuracy_score_5_b)\n",
    "\n"
   ]
  },
  {
   "cell_type": "markdown",
   "metadata": {},
   "source": [
    "### for 5_b.csv\n",
    "\n",
    "### From above we can see the values of F1_score, accuracy_score matches between scikit-learn and our custom-implementation - for 5_b.csv\n",
    "\n",
    "---\n",
    "\n",
    "### Now finally the AUC Score for 5_b.csv\n"
   ]
  },
  {
   "cell_type": "code",
   "execution_count": 23,
   "metadata": {
    "collapsed": false,
    "jupyter": {
     "outputs_hidden": false
    },
    "pycharm": {
     "name": "#%%\n"
    }
   },
   "outputs": [
    {
     "name": "stderr",
     "output_type": "stream",
     "text": [
      "100%|██████████| 10100/10100 [00:50<00:00, 199.42it/s]\n"
     ]
    },
    {
     "name": "stdout",
     "output_type": "stream",
     "text": [
      "My custom function AUC Score for 5_b.csv  0.9377570000000001\n"
     ]
    }
   ],
   "source": [
    "all_tpr_together_5_b, all_fpr_together_5_b = calculate_all_thresholds_tpr_fpr_arr(df_5_b)\n",
    "auc_score_5_b = np.trapz(all_tpr_together_5_b, all_fpr_together_5_b)\n",
    "print('My custom function AUC Score for 5_b.csv ', auc_score_5_b)\n",
    "# My custom function AUC Score for 5_b.csv  0.9377570000000001"
   ]
  },
  {
   "cell_type": "code",
   "execution_count": 24,
   "metadata": {
    "collapsed": false,
    "jupyter": {
     "outputs_hidden": false
    },
    "pycharm": {
     "name": "#%%\n"
    }
   },
   "outputs": [
    {
     "name": "stdout",
     "output_type": "stream",
     "text": [
      "sklearn_roc_auc_score_5_b -  0.9377570000000001\n"
     ]
    }
   ],
   "source": [
    "sklearn_roc_auc_score_5_b = roc_auc_score(actual_y_train_arr_5_b, y_proba_5_b)\n",
    "print('sklearn_roc_auc_score_5_b - ', sklearn_roc_auc_score_5_b)\n",
    "# sklearn_roc_auc_score_5_b -  0.9377570000000001"
   ]
  },
  {
   "cell_type": "markdown",
   "metadata": {},
   "source": [
    "#### As we can see above the roc_auc_score matches between my Custom function and that of sklearn\n",
    "\n",
    "---\n",
    "\n",
    "## C. Compute the best threshold (similarly to ROC curve computation) of probability which gives lowest values of metric A for the given data 5_c.csv\n",
    "\n",
    "you will be predicting label of a data points like this:\n",
    "\n",
    "$y^{pred}= \\text{[0 if y_score < threshold  else 1]}$\n",
    "\n",
    "$ A = 500 \\times \\text{number of false negative} + 100 \\times \\text{numebr of false positive}$\n",
    "\n",
    "Note 1: in this data you can see number of negative points > number of positive points"
   ]
  },
  {
   "cell_type": "code",
   "execution_count": 25,
   "metadata": {
    "collapsed": false,
    "jupyter": {
     "outputs_hidden": false
    },
    "pycharm": {
     "name": "#%%\n"
    }
   },
   "outputs": [
    {
     "name": "stdout",
     "output_type": "stream",
     "text": [
      "df_5_c.shape  (2852, 2)\n"
     ]
    },
    {
     "data": {
      "text/plain": "   y      prob\n0  0  0.458521\n1  0  0.505037\n2  0  0.418652\n3  0  0.412057\n4  0  0.375579",
      "text/html": "<div>\n<style scoped>\n    .dataframe tbody tr th:only-of-type {\n        vertical-align: middle;\n    }\n\n    .dataframe tbody tr th {\n        vertical-align: top;\n    }\n\n    .dataframe thead th {\n        text-align: right;\n    }\n</style>\n<table border=\"1\" class=\"dataframe\">\n  <thead>\n    <tr style=\"text-align: right;\">\n      <th></th>\n      <th>y</th>\n      <th>prob</th>\n    </tr>\n  </thead>\n  <tbody>\n    <tr>\n      <th>0</th>\n      <td>0</td>\n      <td>0.458521</td>\n    </tr>\n    <tr>\n      <th>1</th>\n      <td>0</td>\n      <td>0.505037</td>\n    </tr>\n    <tr>\n      <th>2</th>\n      <td>0</td>\n      <td>0.418652</td>\n    </tr>\n    <tr>\n      <th>3</th>\n      <td>0</td>\n      <td>0.412057</td>\n    </tr>\n    <tr>\n      <th>4</th>\n      <td>0</td>\n      <td>0.375579</td>\n    </tr>\n  </tbody>\n</table>\n</div>"
     },
     "execution_count": 25,
     "metadata": {},
     "output_type": "execute_result"
    }
   ],
   "source": [
    "# df_5_c = pd.read_csv('../Instructions-AML/5_c.csv')\n",
    "df_5_c = pd.read_csv('https://raw.githubusercontent.com/rohan-paul/Multiple-Dataset/main/5-Performance-metrics-without-Sklearn/5_c.csv')\n",
    "print('df_5_c.shape ', df_5_c.shape)\n",
    "df_5_c.head()"
   ]
  },
  {
   "cell_type": "code",
   "execution_count": 26,
   "metadata": {
    "collapsed": false,
    "jupyter": {
     "outputs_hidden": false
    },
    "pycharm": {
     "name": "#%%\n"
    }
   },
   "outputs": [
    {
     "name": "stdout",
     "output_type": "stream",
     "text": [
      "actual_y_train_arr_5_c  [0 0 0 ... 1 1 1]\n",
      "y_proba_5_c  [0.45852068 0.50503693 0.41865174 ... 0.65916054 0.45626546 0.65916054]\n"
     ]
    }
   ],
   "source": [
    "actual_y_train_arr_5_c = df_5_c.iloc[:, 0].values\n",
    "print('actual_y_train_arr_5_c ', actual_y_train_arr_5_c)\n",
    "\n",
    "y_proba_5_c = df_5_c.iloc[:, 1].values\n",
    "print('y_proba_5_c ', y_proba_5_c)\n",
    "\n",
    "unique_probability_thresholds_5_c = np.unique(df_5_c['prob'])\n"
   ]
  },
  {
   "cell_type": "code",
   "execution_count": 27,
   "metadata": {
    "collapsed": false,
    "jupyter": {
     "outputs_hidden": false
    },
    "pycharm": {
     "name": "#%%\n"
    }
   },
   "outputs": [],
   "source": [
    "# First I will modify the above get_tpr_fpr() function to return the value of A\n",
    "\n",
    "def get_A_metric(y_actual, y_probabilities, threshold):\n",
    "    tp = 0\n",
    "    fp = 0\n",
    "    tn = 0\n",
    "    fn = 0\n",
    "\n",
    "    min_a = float('inf')\n",
    "\n",
    "    for i in range(len(y_probabilities)):\n",
    "        if y_probabilities[i] >= threshold :\n",
    "            if y_actual[i] == 1:\n",
    "                tp += 1\n",
    "            else:\n",
    "                fp += 1\n",
    "\n",
    "        if y_probabilities[i] < threshold:\n",
    "            if y_actual[i] == 0:\n",
    "                tn += 1\n",
    "            else:\n",
    "                fn += 1\n",
    "\n",
    "    A = (500 * fn) + (100 * fp)\n",
    "\n",
    "    return A\n"
   ]
  },
  {
   "cell_type": "code",
   "execution_count": 28,
   "metadata": {
    "collapsed": false,
    "jupyter": {
     "outputs_hidden": false
    },
    "pycharm": {
     "name": "#%%\n"
    }
   },
   "outputs": [],
   "source": [
    "# Now a function to traverse the entire unique probability thresholds array\n",
    "# and return the minimum value of A and also the corresponding threshold\n",
    "\n",
    "def get_minimized_a(y_actual, y_probabilities, total_threshold_arr ):\n",
    "  min_a = float('inf')\n",
    "  min_t = 0\n",
    "\n",
    "  for threshold in total_threshold_arr:\n",
    "    a = get_A_metric(y_actual, y_probabilities, threshold)\n",
    "    if a <= min_a:\n",
    "        min_a = min(a, min_a)\n",
    "        min_t = threshold\n",
    "\n",
    "  return min_a, min_t"
   ]
  },
  {
   "cell_type": "code",
   "execution_count": 29,
   "metadata": {
    "collapsed": false,
    "jupyter": {
     "outputs_hidden": false
    },
    "pycharm": {
     "name": "#%%\n"
    }
   },
   "outputs": [
    {
     "name": "stdout",
     "output_type": "stream",
     "text": [
      "(141000, 0.2300390278970873)\n"
     ]
    }
   ],
   "source": [
    "# now execute the above funtion the minimum value of A and also the corresponding threshold\n",
    "\n",
    "print(get_minimized_a(actual_y_train_arr_5_c, y_proba_5_c, unique_probability_thresholds_5_c ))\n",
    "# (141000, 0.2300390278970873)"
   ]
  },
  {
   "cell_type": "markdown",
   "metadata": {
    "pycharm": {
     "name": "#%% md\n"
    }
   },
   "source": [
    "#### So that thats the minimum value of **A** which is 141000\n",
    "\n",
    "#### and the corresponding threshold is 0.2300390278970873\n",
    "\n",
    "\n",
    "---\n",
    "\n",
    "\n",
    "## D. Compute performance metrics(for regression) for the given data 5_d.csv\n",
    "\n",
    "Note 1: 5_d.csv will having two columns Y and predicted_Y both are real valued features\n",
    "\n",
    "Compute Mean Square Error\n",
    "\n",
    "Compute MAPE:\n",
    "\n",
    "https://www.youtube.com/watch?v=ly6ztgIkUxk\n",
    "\n",
    "Compute R^2 error: https://en.wikipedia.org/wiki/Coefficient_of_determination#Definitions\n",
    "\n",
    "---"
   ]
  },
  {
   "cell_type": "code",
   "execution_count": 30,
   "metadata": {
    "collapsed": false,
    "jupyter": {
     "outputs_hidden": false
    },
    "pycharm": {
     "name": "#%%\n"
    }
   },
   "outputs": [
    {
     "data": {
      "text/plain": "       y   pred\n0  101.0  100.0\n1  120.0  100.0\n2  131.0  113.0\n3  164.0  125.0\n4  154.0  152.0",
      "text/html": "<div>\n<style scoped>\n    .dataframe tbody tr th:only-of-type {\n        vertical-align: middle;\n    }\n\n    .dataframe tbody tr th {\n        vertical-align: top;\n    }\n\n    .dataframe thead th {\n        text-align: right;\n    }\n</style>\n<table border=\"1\" class=\"dataframe\">\n  <thead>\n    <tr style=\"text-align: right;\">\n      <th></th>\n      <th>y</th>\n      <th>pred</th>\n    </tr>\n  </thead>\n  <tbody>\n    <tr>\n      <th>0</th>\n      <td>101.0</td>\n      <td>100.0</td>\n    </tr>\n    <tr>\n      <th>1</th>\n      <td>120.0</td>\n      <td>100.0</td>\n    </tr>\n    <tr>\n      <th>2</th>\n      <td>131.0</td>\n      <td>113.0</td>\n    </tr>\n    <tr>\n      <th>3</th>\n      <td>164.0</td>\n      <td>125.0</td>\n    </tr>\n    <tr>\n      <th>4</th>\n      <td>154.0</td>\n      <td>152.0</td>\n    </tr>\n  </tbody>\n</table>\n</div>"
     },
     "execution_count": 30,
     "metadata": {},
     "output_type": "execute_result"
    }
   ],
   "source": [
    "# df_5_d = pd.read_csv('../Instructions-AML/5_d.csv')\n",
    "df_5_d = pd.read_csv('https://raw.githubusercontent.com/rohan-paul/Multiple-Dataset/main/5-Performance-metrics-without-Sklearn/5_d.csv')\n",
    "df_5_d.head()"
   ]
  },
  {
   "cell_type": "code",
   "execution_count": 31,
   "metadata": {
    "collapsed": false,
    "jupyter": {
     "outputs_hidden": false
    },
    "pycharm": {
     "name": "#%%\n"
    }
   },
   "outputs": [
    {
     "name": "stdout",
     "output_type": "stream",
     "text": [
      "actual_y_train_arr_5d  [101. 120. 131. ... 106. 105.  81.]\n",
      "predicted_y_arr_5d  [100. 100. 113. ...  93. 101. 104.]\n"
     ]
    }
   ],
   "source": [
    "# print(df_5_d.to_numpy())\n",
    "actual_y_train_arr_5d = df_5_d.iloc[:, 0].values\n",
    "print('actual_y_train_arr_5d ', actual_y_train_arr_5d)\n",
    "predicted_y_arr_5d = df_5_d.iloc[:, 1].values\n",
    "print('predicted_y_arr_5d ', predicted_y_arr_5d)"
   ]
  },
  {
   "cell_type": "markdown",
   "metadata": {
    "pycharm": {
     "name": "#%% md\n"
    }
   },
   "source": [
    "---\n",
    "\n",
    "## Mean Squared Error (MSE) / Mean Squared Deviation (MSD)\n",
    "\n",
    "![Imgur](https://imgur.com/GWH0ap5.png)"
   ]
  },
  {
   "cell_type": "code",
   "execution_count": 32,
   "metadata": {
    "collapsed": false,
    "jupyter": {
     "outputs_hidden": false
    },
    "pycharm": {
     "name": "#%%\n"
    }
   },
   "outputs": [
    {
     "name": "stdout",
     "output_type": "stream",
     "text": [
      "177.16569974554707\n"
     ]
    }
   ],
   "source": [
    "def calculate_mse(y_actual, y_predicted):\n",
    "    mse = np.mean((y_actual - y_predicted)**2)\n",
    "    return mse\n",
    "\n",
    "print(calculate_mse(actual_y_train_arr_5d, predicted_y_arr_5d))\n"
   ]
  },
  {
   "cell_type": "code",
   "execution_count": 33,
   "metadata": {
    "collapsed": false,
    "jupyter": {
     "outputs_hidden": false
    },
    "pycharm": {
     "name": "#%%\n"
    }
   },
   "outputs": [
    {
     "data": {
      "text/plain": "177.16569974554707"
     },
     "execution_count": 33,
     "metadata": {},
     "output_type": "execute_result"
    }
   ],
   "source": [
    "# Checking the Mean Square Error metric with sklearn\n",
    "from sklearn.metrics import mean_squared_error\n",
    "\n",
    "sklearn_mse = mean_squared_error(actual_y_train_arr_5d, predicted_y_arr_5d)\n",
    "sklearn_mse"
   ]
  },
  {
   "cell_type": "markdown",
   "metadata": {},
   "source": [
    "So the Mean Squared Error measures matches between my custom function and sklearn's inbuilt funcion\n",
    "\n",
    "---\n",
    "\n",
    "## Mean Absolute Percentage Error (MAPE)\n",
    "\n",
    "![Imgur](https://imgur.com/zCFJTE6.png)\n"
   ]
  },
  {
   "cell_type": "markdown",
   "metadata": {},
   "source": [
    "### When one of the actual data-point is zero\n",
    "\n",
    "https://en.wikipedia.org/wiki/Mean_absolute_percentage_error\n",
    "\n",
    "So in that case the formulate becomes\n",
    "\n",
    "![Imgur](https://imgur.com/Lm45BRD.png)"
   ]
  },
  {
   "cell_type": "code",
   "execution_count": 34,
   "metadata": {
    "collapsed": false,
    "jupyter": {
     "outputs_hidden": false
    },
    "pycharm": {
     "name": "#%%\n"
    }
   },
   "outputs": [
    {
     "name": "stdout",
     "output_type": "stream",
     "text": [
      "12.91202994009687\n"
     ]
    }
   ],
   "source": [
    "# The below will return the % value i.e 12.9 means 12.9%\n",
    "def calculate_mean_absolute_percentage_error_2(y_actual, y_predicted):\n",
    "    mape = ((np.sum(np.abs(y_actual - y_predicted))) / np.sum(y_actual)) * 100\n",
    "    return mape\n",
    "\n",
    "print(calculate_mean_absolute_percentage_error_2(actual_y_train_arr_5d, predicted_y_arr_5d))"
   ]
  },
  {
   "cell_type": "markdown",
   "metadata": {},
   "source": [
    "## Coefficient of determination also called as R2 score\n",
    "\n",
    "![Imgur](https://imgur.com/X0zWQho.png)"
   ]
  },
  {
   "cell_type": "code",
   "execution_count": 35,
   "metadata": {
    "collapsed": false,
    "jupyter": {
     "outputs_hidden": false
    },
    "pycharm": {
     "name": "#%%\n"
    }
   },
   "outputs": [
    {
     "data": {
      "text/plain": "0.9563582786990937"
     },
     "execution_count": 35,
     "metadata": {},
     "output_type": "execute_result"
    }
   ],
   "source": [
    "# Checking the r-square metric with sklearn\n",
    "\n",
    "from sklearn.metrics import r2_score\n",
    "sklearn_r2 = r2_score(actual_y_train_arr_5d, predicted_y_arr_5d)\n",
    "sklearn_r2"
   ]
  },
  {
   "cell_type": "code",
   "execution_count": 36,
   "metadata": {
    "collapsed": false,
    "jupyter": {
     "outputs_hidden": false
    },
    "pycharm": {
     "name": "#%%\n"
    }
   },
   "outputs": [
    {
     "name": "stdout",
     "output_type": "stream",
     "text": [
      "0.9563582786990937\n"
     ]
    }
   ],
   "source": [
    "def calculate_r2_score(y_train, y_predicted):\n",
    "    y_train_bar = y_train.mean()\n",
    "    # y_train_bar = np.mean(y_train)\n",
    "\n",
    "    sum_squared_residual = ((y_train - y_predicted)**2).sum()\n",
    "    sum_squared_total = ((y_train - y_train_bar)**2).sum()\n",
    "\n",
    "    return 1 - (sum_squared_residual/sum_squared_total)\n",
    "\n",
    "print(calculate_r2_score(actual_y_train_arr_5d, predicted_y_arr_5d))\n"
   ]
  },
  {
   "cell_type": "markdown",
   "metadata": {},
   "source": [
    "#### So the r-square measures matches between my custom function and sklearn's inbuilt funcion"
   ]
  }
 ],
 "metadata": {
  "kernelspec": {
   "display_name": "Python 3",
   "language": "python",
   "name": "python3"
  },
  "language_info": {
   "codemirror_mode": {
    "name": "ipython",
    "version": 3
   },
   "file_extension": ".py",
   "mimetype": "text/x-python",
   "name": "python",
   "nbconvert_exporter": "python",
   "pygments_lexer": "ipython3",
   "version": "3.7.6"
  }
 },
 "nbformat": 4,
 "nbformat_minor": 4
}