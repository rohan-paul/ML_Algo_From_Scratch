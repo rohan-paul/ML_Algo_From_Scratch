{
 "cells": [
  {
   "cell_type": "code",
   "execution_count": null,
   "metadata": {
    "collapsed": true
   },
   "outputs": [],
   "source": [
    "import numpy as np\n",
    "import pandas as pd\n",
    "import matplotlib.pyplot as plt\n",
    "# importing roc_auc_score from sklearn to cross check\n",
    "# scores with my custom function's output\n",
    "from sklearn.metrics import roc_auc_score\n",
    "from tqdm import tqdm\n",
    "\n",
    "df_5_a = pd.read_csv('../Instructions-AML/5_a.csv')\n",
    "# df_5_a = pd.read_csv('../Instructions-AML/5_a.csv', nrows=500)\n",
    "# df_5_a['y_predicted'] = np.where(df_5_a['proba'] >= 0.5, float(1), float(0))\n",
    "df_5_a.head()"
   ]
  },
  {
   "cell_type": "code",
   "execution_count": null,
   "outputs": [],
   "source": [
    "actual_y_train_arr = df_5_a.iloc[:, 0].values\n",
    "# predicted_y_arr = df_5_a.iloc[:, 2].values\n",
    "# unique_probability_thresholds = np.unique(df_5_a['proba'])"
   ],
   "metadata": {
    "collapsed": false,
    "pycharm": {
     "name": "#%%\n"
    }
   }
  },
  {
   "cell_type": "code",
   "execution_count": null,
   "outputs": [],
   "source": [
    "# First, we need to sort a dataframe in descending order based on the \"proba\" column, by using the sort_values() function:\n",
    "sorted_df_5_a = df_5_a.sort_values(by=['proba'], ascending=False)\n",
    "sorted_df_5_a.head()"
   ],
   "metadata": {
    "collapsed": false,
    "pycharm": {
     "name": "#%%\n"
    }
   }
  },
  {
   "cell_type": "code",
   "execution_count": null,
   "outputs": [],
   "source": [
    "sorted_df_5_a['y_predicted'] = np.where(sorted_df_5_a['proba'] >= 0.5, float(1), float(0))\n",
    "sorted_df_5_a.head()"
   ],
   "metadata": {
    "collapsed": false,
    "pycharm": {
     "name": "#%%\n"
    }
   }
  },
  {
   "cell_type": "code",
   "execution_count": null,
   "outputs": [],
   "source": [
    "# print(np.where(sorted_df_5_a['proba'] >= 0.5, float(1), float(0)))\n",
    "# print(sorted_df_5_a['proba'].unique())"
   ],
   "metadata": {
    "collapsed": false,
    "pycharm": {
     "name": "#%%\n"
    }
   }
  },
  {
   "cell_type": "code",
   "execution_count": null,
   "outputs": [],
   "source": [
    "# print(sorted_df_5_a.iloc[:, 0].values)"
   ],
   "metadata": {
    "collapsed": false,
    "pycharm": {
     "name": "#%%\n"
    }
   }
  },
  {
   "cell_type": "code",
   "execution_count": null,
   "outputs": [],
   "source": [
    "# *********************************\n",
    "\n",
    "def get_tpr_fpr(y_actual, y_probabilities, threshold):\n",
    "    tp = 0\n",
    "    fp = 0\n",
    "    tn = 0\n",
    "    fn = 0\n",
    "    for i in range(len(y_probabilities)):\n",
    "        if y_probabilities[i] >= threshold :\n",
    "            if y_actual[i] == 1:\n",
    "                tp += 1\n",
    "            else:\n",
    "                fp += 1\n",
    "\n",
    "        if y_probabilities[i] < threshold:\n",
    "            if y_actual[i] == 0:\n",
    "                tn += 1\n",
    "            else:\n",
    "                fn += 1\n",
    "\n",
    "    tpr = tp / (tp + fn )\n",
    "    fpr = fp / (fp + tn)\n",
    "\n",
    "    return [tpr, fpr]\n",
    "# *********************************\n",
    "\n",
    "# While computing AUC score you need to calculate \"TP,\"FP\" at every threshold by using actual \"y\" and predicted \"y_pred\".\n",
    "\n",
    "def get_tpr_fpr_arr(df):\n",
    "\n",
    "    roc_array = []\n",
    "    all_threshold_tpr_arr = []\n",
    "    all_threshold_fpr_arr = []\n",
    "\n",
    "    sorted_df = df.sort_values(by=['proba'], ascending=False)\n",
    "\n",
    "    unique_probability_thresholds = sorted_df['proba'].unique()\n",
    "\n",
    "    y_actual_arr = sorted_df.iloc[:, 0].values\n",
    "    y_proba_arr = sorted_df.iloc[:, 1].values\n",
    "\n",
    "    for threshold in tqdm(unique_probability_thresholds):\n",
    "        # sorted_df['y_predicted'] = np.where(sorted_df['proba'] >= threshold, 1, 0)\n",
    "        tpr_fpr_arr = get_tpr_fpr(y_actual_arr, y_proba_arr, threshold)\n",
    "        roc_array.append(tpr_fpr_arr)\n",
    "\n",
    "    for i in range(len(roc_array) - 1):\n",
    "        point_a = roc_array[i]\n",
    "        point_b = roc_array[i + 1]\n",
    "        all_threshold_tpr_arr.append([point_a[0], point_b[0]])\n",
    "        all_threshold_fpr_arr.append([point_a[1], point_b[1]])\n",
    "\n",
    "    return all_threshold_tpr_arr, all_threshold_fpr_arr\n"
   ],
   "metadata": {
    "collapsed": false,
    "pycharm": {
     "name": "#%%\n"
    }
   }
  },
  {
   "cell_type": "markdown",
   "source": [
    "### Now finally the AUC Score\n"
   ],
   "metadata": {
    "collapsed": false
   }
  },
  {
   "cell_type": "code",
   "execution_count": null,
   "outputs": [],
   "source": [
    "all_tpr_together, all_fpr_together = get_tpr_fpr_arr(df_5_a)\n",
    "# print(all_tpr_together)\n",
    "auc_score = sum(np.trapz(all_tpr_together, all_fpr_together))\n",
    "print('My Custom function ROC-AUC Score for 5_a.csv: ', auc_score)\n",
    "# My Custom function ROC-AUC Score for 5_a.csv:  0.48829899999999987"
   ],
   "metadata": {
    "collapsed": false,
    "pycharm": {
     "name": "#%%\n"
    }
   }
  },
  {
   "cell_type": "code",
   "execution_count": null,
   "outputs": [],
   "source": [
    "# Checking result with scikit-learn\n",
    "\n",
    "from sklearn.metrics import roc_auc_score\n",
    "\n",
    "# actual_y_train_arr = df_5_a.iloc[:, 0].values\n",
    "\n",
    "# sklearn_roc_auc_score = roc_auc_score(actual_y_train_arr, y_proba)\n",
    "# print('sk-learn roc_auc_score for 5_a.csv: ', sklearn_roc_auc_score)\n",
    "# sk-learn roc_auc_score:  0.48829900000000004\n",
    "\n",
    "\n"
   ],
   "metadata": {
    "collapsed": false,
    "pycharm": {
     "name": "#%%\n"
    }
   }
  }
 ],
 "metadata": {
  "kernelspec": {
   "display_name": "PyCharm (pro-machine-learning-algorithms-master)",
   "language": "python",
   "name": "pycharm-8ad3ec83"
  },
  "language_info": {
   "codemirror_mode": {
    "name": "ipython",
    "version": 2
   },
   "file_extension": ".py",
   "mimetype": "text/x-python",
   "name": "python",
   "nbconvert_exporter": "python",
   "pygments_lexer": "ipython2",
   "version": "2.7.6"
  }
 },
 "nbformat": 4,
 "nbformat_minor": 0
}