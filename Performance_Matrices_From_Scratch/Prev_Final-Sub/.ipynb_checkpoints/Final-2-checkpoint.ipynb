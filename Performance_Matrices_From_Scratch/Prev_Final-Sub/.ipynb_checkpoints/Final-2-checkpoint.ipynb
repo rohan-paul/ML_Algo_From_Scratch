{
 "cells": [
  {
   "cell_type": "code",
   "execution_count": null,
   "metadata": {
    "collapsed": true,
    "pycharm": {
     "name": "#%%\n"
    }
   },
   "outputs": [],
   "source": [
    "import numpy as np\n",
    "import pandas as pd\n",
    "import matplotlib.pyplot as plt\n",
    "\n",
    "df_5_a = pd.read_csv('../Instructions-AML/5_a.csv')\n",
    "# df_5_a.head()\n",
    "df_5_a['y_predicted'] = np.where(df_5_a['proba'] >= 0.5, float(1), float(0))"
   ]
  },
  {
   "cell_type": "code",
   "execution_count": null,
   "outputs": [],
   "source": [
    "actual_y_train_arr = df_5_a.iloc[:, 0].values\n",
    "predicted_y_arr = df_5_a.iloc[:, 2].values\n",
    "\n",
    "unique_probability_thresholds = np.unique(df_5_a['proba'])\n",
    "y_proba = df_5_a.iloc[:, 1].values"
   ],
   "metadata": {
    "collapsed": false,
    "pycharm": {
     "name": "#%%\n"
    }
   }
  },
  {
   "cell_type": "code",
   "execution_count": null,
   "outputs": [],
   "source": [
    "def get_tpr_fpr(y_actual, y_probabilities, threshold):\n",
    "    tp = 0\n",
    "    fp = 0\n",
    "    tn = 0\n",
    "    fn = 0\n",
    "    for i in range(len(y_probabilities)):\n",
    "        if y_probabilities[i] >= threshold :\n",
    "            if y_actual[i] == 1:\n",
    "                tp += 1\n",
    "            else:\n",
    "                fp += 1\n",
    "\n",
    "        if y_probabilities[i] < threshold:\n",
    "            if y_actual[i] == 0:\n",
    "                tn += 1\n",
    "            else:\n",
    "                fn += 1\n",
    "\n",
    "    tpr = tp / (tp + fn )\n",
    "    fpr = fp / (fp + tn)\n",
    "\n",
    "    return [tpr, fpr]\n",
    "\n",
    "roc_array = []\n",
    "# The above roc_array will be a 2-D array where each inner elements will be an\n",
    "# array of [tpr, fpr]. Hence the full roc_array will be of the form\n",
    "# [[tpr1, fpr1], [tpr2, fpr2], ....[tprn, fprn] ]\n",
    "\n",
    "for threshold in unique_probability_thresholds:\n",
    "    tpr_fpr_arr = get_tpr_fpr(actual_y_train_arr, y_proba, threshold)\n",
    "    roc_array.append(tpr_fpr_arr)\n",
    "\n",
    "# print(roc_array)"
   ],
   "metadata": {
    "collapsed": false,
    "pycharm": {
     "name": "#%%\n"
    }
   }
  },
  {
   "cell_type": "code",
   "execution_count": null,
   "outputs": [],
   "source": [
    "# Now I need to get all tpr_array together and also all fpr_array together\n",
    "\n",
    "all_tpr_together = []\n",
    "all_fpr_together = []\n",
    "for i in range(len(roc_array) - 1):\n",
    "    point_a = roc_array[i]\n",
    "    point_b = roc_array[i + 1]\n",
    "    all_tpr_together.append([point_a[0], point_b[0]])\n",
    "    all_fpr_together.append([point_a[1], point_b[1]])"
   ],
   "metadata": {
    "collapsed": false,
    "pycharm": {
     "name": "#%%\n"
    }
   }
  },
  {
   "cell_type": "markdown",
   "source": [
    "### Now finally the AUC Score\n"
   ],
   "metadata": {
    "collapsed": false
   }
  },
  {
   "cell_type": "code",
   "execution_count": null,
   "outputs": [],
   "source": [
    "auc_score = sum(np.trapz(all_tpr_together, all_fpr_together))\n",
    "print('AUC Score for 5_a.csv ', auc_score)\n",
    "# AUC Score  0.5117009999999999\n",
    "# Try to get AUC = 0.48829900000000004\n"
   ],
   "metadata": {
    "collapsed": false,
    "pycharm": {
     "name": "#%%\n"
    }
   }
  }
 ],
 "metadata": {
  "kernelspec": {
   "display_name": "Python 3",
   "language": "python",
   "name": "python3"
  },
  "language_info": {
   "codemirror_mode": {
    "name": "ipython",
    "version": 2
   },
   "file_extension": ".py",
   "mimetype": "text/x-python",
   "name": "python",
   "nbconvert_exporter": "python",
   "pygments_lexer": "ipython2",
   "version": "2.7.6"
  }
 },
 "nbformat": 4,
 "nbformat_minor": 0
}