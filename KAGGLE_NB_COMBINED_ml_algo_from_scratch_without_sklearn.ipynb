{
 "cells": [
  {
   "cell_type": "markdown",
   "source": [
    "<h1 style=\"font-size:200%; font-family:cursive; color:#ff6666;\"><b>In this Notebook I am implementing following ML-Algorithms from scratch in pure python without using sklearn or any other similar packages and along with explanations for each of these algorithms.</b><a id=\"0\"></a></h1>\n",
    "\n",
    "\n",
    "\n",
    "1. [TFIDF](#10)\n",
    "2. [GridSearchCV](#20)\n",
    "3. [RandomSearchCV](#30)\n",
    "4. [Decision Function of SVM RBF Kernel](#40)\n",
    "5. [Platt Scaling to find P(Y==1|X)](#50)\n",
    "6. [SGD Classifier with Logloss and L2 regularization using SGD](#60)\n",
    "\n",
    "\n",
    "---\n",
    "\n",
    "<h1 style=\"font-size:150%; font-family:cursive; color:#ff6666;\">1. TFIDF<a id=\"10\"></a></h1>\n",
    "\n",
    "# TFIDF Vectorizer from Scratch without sklearn & compare its results with Sklearn\n",
    "\n",
    "#### [Back to the top](#0)\n",
    "\n",
    "1. [First Some basics on TF-IDF](#1)\n",
    "2. [fit() Method](#2)\n",
    "3. [Sklearn Implementation](#3)\n",
    "4. [Implement max features functionality](#4)\n",
    "\n",
    "<h3 style=\"font-size:150%; font-family:cursive; color:#ff6666;\">First Some basics on TF-IDF <a id=\"1\"></a><h3>\n",
    "\n",
    "Tf-idf stands for term frequency-inverse document frequency, and the tf-idf weight is a weight often used in information retrieval and text mining. This weight is a statistical measure used to evaluate how important a word is to a document in a collection or corpus. The importance increases proportionally to the number of times a word appears in the document but is offset by the frequency of the word in the corpus. Variations of the tf-idf weighting scheme are often used by search engines as a central tool in scoring and ranking a document's relevance given a user query.\n",
    "\n",
    "    \n",
    "One of the simplest ranking functions is computed by summing the tf-idf for each query term; many more sophisticated ranking functions are variants of this simple model.\n",
    "    \n",
    "Tf-idf can be successfully used for stop-words filtering in various subject fields including text summarization and classification.\n",
    "\n",
    "Typically, the tf-idf weight is composed by two terms: the first computes the normalized Term Frequency (TF), aka. the number of times a word appears in a document, divided by the total number of words in that document; the second term is the Inverse Document Frequency (IDF), computed as the logarithm of the number of the documents in the corpus divided by the number of documents where the specific term appears.\n",
    "\n",
    "TF:</strong> Term Frequency, which measures how frequently a term occurs in a document. Since every document is different in length, it is possible that a term would appear much more times in long documents than shorter ones. Thus, the term frequency is often divided by the document length (aka. the total number of terms in the document) as a way of normalization: \n",
    "\n",
    "$$TF(t) = \\frac{\\text{Number of times term t appears in a document}}{\\text{Total number of terms in the document}}.$$\n",
    "\n",
    "Inverse Document Frequency, which measures how important a term is. While computing TF, all terms are considered equally important. However it is known that certain terms, such as \"is\", \"of\", and \"that\", may appear a lot of times but have little importance. Thus we need to weigh down the frequent terms while scale up the rare ones, by computing the following:\n",
    "\n",
    "$$IDF(t) = \\log_{e}\\frac{\\text{Total  number of documents}} {\\text{Number of documents with term t in it}}.$$\n",
    "\n",
    "for numerical stabiltiy we will be changing this formula little bit\n",
    "\n",
    "$$IDF(t) = \\log_{e}\\frac{\\text{Total  number of documents}} {\\text{Number of documents with term t in it}+1}.$$\n",
    "\n",
    "Example\n",
    "\n",
    "\n",
    "Consider a document containing 100 words wherein the word cat appears 3 times. The term frequency (i.e., tf) for cat is then (3 / 100) = 0.03. Now, assume we have 10 million documents and the word cat appears in one thousand of these. Then, the inverse document frequency (i.e., idf) is calculated as log(10,000,000 / 1,000) = 4. Thus, the Tf-idf weight is the product of these quantities: 0.03 * 4 = 0.12.\n",
    "\n",
    "---\n",
    "\n",
    "Here I will implement a TFIDF vectorizer on a collection of text documents and then compare the results of my own implementation of TFIDF vectorizer with that of sklearns implemenation TFIDF vectorizer.\n",
    "\n",
    "     Sklearn does few more tweaks in the implementation of its version of TFIDF vectorizer, so to replicate the exact results I would need to add following things to our custom implementation of tfidf vectorizer:\n",
    "\n",
    "         - Sklearn has its vocabulary generated from idf sorted in alphabetical order\n",
    "         \n",
    "         - Sklearn formula of idf is different from the standard textbook formula. Here the constant <strong>\"1\"</strong> is added to the numerator and denominator of the idf as if an extra document was seen containing every term in the collection exactly once, which prevents zero divisions.\n",
    "\n",
    " $$IDF(t) = 1+\\log_{e}\\frac{1\\text{ }+\\text{ Total  number of documents in collection}} {1+\\text{Number of documents with term t in it}}.$$\n",
    "\n",
    "         - Sklearn applies L2-normalization on its output matrix.\n",
    "         - The final output of sklearn tfidf vectorizer is a sparse matrix.\n",
    "\n",
    "\n",
    " Steps to approach this problem :\n",
    "\n",
    " - I would have to write both fit and transform methods for my custom implementation of tfidf vectorizer.\n",
    "\n",
    " - Print out the alphabetically sorted voacb after I fit our data and check if its the same as that of the feature names from sklearn tfidf vectorizer.\n",
    "\n",
    "\n",
    " - Print out the idf values from our implementation and check if its the same as that of sklearns tfidf vectorizer idf values.\n",
    " -        Once I get our voacb and idf values to be same as that of sklearns implementation of tfidf vectorizer, proceed to the below steps.\n",
    " -       Make sure the output of our implementation is a sparse matrix. Before generating the final output, I need to normalize our sparse matrix using L2 normalization. You can refer to this link https://scikit-learn.org/stable/modules/generated/sklearn.preprocessing.normalize.html\n",
    "\n",
    " -      After completing the above steps, print the output of our custom implementation and compare it with sklearns implementation of tfidf vectorizer.\n",
    " -      To check the output of a single document in our collection of documents,  I can convert the sparse matrix related only to that document into dense matrix and print it.\n",
    "\n",
    "### The output of our custom implementation and that of sklearns implementation would match only with the collection of document strings I define below, as reference in this notebook. It would not match for strings that contain capital letters or punctuations, etc, because sklearn version of tfidf vectorizer deals with such strings in a different way."
   ],
   "metadata": {
    "pycharm": {
     "name": "#%% md\n"
    }
   }
  },
  {
   "cell_type": "code",
   "execution_count": 6,
   "source": [
    "from collections import Counter\n",
    "from scipy.sparse import csr_matrix\n",
    "from sklearn.preprocessing import normalize\n",
    "import numpy as np\n",
    "import pandas as pd\n",
    "\n",
    "import matplotlib.pyplot as plt\n",
    "import random\n",
    "\n",
    "corpus_1 = [\n",
    "     'this is the first document',\n",
    "     'this document is the second document',\n",
    "     'and this is the third one',\n",
    "     'is this the first document',\n",
    "]"
   ],
   "outputs": [],
   "metadata": {
    "collapsed": false,
    "jupyter": {
     "outputs_hidden": false
    },
    "pycharm": {
     "name": "#%%\n"
    }
   }
  },
  {
   "cell_type": "markdown",
   "source": [
    "<h2 style=\"font-size:150%; font-family:cursive; color:#ff6666;\">fit() Method <a id=\"2\"></a><h2>\n",
    "\n",
    "#### [Back to the top](#0)\n",
    "\n",
    " - With this function, we will find all unique words in the data and assign a dimension-number to each unique word.\n",
    " - So will define a python dictionary to store all the unique words, such that the key of dictionary represents a unique word and the corresponding value represent it's dimension-number.\n",
    " - For example, if a review says, 'very good taste' - then I can represent each unique word with a dimension_number as,\n",
    "\n",
    "        { 'very' : 1, 'good' : 2, 'taste' : 3}\n",
    "\n",
    "- And remember our dataset is a list of string"
   ],
   "metadata": {
    "pycharm": {
     "name": "#%% md\n"
    }
   }
  },
  {
   "cell_type": "code",
   "execution_count": 7,
   "source": [
    "# Input : set of documents\n",
    "# Output: word, dimension number pair for each word as a python dictionary\n",
    "def fit_custom(dataset):\n",
    "  unique_words = []\n",
    "  for row in dataset:\n",
    "    for word in row.split(\" \"):\n",
    "      if len(word)>=2 and word not in unique_words:\n",
    "        unique_words.append(word) # Add each unique word of length>2 to the list\n",
    "  unique_words.sort()\n",
    "  word_dimension_dict = {j:i for i,j in enumerate(unique_words)} # Enumerate the list, i.e., give consecutive numbers to each item, store in a dict\n",
    "  return word_dimension_dict\n",
    "\n",
    "word_dimension_dict = fit_custom(corpus_1)\n",
    "# print(word_dimension_dict)"
   ],
   "outputs": [],
   "metadata": {
    "collapsed": false,
    "jupyter": {
     "outputs_hidden": false
    },
    "pycharm": {
     "name": "#%%\n"
    }
   }
  },
  {
   "cell_type": "code",
   "execution_count": 8,
   "source": [
    "# Defining an utility Function to calculate the number of times a word appears in a whole dataset\n",
    "def count_of_word_in_whole_dataset(dataset, word):\n",
    "  count = 0\n",
    "  for row in dataset:\n",
    "    if word in row:\n",
    "      count = count+1\n",
    "  return count"
   ],
   "outputs": [],
   "metadata": {
    "collapsed": false,
    "jupyter": {
     "outputs_hidden": false
    },
    "pycharm": {
     "name": "#%%\n"
    }
   }
  },
  {
   "cell_type": "code",
   "execution_count": 9,
   "source": [
    "# TRANSFROM METHOD\n",
    "# Input : set of documents, word_dimension_dict from fit_custom() ; Output : TF-count_of_word_in_whole_dataset Matrix\n",
    "def transform_custom(dataset, word_dimension_dict):\n",
    "  rows = []\n",
    "  columns = []\n",
    "  values = []\n",
    "  tf_val = []\n",
    "  idf_val = []\n",
    "  for idx, row in enumerate(dataset): # for each document in the dataset\n",
    "    # it will return a dict type object where key is the word and values is its frequency, {word:frequency}\n",
    "    word_freq = dict(Counter(row.split()))\n",
    "    # for every unique word in the document\n",
    "    for word, freq in word_freq.items():\n",
    "      if len(word) < 2:\n",
    "        continue\n",
    "      # we will check if its there in the word_dimension_dictionary that we build in fit_custom() function\n",
    "      # dict.get() function will return the values, if the key doesn't exits it will return -1\n",
    "      col_index = word_dimension_dict.get(word, -1) # retrieving the dimension number of a word\n",
    "      if col_index!=-1:\n",
    "        # we are storing the index of the document\n",
    "        rows.append(idx)\n",
    "        # we are storing the dimensions of the word\n",
    "        columns.append(col_index)\n",
    "        # computes TF value for each word, freq of each word / total words in a document\n",
    "        # computes count_of_word_in_whole_dataset value for each word=log(total no. of docus / no. of times a word is present in a doc via count_of_word_in_whole_dataset()\n",
    "\n",
    "        # Now just multiply TF with count_of_word_in_whole_dataset\n",
    "        # Below formulae to exactly replicate sklearn's formulae for tf-df calculation\n",
    "        # See - https://scikit-learn.org/stable/modules/feature_extraction.html#text-feature-extraction\n",
    "        # If ``smooth_idf=True`` (the default), the constant \"1\" is added to the\n",
    "        # numerator and denominator of the idf as if an extra document was seen\n",
    "        # containing every term in the collection exactly once, which prevents\n",
    "        # zero divisions: idf(t) = log [ (1 + n) / (1 + df(t)) ] + 1.\n",
    "        # https://github.com/scikit-learn/scikit-learn/blob/master/sklearn/feature_extraction/text.py#L1340\n",
    "        tf_idf_value = (freq/len(row.split()))*(1 + (  np.log( (1 + len(dataset) ) / (1 + count_of_word_in_whole_dataset(dataset, word) ))))\n",
    "\n",
    "        # but if smooth_idf=False then the following formulae would have been applied\n",
    "        # val = (freq/len(row.split()))*(1 + (  np.log( (int(len(dataset)) ) / (count_of_word_in_whole_dataset(dataset, word) ))))\n",
    "\n",
    "        values.append(tf_idf_value)\n",
    "\n",
    "        sparse_matrix = csr_matrix((values, (rows,columns)), shape=(len(dataset), len(word_dimension_dict)))\n",
    "\n",
    "        # As noted earlier, in sk-learn this output is normalized using L2 normalization. sklearn does this by default.\n",
    "        # So we have to do that as well to match with sk-learn\n",
    "        # normalize() function will apply ‘l2’, normalization by default\n",
    "        # The 'norm' parameter to use to normalize each non zero sample\n",
    "        # (or each non-zero feature if axis is 0).\n",
    "        # https://scikit-learn.org/stable/modules/preprocessing.html#preprocessing-normalization\n",
    "        final_normalized_output = normalize(sparse_matrix)\n",
    "\n",
    "  return final_normalized_output\n"
   ],
   "outputs": [],
   "metadata": {
    "collapsed": false,
    "jupyter": {
     "outputs_hidden": false
    },
    "pycharm": {
     "name": "#%%\n"
    }
   }
  },
  {
   "cell_type": "code",
   "execution_count": 10,
   "source": [
    "tf_idf_vectorized_custom = transform_custom(corpus_1, word_dimension_dict)\n",
    "\n",
    "# As the final output of sklearn tf-idf vectorizer is a sparse matrix to save storage space\n",
    "# To visually understand the output better, we need to convert the sparse output matrix to dense matrix with toarray()\n",
    "print(tf_idf_vectorized_custom.toarray())\n",
    "\n",
    "# Even more clear way to visually inspect the output is to convert it to a pandas dataframe\n",
    "# So below I will convert that to a dataframe and then use todense()\n",
    "custom_tf_idf_output = tf_idf_vectorized_custom[0]\n",
    "df_custom_tf_idf = pd.DataFrame(custom_tf_idf_output.T.todense(),  index=word_dimension_dict.keys(), columns=['tf-idf'])\n",
    "df_custom_tf_idf.sort_values(by=[\"tf-idf\"], ascending=True)\n",
    "df_custom_tf_idf"
   ],
   "outputs": [
    {
     "output_type": "stream",
     "name": "stdout",
     "text": [
      "[[0.         0.46979139 0.58028582 0.38408524 0.         0.\n",
      "  0.38408524 0.         0.38408524]\n",
      " [0.         0.6876236  0.         0.28108867 0.         0.53864762\n",
      "  0.28108867 0.         0.28108867]\n",
      " [0.51184851 0.         0.         0.26710379 0.51184851 0.\n",
      "  0.26710379 0.51184851 0.26710379]\n",
      " [0.         0.46979139 0.58028582 0.38408524 0.         0.\n",
      "  0.38408524 0.         0.38408524]]\n"
     ]
    },
    {
     "output_type": "execute_result",
     "data": {
      "text/plain": [
       "            tf-idf\n",
       "and       0.000000\n",
       "document  0.469791\n",
       "first     0.580286\n",
       "is        0.384085\n",
       "one       0.000000\n",
       "second    0.000000\n",
       "the       0.384085\n",
       "third     0.000000\n",
       "this      0.384085"
      ],
      "text/html": [
       "<div>\n",
       "<style scoped>\n",
       "    .dataframe tbody tr th:only-of-type {\n",
       "        vertical-align: middle;\n",
       "    }\n",
       "\n",
       "    .dataframe tbody tr th {\n",
       "        vertical-align: top;\n",
       "    }\n",
       "\n",
       "    .dataframe thead th {\n",
       "        text-align: right;\n",
       "    }\n",
       "</style>\n",
       "<table border=\"1\" class=\"dataframe\">\n",
       "  <thead>\n",
       "    <tr style=\"text-align: right;\">\n",
       "      <th></th>\n",
       "      <th>tf-idf</th>\n",
       "    </tr>\n",
       "  </thead>\n",
       "  <tbody>\n",
       "    <tr>\n",
       "      <th>and</th>\n",
       "      <td>0.000000</td>\n",
       "    </tr>\n",
       "    <tr>\n",
       "      <th>document</th>\n",
       "      <td>0.469791</td>\n",
       "    </tr>\n",
       "    <tr>\n",
       "      <th>first</th>\n",
       "      <td>0.580286</td>\n",
       "    </tr>\n",
       "    <tr>\n",
       "      <th>is</th>\n",
       "      <td>0.384085</td>\n",
       "    </tr>\n",
       "    <tr>\n",
       "      <th>one</th>\n",
       "      <td>0.000000</td>\n",
       "    </tr>\n",
       "    <tr>\n",
       "      <th>second</th>\n",
       "      <td>0.000000</td>\n",
       "    </tr>\n",
       "    <tr>\n",
       "      <th>the</th>\n",
       "      <td>0.384085</td>\n",
       "    </tr>\n",
       "    <tr>\n",
       "      <th>third</th>\n",
       "      <td>0.000000</td>\n",
       "    </tr>\n",
       "    <tr>\n",
       "      <th>this</th>\n",
       "      <td>0.384085</td>\n",
       "    </tr>\n",
       "  </tbody>\n",
       "</table>\n",
       "</div>"
      ]
     },
     "metadata": {},
     "execution_count": 10
    }
   ],
   "metadata": {
    "collapsed": false,
    "jupyter": {
     "outputs_hidden": false
    },
    "pycharm": {
     "name": "#%%\n"
    }
   }
  },
  {
   "cell_type": "markdown",
   "source": [
    "<h2 style=\"font-size:150%; font-family:cursive; color:#ff6666;\">TFIDF - Sklearn Implementation <a id=\"3\"></a><h2>\n",
    "\n",
    "#### [Back to the top](#0)\n"
   ],
   "metadata": {
    "pycharm": {
     "name": "#%% md\n"
    }
   }
  },
  {
   "cell_type": "code",
   "execution_count": 11,
   "source": [
    "from sklearn.feature_extraction.text import TfidfVectorizer\n",
    "vectorizer = TfidfVectorizer()\n",
    "vectorizer.fit(corpus_1)\n",
    "# print('vectorizer is ', vectorizer)"
   ],
   "outputs": [
    {
     "output_type": "execute_result",
     "data": {
      "text/plain": [
       "TfidfVectorizer(analyzer='word', binary=False, decode_error='strict',\n",
       "                dtype=<class 'numpy.float64'>, encoding='utf-8',\n",
       "                input='content', lowercase=True, max_df=1.0, max_features=None,\n",
       "                min_df=1, ngram_range=(1, 1), norm='l2', preprocessor=None,\n",
       "                smooth_idf=True, stop_words=None, strip_accents=None,\n",
       "                sublinear_tf=False, token_pattern='(?u)\\\\b\\\\w\\\\w+\\\\b',\n",
       "                tokenizer=None, use_idf=True, vocabulary=None)"
      ]
     },
     "metadata": {},
     "execution_count": 11
    }
   ],
   "metadata": {
    "collapsed": false,
    "jupyter": {
     "outputs_hidden": false
    },
    "pycharm": {
     "name": "#%%\n"
    }
   }
  },
  {
   "cell_type": "code",
   "execution_count": 12,
   "source": [
    "skl_tf_idf_vectorized = vectorizer.transform(corpus_1)\n",
    "\n",
    "# As the final output of sklearn tf-idf vectorizer is a sparse matrix to save storage space\n",
    "# To visually understand the output better, we need to convert the sparse output matrix to dense matrix with toarray()\n",
    "print(skl_tf_idf_vectorized.toarray())\n",
    "# print(skl_tf_idf_vectorized[0])\n",
    "\n",
    "# As above Even more clear way to visually inspect the output is to convert it to a pandas dataframe\n",
    "# So below I will convert that to a dataframe and then use todense()\n",
    "skl_tfdf_output = skl_tf_idf_vectorized[0]\n",
    "df_tfdf_sklearn = pd.DataFrame(skl_tfdf_output.T.todense(), index=vectorizer.get_feature_names(), columns=['tf-idf'])\n",
    "df_tfdf_sklearn.sort_values(by=[\"tf-idf\"], ascending=True)\n",
    "df_tfdf_sklearn"
   ],
   "outputs": [
    {
     "output_type": "stream",
     "name": "stdout",
     "text": [
      "[[0.         0.46979139 0.58028582 0.38408524 0.         0.\n",
      "  0.38408524 0.         0.38408524]\n",
      " [0.         0.6876236  0.         0.28108867 0.         0.53864762\n",
      "  0.28108867 0.         0.28108867]\n",
      " [0.51184851 0.         0.         0.26710379 0.51184851 0.\n",
      "  0.26710379 0.51184851 0.26710379]\n",
      " [0.         0.46979139 0.58028582 0.38408524 0.         0.\n",
      "  0.38408524 0.         0.38408524]]\n"
     ]
    },
    {
     "output_type": "execute_result",
     "data": {
      "text/plain": [
       "            tf-idf\n",
       "and       0.000000\n",
       "document  0.469791\n",
       "first     0.580286\n",
       "is        0.384085\n",
       "one       0.000000\n",
       "second    0.000000\n",
       "the       0.384085\n",
       "third     0.000000\n",
       "this      0.384085"
      ],
      "text/html": [
       "<div>\n",
       "<style scoped>\n",
       "    .dataframe tbody tr th:only-of-type {\n",
       "        vertical-align: middle;\n",
       "    }\n",
       "\n",
       "    .dataframe tbody tr th {\n",
       "        vertical-align: top;\n",
       "    }\n",
       "\n",
       "    .dataframe thead th {\n",
       "        text-align: right;\n",
       "    }\n",
       "</style>\n",
       "<table border=\"1\" class=\"dataframe\">\n",
       "  <thead>\n",
       "    <tr style=\"text-align: right;\">\n",
       "      <th></th>\n",
       "      <th>tf-idf</th>\n",
       "    </tr>\n",
       "  </thead>\n",
       "  <tbody>\n",
       "    <tr>\n",
       "      <th>and</th>\n",
       "      <td>0.000000</td>\n",
       "    </tr>\n",
       "    <tr>\n",
       "      <th>document</th>\n",
       "      <td>0.469791</td>\n",
       "    </tr>\n",
       "    <tr>\n",
       "      <th>first</th>\n",
       "      <td>0.580286</td>\n",
       "    </tr>\n",
       "    <tr>\n",
       "      <th>is</th>\n",
       "      <td>0.384085</td>\n",
       "    </tr>\n",
       "    <tr>\n",
       "      <th>one</th>\n",
       "      <td>0.000000</td>\n",
       "    </tr>\n",
       "    <tr>\n",
       "      <th>second</th>\n",
       "      <td>0.000000</td>\n",
       "    </tr>\n",
       "    <tr>\n",
       "      <th>the</th>\n",
       "      <td>0.384085</td>\n",
       "    </tr>\n",
       "    <tr>\n",
       "      <th>third</th>\n",
       "      <td>0.000000</td>\n",
       "    </tr>\n",
       "    <tr>\n",
       "      <th>this</th>\n",
       "      <td>0.384085</td>\n",
       "    </tr>\n",
       "  </tbody>\n",
       "</table>\n",
       "</div>"
      ]
     },
     "metadata": {},
     "execution_count": 12
    }
   ],
   "metadata": {
    "collapsed": false,
    "jupyter": {
     "outputs_hidden": false
    },
    "pycharm": {
     "name": "#%%\n"
    }
   }
  },
  {
   "cell_type": "markdown",
   "source": [
    "#### So from above we can see the dense-matrix printed are the same both for my custom function and from using scikit-learn's TfidfVectorizer\n",
    "\n",
    "\n",
    "<h2 style=\"font-size:150%; font-family:cursive; color:#ff6666;\"><b> Implement max features functionality  <a id=\"4\"></a> </b><h2>\n",
    "\n",
    "#### [Back to the top](#0)\n",
    "\n",
    "\n",
    "\n",
    "### Same as above implementation, but now ONLY consider top-50 words by top-50 IDF scores\n",
    "\n",
    "As a part of this task I have to modify our fit and transform functions so that our vocab will contain only 50 terms with top idf scores.\n",
    "\n",
    "    This task is similar to our previous task, just that here our vocabulary is limited to only top 50 features names based on their idf values. Basically our output will have exactly 50 columns and the number of rows will depend on the number of documents I have in our corpus.\n",
    "\n",
    "    Here I will be give a pickle file, with file name <strong>cleaned_strings</strong>. You would have to load the corpus from this file and use it as input to our tfidf vectorizer.\n",
    "\n",
    "    Steps to approach this task:\n",
    "\n",
    "         - You would have to write both fit and transform methods for our custom implementation of tfidf vectorizer, just like in the previous task. Additionally, here I have to limit the number of features generated to 50 as described above.\n",
    "         \n",
    "         - Now sort our vocab based in descending order of idf values and print out the words in the sorted voacb after I fit our data. Here I should be getting only 50 terms in our vocab. And make sure to print idf values for each term in our vocab.\n",
    "         Make sure the output of our implementation is a sparse matrix.\n",
    "\n",
    "         - Before generating the final output, I need to normalize our sparse matrix using L2 normalization. You can refer to [this link](https://scikit-learn.org/stable/modules/generated/sklearn.preprocessing.normalize.html)\n",
    "\n",
    "         - Now check the output of a single document in our collection of documents,  I can convert the sparse matrix related only to that document into dense matrix and print it. And this dense matrix should contain 1 row and 50 columns.\n"
   ],
   "metadata": {
    "pycharm": {
     "name": "#%% md\n"
    }
   }
  },
  {
   "cell_type": "code",
   "execution_count": 13,
   "source": [
    "import urllib.request\n",
    "import pickle\n",
    "\n",
    "corpus_2 = pickle.load(urllib.request.urlopen(\"https://github.com/rohan-paul/Multiple-Dataset/blob/main/3-tf-idf/cleaned_strings?raw=true\"))\n"
   ],
   "outputs": [],
   "metadata": {
    "collapsed": false,
    "jupyter": {
     "outputs_hidden": false
    },
    "pycharm": {
     "name": "#%%\n"
    }
   }
  },
  {
   "cell_type": "code",
   "execution_count": 14,
   "source": [
    "# Defining an utility Function to calculate the number of times a word appears in a whole dataset\n",
    "def count_of_word_in_whole_dataset(dataset, word):\n",
    "  count = 0\n",
    "  for row in dataset:\n",
    "    if word in row:\n",
    "      count = count+1\n",
    "  return count"
   ],
   "outputs": [],
   "metadata": {
    "collapsed": false,
    "jupyter": {
     "outputs_hidden": false
    },
    "pycharm": {
     "name": "#%%\n"
    }
   }
  },
  {
   "cell_type": "code",
   "execution_count": 15,
   "source": [
    "def fit_custom_top_50(dataset):\n",
    "    unique_words_list = []\n",
    "    idf_value_list = []\n",
    "\n",
    "    for row in dataset:\n",
    "        for word in row.split(\" \"):\n",
    "            if (len(word) >=2) and word not in unique_words_list:\n",
    "                unique_words_list.append(word)\n",
    "\n",
    "    for word in unique_words_list:\n",
    "        idf_value = 1 + (  np.log( (1 + len(dataset) ) / (1 + count_of_word_in_whole_dataset(dataset, word) )))\n",
    "        idf_value_list.append(idf_value)\n",
    "\n",
    "    '''So now I have 2 lists something of the below form\n",
    "\n",
    "    unique_words_list => ['this', 'is', 'the', 'first', 'document', 'second', 'and', 'third', 'one']\n",
    "    idf_value_list => [1.0, 1.0, 1.0, 1.510, 1.2, 1.91, 1.9, 1.91, 1.9]\n",
    "\n",
    "    And the first one exactly maps to the second one\n",
    "\n",
    "    And all I have to do is sort the 'unique_words_list' in descending order by the second list value\n",
    "\n",
    "    '''\n",
    "\n",
    "    combined_list = zip(idf_value_list, unique_words_list )\n",
    "    sorted_combined_list = sorted(combined_list, reverse=True)\n",
    "    sorted_unique_words_list = [element for _, element in sorted_combined_list]\n",
    "\n",
    "    word_dimension_dict_top_50 = {j:i for i,j in enumerate(sorted_unique_words_list[:50]) }\n",
    "    # word_dimension_dict_top_50 = {j:i for i,j in enumerate(unique_words_list)}\n",
    "\n",
    "    return word_dimension_dict_top_50\n",
    "\n",
    "\n",
    "word_dimension_dict_top_50 = fit_custom_top_50(corpus_2)\n",
    "# print(\"sorted word_dimension_dict_top_50 \", word_dimension_dict_top_50)"
   ],
   "outputs": [],
   "metadata": {
    "collapsed": false,
    "jupyter": {
     "outputs_hidden": false
    },
    "pycharm": {
     "name": "#%%\n"
    }
   }
  },
  {
   "cell_type": "code",
   "execution_count": 16,
   "source": [
    "# TRANSFROM METHOD - Same as earlier implemented\n",
    "# Input : set of documents, word_dimension_dict_top_50 from fit_custom() ; Output : TF-count_of_word_in_whole_dataset Matrix\n",
    "def transform_custom_top_50(dataset, word_dimension_dict_top_50):\n",
    "  rows = []\n",
    "  columns = []\n",
    "  values = []\n",
    "  tf_val = []\n",
    "  idf_val = []\n",
    "  for idx, row in enumerate(dataset): # for each document in the dataset\n",
    "    # it will return a dict type object where key is the word and values is its frequency, {word:frequency}\n",
    "    word_freq = dict(Counter(row.split()))\n",
    "    # for every unique word in the document\n",
    "    for word, freq in word_freq.items():\n",
    "      if len(word) < 2:\n",
    "        continue\n",
    "      # we will check if its there in the word_dimension_dictionary that we build in fit_custom() function\n",
    "      # dict.get() function will return the values, if the key doesn't exits it will return -1\n",
    "      col_index = word_dimension_dict_top_50.get(word, -1) # retrieving the dimension number of a word\n",
    "      if col_index!=-1:\n",
    "        # we are storing the index of the document\n",
    "        rows.append(idx)\n",
    "        # we are storing the dimensions of the word\n",
    "        columns.append(col_index)\n",
    "        tf_idf_value = (freq/len(row.split()))*(1 + (  np.log( (1 + len(dataset) ) / (1 + count_of_word_in_whole_dataset(dataset,word) ))))\n",
    "\n",
    "        values.append(tf_idf_value)\n",
    "\n",
    "        sparse_matrix = csr_matrix((values, (rows,columns)), shape=(len(dataset), len(word_dimension_dict_top_50)))\n",
    "\n",
    "        final_normalized_output = normalize(sparse_matrix)\n",
    "\n",
    "  return final_normalized_output\n"
   ],
   "outputs": [],
   "metadata": {
    "collapsed": false,
    "jupyter": {
     "outputs_hidden": false
    },
    "pycharm": {
     "name": "#%%\n"
    }
   }
  },
  {
   "cell_type": "code",
   "execution_count": 17,
   "source": [
    "tf_idf_vectorized_custom = transform_custom_top_50(corpus_2, word_dimension_dict_top_50)\n",
    "\n",
    "# As the final output of sklearn tf-idf vectorizer is a sparse matrix to save storage space\n",
    "# To visually understand the output better, we need to convert the sparse output matrix to dense matrix with toarray()\n",
    "print(tf_idf_vectorized_custom.toarray())\n",
    "\n",
    "# Even more clear way to see the output is to convert it to a pandas dataframe\n",
    "# So below I will convert that to a dataframe and then use todense()\n",
    "custom_tf_idf_output = tf_idf_vectorized_custom[0]\n",
    "df_custom_tf_idf = pd.DataFrame(custom_tf_idf_output.T.todense(),  index=word_dimension_dict_top_50.keys(), columns=['tf-idf'])\n",
    "df_custom_tf_idf.sort_values(by=[\"tf-idf\"], ascending=True)\n",
    "df_custom_tf_idf.T"
   ],
   "outputs": [
    {
     "output_type": "stream",
     "name": "stdout",
     "text": [
      "[[0. 0. 0. ... 0. 0. 0.]\n",
      " [0. 0. 0. ... 0. 0. 0.]\n",
      " [0. 0. 0. ... 0. 0. 0.]\n",
      " ...\n",
      " [0. 0. 0. ... 0. 0. 0.]\n",
      " [0. 0. 0. ... 0. 0. 0.]\n",
      " [0. 0. 0. ... 0. 0. 0.]]\n"
     ]
    },
    {
     "output_type": "execute_result",
     "data": {
      "text/plain": [
       "        zombiez  zillion  yun  youtube  youthful  younger  yelps  yawn  \\\n",
       "tf-idf      0.0      0.0  0.0      0.0       0.0      0.0    0.0   0.0   \n",
       "\n",
       "        yardley  wrote  ...  wedding  website  weaving  weariness  weaker  \\\n",
       "tf-idf      0.0    0.0  ...      0.0      0.0      0.0        0.0     0.0   \n",
       "\n",
       "        wayne  waylaid  wave  wasting  waster  \n",
       "tf-idf    0.0      0.0   0.0      0.0     0.0  \n",
       "\n",
       "[1 rows x 50 columns]"
      ],
      "text/html": [
       "<div>\n",
       "<style scoped>\n",
       "    .dataframe tbody tr th:only-of-type {\n",
       "        vertical-align: middle;\n",
       "    }\n",
       "\n",
       "    .dataframe tbody tr th {\n",
       "        vertical-align: top;\n",
       "    }\n",
       "\n",
       "    .dataframe thead th {\n",
       "        text-align: right;\n",
       "    }\n",
       "</style>\n",
       "<table border=\"1\" class=\"dataframe\">\n",
       "  <thead>\n",
       "    <tr style=\"text-align: right;\">\n",
       "      <th></th>\n",
       "      <th>zombiez</th>\n",
       "      <th>zillion</th>\n",
       "      <th>yun</th>\n",
       "      <th>youtube</th>\n",
       "      <th>youthful</th>\n",
       "      <th>younger</th>\n",
       "      <th>yelps</th>\n",
       "      <th>yawn</th>\n",
       "      <th>yardley</th>\n",
       "      <th>wrote</th>\n",
       "      <th>...</th>\n",
       "      <th>wedding</th>\n",
       "      <th>website</th>\n",
       "      <th>weaving</th>\n",
       "      <th>weariness</th>\n",
       "      <th>weaker</th>\n",
       "      <th>wayne</th>\n",
       "      <th>waylaid</th>\n",
       "      <th>wave</th>\n",
       "      <th>wasting</th>\n",
       "      <th>waster</th>\n",
       "    </tr>\n",
       "  </thead>\n",
       "  <tbody>\n",
       "    <tr>\n",
       "      <th>tf-idf</th>\n",
       "      <td>0.0</td>\n",
       "      <td>0.0</td>\n",
       "      <td>0.0</td>\n",
       "      <td>0.0</td>\n",
       "      <td>0.0</td>\n",
       "      <td>0.0</td>\n",
       "      <td>0.0</td>\n",
       "      <td>0.0</td>\n",
       "      <td>0.0</td>\n",
       "      <td>0.0</td>\n",
       "      <td>...</td>\n",
       "      <td>0.0</td>\n",
       "      <td>0.0</td>\n",
       "      <td>0.0</td>\n",
       "      <td>0.0</td>\n",
       "      <td>0.0</td>\n",
       "      <td>0.0</td>\n",
       "      <td>0.0</td>\n",
       "      <td>0.0</td>\n",
       "      <td>0.0</td>\n",
       "      <td>0.0</td>\n",
       "    </tr>\n",
       "  </tbody>\n",
       "</table>\n",
       "<p>1 rows × 50 columns</p>\n",
       "</div>"
      ]
     },
     "metadata": {},
     "execution_count": 17
    }
   ],
   "metadata": {
    "collapsed": false,
    "jupyter": {
     "outputs_hidden": false
    },
    "pycharm": {
     "name": "#%%\n"
    }
   }
  },
  {
   "cell_type": "markdown",
   "source": [
    "### As we can see above the dataframe has 1 row and 50 columns\n",
    "\n",
    "#### Now will implement tf-idf with sklearn's TfidfVectorizer on the same Pickle dataset"
   ],
   "metadata": {}
  },
  {
   "cell_type": "code",
   "execution_count": 18,
   "source": [
    "from sklearn.feature_extraction.text import TfidfVectorizer\n",
    "vectorizer = TfidfVectorizer()\n",
    "vectorizer.fit(corpus_2)"
   ],
   "outputs": [
    {
     "output_type": "execute_result",
     "data": {
      "text/plain": [
       "TfidfVectorizer(analyzer='word', binary=False, decode_error='strict',\n",
       "                dtype=<class 'numpy.float64'>, encoding='utf-8',\n",
       "                input='content', lowercase=True, max_df=1.0, max_features=None,\n",
       "                min_df=1, ngram_range=(1, 1), norm='l2', preprocessor=None,\n",
       "                smooth_idf=True, stop_words=None, strip_accents=None,\n",
       "                sublinear_tf=False, token_pattern='(?u)\\\\b\\\\w\\\\w+\\\\b',\n",
       "                tokenizer=None, use_idf=True, vocabulary=None)"
      ]
     },
     "metadata": {},
     "execution_count": 18
    }
   ],
   "metadata": {
    "collapsed": false,
    "jupyter": {
     "outputs_hidden": false
    },
    "pycharm": {
     "name": "#%%\n"
    }
   }
  },
  {
   "cell_type": "code",
   "execution_count": 19,
   "source": [
    "skl_tf_idf_vectorized = vectorizer.transform(corpus_2)\n",
    "\n",
    "# As the final output of sklearn tf-idf vectorizer is a sparse matrix to save storage space\n",
    "# To visually understand the output better, we need to convert the sparse output matrix to dense matrix with toarray()\n",
    "print(skl_tf_idf_vectorized.toarray())\n",
    "# print(skl_tf_idf_vectorized[0])\n",
    "\n",
    "# As above Even more clear way to see the output is to convert it to a pandas dataframe\n",
    "# So below I will convert that to a dataframe and then use todense()\n",
    "skl_tfdf_output = skl_tf_idf_vectorized[0]\n",
    "df_tfdf_sklearn = pd.DataFrame(skl_tfdf_output.T.todense(), index=vectorizer.get_feature_names(), columns=['tf-idf'])\n",
    "df_tfdf_sklearn.sort_values(by=[\"tf-idf\"], ascending=True)\n",
    "df_tfdf_sklearn"
   ],
   "outputs": [
    {
     "output_type": "stream",
     "name": "stdout",
     "text": [
      "[[0. 0. 0. ... 0. 0. 0.]\n",
      " [0. 0. 0. ... 0. 0. 0.]\n",
      " [0. 0. 0. ... 0. 0. 0.]\n",
      " ...\n",
      " [0. 0. 0. ... 0. 0. 0.]\n",
      " [0. 0. 0. ... 0. 0. 0.]\n",
      " [0. 0. 0. ... 0. 0. 0.]]\n"
     ]
    },
    {
     "output_type": "execute_result",
     "data": {
      "text/plain": [
       "            tf-idf\n",
       "aailiyah       0.0\n",
       "abandoned      0.0\n",
       "ability        0.0\n",
       "abroad         0.0\n",
       "absolutely     0.0\n",
       "...            ...\n",
       "youtube        0.0\n",
       "yun            0.0\n",
       "zillion        0.0\n",
       "zombie         0.0\n",
       "zombiez        0.0\n",
       "\n",
       "[2886 rows x 1 columns]"
      ],
      "text/html": [
       "<div>\n",
       "<style scoped>\n",
       "    .dataframe tbody tr th:only-of-type {\n",
       "        vertical-align: middle;\n",
       "    }\n",
       "\n",
       "    .dataframe tbody tr th {\n",
       "        vertical-align: top;\n",
       "    }\n",
       "\n",
       "    .dataframe thead th {\n",
       "        text-align: right;\n",
       "    }\n",
       "</style>\n",
       "<table border=\"1\" class=\"dataframe\">\n",
       "  <thead>\n",
       "    <tr style=\"text-align: right;\">\n",
       "      <th></th>\n",
       "      <th>tf-idf</th>\n",
       "    </tr>\n",
       "  </thead>\n",
       "  <tbody>\n",
       "    <tr>\n",
       "      <th>aailiyah</th>\n",
       "      <td>0.0</td>\n",
       "    </tr>\n",
       "    <tr>\n",
       "      <th>abandoned</th>\n",
       "      <td>0.0</td>\n",
       "    </tr>\n",
       "    <tr>\n",
       "      <th>ability</th>\n",
       "      <td>0.0</td>\n",
       "    </tr>\n",
       "    <tr>\n",
       "      <th>abroad</th>\n",
       "      <td>0.0</td>\n",
       "    </tr>\n",
       "    <tr>\n",
       "      <th>absolutely</th>\n",
       "      <td>0.0</td>\n",
       "    </tr>\n",
       "    <tr>\n",
       "      <th>...</th>\n",
       "      <td>...</td>\n",
       "    </tr>\n",
       "    <tr>\n",
       "      <th>youtube</th>\n",
       "      <td>0.0</td>\n",
       "    </tr>\n",
       "    <tr>\n",
       "      <th>yun</th>\n",
       "      <td>0.0</td>\n",
       "    </tr>\n",
       "    <tr>\n",
       "      <th>zillion</th>\n",
       "      <td>0.0</td>\n",
       "    </tr>\n",
       "    <tr>\n",
       "      <th>zombie</th>\n",
       "      <td>0.0</td>\n",
       "    </tr>\n",
       "    <tr>\n",
       "      <th>zombiez</th>\n",
       "      <td>0.0</td>\n",
       "    </tr>\n",
       "  </tbody>\n",
       "</table>\n",
       "<p>2886 rows × 1 columns</p>\n",
       "</div>"
      ]
     },
     "metadata": {},
     "execution_count": 19
    }
   ],
   "metadata": {
    "collapsed": false,
    "jupyter": {
     "outputs_hidden": false
    },
    "pycharm": {
     "name": "#%%\n"
    }
   }
  },
  {
   "cell_type": "code",
   "execution_count": 20,
   "source": [
    "from sklearn.datasets import make_classification\n",
    "from sklearn.model_selection import train_test_split\n",
    "from sklearn.preprocessing import StandardScaler\n",
    "import numpy\n",
    "from tqdm import tqdm\n",
    "import numpy as np\n",
    "from sklearn.metrics.pairwise import euclidean_distances\n",
    "\n",
    "\n",
    "x,y = make_classification(n_samples=10000, n_features=2, n_informative=2, n_redundant= 0, n_clusters_per_class=1, random_state=60)\n",
    "X_train, X_test, y_train, y_test = train_test_split(x,y,stratify=y,random_state=42)\n",
    "\n",
    "# del X_train,X_test"
   ],
   "outputs": [],
   "metadata": {
    "colab": {},
    "colab_type": "code",
    "id": "ZcCHqcAMk0su"
   }
  },
  {
   "cell_type": "code",
   "execution_count": 21,
   "source": [
    "%matplotlib inline\n",
    "import matplotlib.pyplot as plt\n",
    "#colors = {0:'orange', 1:'blue'}\n",
    "plt.scatter(X_test[:,0], X_test[:,1],c=y_test)\n",
    "plt.show()"
   ],
   "outputs": [
    {
     "output_type": "display_data",
     "data": {
      "text/plain": [
       "<Figure size 432x288 with 1 Axes>"
      ],
      "image/png": "[encoded data removed]"
     },
     "metadata": {
      "needs_background": "light"
     }
    }
   ],
   "metadata": {
    "colab": {
     "base_uri": "https://localhost:8080/",
     "height": 269
    },
    "colab_type": "code",
    "executionInfo": {
     "elapsed": 1684,
     "status": "ok",
     "timestamp": 1566979295370,
     "user": {
      "displayName": "Applied AI Course",
      "photoUrl": "https://lh3.googleusercontent.com/a-/AAuE7mDxYhGxtv2B1V63cEKlB91nfsv0JJZBMP1XYabi=s64",
      "userId": "00484516897554883881"
     },
     "user_tz": -330
    },
    "id": "4pUkhsmkk0s2",
    "outputId": "b1dd13bd-785b-43a5-e166-0b039aeff762"
   }
  },
  {
   "cell_type": "markdown",
   "source": [
    "<h1 style=\"font-size:150%; font-family:cursive; color:#ff6666;\">2. GridSearchCV<a id=\"20\"></a></h1>\n",
    "\n",
    "# Implementing Custom GridSearchCV without sklearn\n",
    "\n",
    "#### [Back to the top](#0)"
   ],
   "metadata": {
    "colab_type": "text",
    "id": "hkcerMvNk0s9"
   }
  },
  {
   "cell_type": "code",
   "execution_count": 22,
   "source": [
    "# it will take classifier and set of values for hyper prameter in dict type dict({hyper parmeter: [list of values]})\n",
    "# we are implementing this only for KNN, hence the hyper parameter should be n_neighbors\n",
    "from sklearn.metrics import accuracy_score\n",
    "def randomly_select_60_percent_indices_in_range_from_1_to_len(x_train):\n",
    "    return random.sample(range(0, len(x_train)), int(0.6*len(x_train)))\n",
    "\n",
    "def GridSearch(x_train,y_train,classifier, params, folds):\n",
    "    trainscores = []\n",
    "    testscores  = []    \n",
    "    for k in tqdm(params['n_neighbors']):\n",
    "        trainscores_folds = []\n",
    "        testscores_folds  = []\n",
    "        for j in range(0, folds):\n",
    "            # check this out: https://stackoverflow.com/a/9755548/4084039\n",
    "            train_indices = randomly_select_60_percent_indices_in_range_from_1_to_len(x_train)\n",
    "            test_indices  = list(set(list(range(1, len(x_train)))) - set(train_indices))\n",
    "\n",
    "            # selecting the data points based on the train_indices and test_indices\n",
    "            X_train = x_train[train_indices]\n",
    "            Y_train = y_train[train_indices]\n",
    "            X_test  = x_train[test_indices]\n",
    "            Y_test  = y_train[test_indices]\n",
    "\n",
    "            classifier.n_neighbors = k\n",
    "            classifier.fit(X_train,Y_train)\n",
    "\n",
    "            Y_predicted = classifier.predict(X_test)\n",
    "            testscores_folds.append(accuracy_score(Y_test, Y_predicted))\n",
    "\n",
    "            Y_predicted = classifier.predict(X_train)\n",
    "            trainscores_folds.append(accuracy_score(Y_train, Y_predicted))\n",
    "        trainscores.append(np.mean(np.array(trainscores_folds)))\n",
    "        testscores.append(np.mean(np.array(testscores_folds)))\n",
    "    return trainscores,testscores"
   ],
   "outputs": [],
   "metadata": {
    "colab": {},
    "colab_type": "code",
    "id": "ECIhANaPk0s-"
   }
  },
  {
   "cell_type": "code",
   "execution_count": 23,
   "source": [
    "from sklearn.metrics import accuracy_score\n",
    "from sklearn.neighbors import KNeighborsClassifier\n",
    "import matplotlib.pyplot as plt\n",
    "import random\n",
    "import warnings\n",
    "warnings.filterwarnings(\"ignore\")\n",
    "\n",
    "\n",
    "neigh = KNeighborsClassifier()\n",
    "\n",
    "params = {'n_neighbors':[3,5,7,9,11,13,15,17,19,21,23]}\n",
    "folds = 3\n",
    "\n",
    "trainscores,testscores = GridSearch(X_train, y_train, neigh, params, folds)\n",
    " \n",
    "\n",
    "plt.plot(params['n_neighbors'],trainscores, label='train cruve')\n",
    "plt.plot(params['n_neighbors'],testscores, label='test cruve')\n",
    "plt.title('Hyper-parameter VS accuracy plot')\n",
    "plt.legend()\n",
    "plt.show()"
   ],
   "outputs": [
    {
     "output_type": "stream",
     "name": "stderr",
     "text": [
      "100%|██████████| 11/11 [00:06<00:00,  1.79it/s]\n"
     ]
    },
    {
     "output_type": "display_data",
     "data": {
      "text/plain": [
       "<Figure size 432x288 with 1 Axes>"
      ],
      "image/png": "[encoded data removed]"
     },
     "metadata": {
      "needs_background": "light"
     }
    }
   ],
   "metadata": {
    "colab": {},
    "colab_type": "code",
    "id": "B9fI2tTck0tC",
    "outputId": "2af73eaa-d0bf-429c-f765-6ff35a4bd7d7"
   }
  },
  {
   "cell_type": "code",
   "execution_count": 24,
   "source": [
    "# understanding this code line by line is not that importent \n",
    "def plot_decision_boundary(X1, X2, y, clf):\n",
    "        # Create color maps\n",
    "    cmap_light = ListedColormap(['#FFAAAA', '#AAFFAA', '#AAAAFF'])\n",
    "    cmap_bold = ListedColormap(['#FF0000', '#00FF00', '#0000FF'])\n",
    "\n",
    "    x_min, x_max = X1.min() - 1, X1.max() + 1\n",
    "    y_min, y_max = X2.min() - 1, X2.max() + 1\n",
    "    \n",
    "    xx, yy = np.meshgrid(np.arange(x_min, x_max, 0.02), np.arange(y_min, y_max, 0.02))\n",
    "    Z = clf.predict(np.c_[xx.ravel(), yy.ravel()])\n",
    "    Z = Z.reshape(xx.shape)\n",
    "\n",
    "    plt.figure()\n",
    "    plt.pcolormesh(xx, yy, Z, cmap=cmap_light)\n",
    "    # Plot also the training points\n",
    "    plt.scatter(X1, X2, c=y, cmap=cmap_bold)\n",
    "    \n",
    "    plt.xlim(xx.min(), xx.max())\n",
    "    plt.ylim(yy.min(), yy.max())\n",
    "    plt.title(\"2-Class classification (k = %i)\" % (clf.n_neighbors))\n",
    "    plt.show()"
   ],
   "outputs": [],
   "metadata": {
    "colab": {},
    "colab_type": "code",
    "id": "FxPdFjTjk0tG"
   }
  },
  {
   "cell_type": "code",
   "execution_count": 25,
   "source": [
    "from matplotlib.colors import ListedColormap\n",
    "neigh = KNeighborsClassifier(n_neighbors = 21)\n",
    "neigh.fit(X_train, y_train)\n",
    "plot_decision_boundary(X_train[:, 0], X_train[:, 1], y_train, neigh)"
   ],
   "outputs": [
    {
     "output_type": "display_data",
     "data": {
      "text/plain": [
       "<Figure size 432x288 with 1 Axes>"
      ],
      "image/png": "[encoded data removed]"
     },
     "metadata": {
      "needs_background": "light"
     }
    }
   ],
   "metadata": {
    "colab": {},
    "colab_type": "code",
    "id": "qGOKiuBnk0tJ",
    "outputId": "a7133309-ee2e-4224-d670-367c650287bb"
   }
  },
  {
   "cell_type": "markdown",
   "source": [
    "<h1 style=\"font-size:150%; font-family:cursive; color:#ff6666;\">3. RandomSearchCV<a id=\"30\"></a></h1>\n",
    "\n",
    "# Implementing RandomSearchCV from scratch (without scikit-learn)\n",
    "\n",
    "#### [Back to the top](#0)\n",
    "\n",
    "Grid Search can be thought of as an exhaustive search for selecting a model. In Grid Search, the data scientist sets up a grid of hyperparameter values and for each combination, trains a model and scores on the testing data. In this approach, every combination of hyperparameter values is tried which can be very inefficient. For example, searching 20 different parameter values for each of 4 parameters will require 160,000 trials of cross-validation. This equates to 1,600,000 model fits and 1,600,000 predictions if 10-fold cross validation is used. While Scikit Learn offers the GridSearchCV function to simplify the process, it would be an extremely costly execution both in computing power and time.\n",
    "\n",
    "### An alternative way to perform hyperparameter optimization is to perform random sampling on the grid and perform k-fold cross-validation on some randomly selected cells.\n",
    "\n",
    "Random Search sets up a grid of hyperparameter values and selects random combinations to train the model and score. This allows you to explicitly control the number of parameter combinations that are attempted. The number of search iterations is set based on time or resources. Scikit Learn offers the RandomizedSearchCV function for this process.\n",
    "\n",
    "So reducing computational expense using RandomizedSearchCV() is its greatest benefit\n",
    "\n",
    "For example\n",
    "- Searching 10 parameters (each range of 1000)\n",
    "- Require 10,000 trials of CV\n",
    "- 100,000 model fits with 10-fold CV\n",
    "- 100,000 predictions with 10-fold CV\n",
    "\n",
    "`RandomizedSearchCV()` searches a subset of the parameters, and you control the computational \"budget\" You can decide how long you want it to run for depending on the computational time we have\n",
    "\n",
    "Scikit-learn provides an optimizer called **`RandomizedSearchCV()`** to perform a random search for the purpose of hyperparameter optimization.\n",
    "\n",
    "Notice that **`RandomizedSearchCV()`** requires the extra `n_iter` argument, which determines how many random cells must be selected. This determines how many times k-fold cross-validation will be performed. Therefore, by choosing a smaller number, fewer hyperparameter combinations will be considered and the method will take less time to complete. Also, please note that the param_grid argument is changed to param_distributions here. The param_distributions argument can take a dictionary with parameter names as keys, and either list of parameters or distributions as values for each key.\n",
    "\n",
    "It could be argued that **`RandomizedSearchCV()`** is not as good as **`GridSearchCV()`** since it does not consider all the possible values and combinations of values for hyperparameters, which is reasonable. As a result, one smart way of performing hyperparameter tuning for deep learning models is to start with either **`RandomizedSearchCV()`** on many hyperparameters, or **`GridSearchCV()`** on fewer hyperparameters with larger gaps between them.\n",
    "\n",
    "By beginning with a randomized search on many hyperparameters, we can determine which hyperparameters have the most influence on a model's performance. It can also help narrow down the range for important hyperparameters. Then, you can complete your hyperparameter tuning by performing **`GridSearchCV()`** on the smaller number of hyperparameters and the smaller ranges for each of them. This is\n",
    "called the coarse-to-fine approach to hyperparameter tuning. Now, you are ready to practice implementing hyperparameter tuning using scikit-learn optimizers. In the next activity, you will try to improve your model for the diabetes dataset by tuning the hyperparameters.\n",
    "\n",
    "\n",
    "### How does `sklearn.model_selection.RandomizedSearchCV` work?\n",
    "\n",
    "\n",
    "#### So, if tuning the hyperparametes of a random-forest classifier\n",
    "\n",
    "The first step is to write the parameters that we want to consider and from these parameters select the best ones.\n",
    "\n",
    "```python\n",
    "param = {‘max_depth: [6,9, None],\n",
    "         ‘n_estimators’:[50, 70, 100, 150],\n",
    "          'max_features': randint(1,6),\n",
    "          'criterion' : ['gini', 'entropy'],\n",
    "          'bootstrap':[True, False],\n",
    "          'mln_samples_leaf': randint(1,4)}\n",
    "```"
   ],
   "metadata": {}
  },
  {
   "cell_type": "code",
   "execution_count": 26,
   "source": [
    "from sklearn.datasets import make_classification\n",
    "from sklearn.model_selection import train_test_split\n",
    "import numpy as np\n",
    "from tqdm import  tqdm\n",
    "import random"
   ],
   "outputs": [],
   "metadata": {
    "collapsed": false,
    "jupyter": {
     "outputs_hidden": false
    },
    "pycharm": {
     "name": "#%%\n"
    }
   }
  },
  {
   "cell_type": "code",
   "execution_count": 27,
   "source": [
    "x, y = make_classification(n_samples=10000, n_features=2, n_informative=2, n_redundant=0, n_clusters_per_class=1, random_state=60)\n",
    "X_train, X_test, y_train, y_test = train_test_split(x, y, stratify=y, random_state=42)\n",
    "\n",
    "print('X_train :', X_train)\n",
    "X_train.shape"
   ],
   "outputs": [
    {
     "output_type": "stream",
     "name": "stdout",
     "text": [
      "X_train : [[ 0.45267141 -1.42381257]\n",
      " [ 0.61696406 -0.00418956]\n",
      " [-1.80708012 -1.34499648]\n",
      " ...\n",
      " [ 0.63107723 -0.4743162 ]\n",
      " [-0.47320722 -0.6387028 ]\n",
      " [ 1.07909424 -1.67541279]]\n"
     ]
    },
    {
     "output_type": "execute_result",
     "data": {
      "text/plain": [
       "(7500, 2)"
      ]
     },
     "metadata": {},
     "execution_count": 27
    }
   ],
   "metadata": {
    "collapsed": false,
    "jupyter": {
     "outputs_hidden": false
    },
    "pycharm": {
     "name": "#%%\n"
    }
   }
  },
  {
   "cell_type": "code",
   "execution_count": 28,
   "source": [
    "print('y_train : ', y_train)\n",
    "y_train.shape"
   ],
   "outputs": [
    {
     "output_type": "stream",
     "name": "stdout",
     "text": [
      "y_train :  [0 0 1 ... 0 1 0]\n"
     ]
    },
    {
     "output_type": "execute_result",
     "data": {
      "text/plain": [
       "(7500,)"
      ]
     },
     "metadata": {},
     "execution_count": 28
    }
   ],
   "metadata": {
    "collapsed": false,
    "jupyter": {
     "outputs_hidden": false
    },
    "pycharm": {
     "name": "#%%\n"
    }
   }
  },
  {
   "cell_type": "code",
   "execution_count": 29,
   "source": [
    "import matplotlib.pyplot as plt\n",
    "colors = { 0: 'red', 1: 'blue'}\n",
    "plt.scatter(X_test[:, 0], X_test[:, 1], c=y_test)\n",
    "plt.show()"
   ],
   "outputs": [
    {
     "output_type": "display_data",
     "data": {
      "text/plain": [
       "<Figure size 432x288 with 1 Axes>"
      ],
      "image/png": "[encoded data removed]"
     },
     "metadata": {
      "needs_background": "light"
     }
    }
   ],
   "metadata": {
    "collapsed": false,
    "jupyter": {
     "outputs_hidden": false
    },
    "pycharm": {
     "name": "#%%\n"
    }
   }
  },
  {
   "cell_type": "markdown",
   "source": [
    "## pseudocode for RandomSearchCV (without scikit-learn)\n",
    "\n",
    "### The Algorithim steps to implement RandomSearchCV\n",
    "\n",
    "\n",
    "<pre>\n",
    "def RandomSearchCV(x_train,y_train,classifier, param_range, folds):\n",
    "    # x_train: its numpy array of shape, (n,d)\n",
    "    # y_train: its numpy array of shape, (n,) or (n,1)\n",
    "    # classifier: its typically KNeighborsClassifier()\n",
    "    # param_range: its a tuple like (a,b) a < b\n",
    "    # folds: an integer, represents number of folds we need to devide the data and test our model\n",
    "    \n",
    "    \n",
    "    #1.generate 10 unique values(uniform random distribution) in the given range \"param_range\" and store them as \"params\" \n",
    "    # ex: if param_range = (1, 50), we need to generate 10 random numbers in range 1 to 50\n",
    "    #2.devide numbers ranging from  0 to len(X_train) into groups= folds\n",
    "    # ex: folds=3, and len(x_train)=100, we can devide numbers from 0 to 100 into 3 groups \n",
    "      group 1: 0-33, group 2:34-66, group 3: 67-100\n",
    "    #3.for each hyperparameter that we generated in step 1:\n",
    "        # and using the above groups we have created in step 2 you will do cross-validation as follows\n",
    "        \n",
    "        # first we will keep group 1+group 2 i.e. 0-66 as train data and group 3: 67-100 as test data, and find train and\n",
    "          test accuracies\n",
    "          \n",
    "        # second we will keep group 1+group 3 i.e. 0-33, 67-100 as train data and group 2: 34-66 as test data, and find\n",
    "          train and test accuracies\n",
    "          \n",
    "        # third we will keep group 2+group 3 i.e. 34-100 as train data and group 1: 0-33 as test data, and find train and\n",
    "          test accuracies\n",
    "        # based on the 'folds' value we will do the same procedure\n",
    "        \n",
    "        # find the mean of train accuracies of above 3 steps and store in a list \"train_scores\"\n",
    "        # find the mean of test accuracies of above 3 steps and store in a list \"test_scores\"\n",
    "    #4. return both \"train_scores\" and \"test_scores\"\n",
    "\n",
    "#5. call function RandomSearchCV(x_train,y_train,classifier, param_range, folds) and store the returned values into \"train_score\", and \"cv_scores\"\n",
    "#6. plot hyper-parameter vs accuracy plot as shown in reference notebook and choose the best hyperparameter\n",
    "#7. plot the decision boundaries for the model initialized with the best hyperparameter, as shown in the last cell of reference notebook\n",
    "\n",
    "</pre>\n"
   ],
   "metadata": {
    "pycharm": {
     "name": "#%% md\n"
    }
   }
  },
  {
   "cell_type": "code",
   "execution_count": 30,
   "source": [
    "from sklearn.metrics import accuracy_score\n",
    "\n",
    "\n",
    "def randomized_search_cv_custom(x_train_total, y_train_total, classifier, param_range, num_of_total_fold):\n",
    "    # x_train_total: its numpy array of shape, (n,d)\n",
    "    # y_train_total: its numpy array of shape, (n,) or (n,1)\n",
    "    # classifier: its typically KNeighborsClassifier()\n",
    "    # param_range: its a tuple like (a,b) a < b\n",
    "    # num_of_total_fold: an integer, represents number of num_of_total_fold we need to devide the data and test our model\n",
    "\n",
    "    # generating hyper-parameter range\n",
    "    # generate 10 unique values(uniform random distribution) in the given range \"param_range\" and store them as \"params\"\n",
    "    # ex: if param_range = (1, 50), we need to generate 10 random numbers in range 1 to 50\n",
    "    ten_random_values_for_param_range = sorted(random.sample(range(1, param_range), 10))\n",
    "\n",
    "    train_scores = []\n",
    "    test_scores = []\n",
    "\n",
    "    classifier_params = { 'n_neighbors': ten_random_values_for_param_range }\n",
    "    # it will take classifier and set of values for hyper prameter in dict type\n",
    "    # dict({hyper parmeter: [list of values]})\n",
    "    # as we are implementing this only for KNN, the hyper parameter should be n_neighbors\n",
    "    # And I will return it from the function at the end so that I can use this same params\n",
    "    # while plotting the graph as well\n",
    "\n",
    "    for k in tqdm(classifier_params['n_neighbors']):\n",
    "        trainscores_folds = []\n",
    "        testscores_folds = []\n",
    "\n",
    "        for j in range(0, num_of_total_fold):\n",
    "            # divide numbers ranging from  0 to len(x_train_fold) into groups = num_of_total_fold\n",
    "            # basically, splitting the data into k groups (k = len(x_train_fold) / num_of_total_fold)\n",
    "            # It works by first training the algorithm on the k_1 group of the data and\n",
    "            # evaluating it on the kth hold-out group as the test set. This is repeated\n",
    "            # so that each of the k groups is given an opportunity to be held out and used as the test set.\n",
    "            # ex: num_of_total_fold=3, and len(x_train_total)=100, we can divide numbers from 0 to 100 into 3 groups\n",
    "            # group 1: 0-33, group 2:34-66, group 3: 67-100\n",
    "            num_of_elements_in_each_fold = int(len(x_train_total) / num_of_total_fold)\n",
    "\n",
    "            # for each hyperparameter that we generated in step 1:\n",
    "            # and using the above groups we have created in step 2 you will do cross-validation as follows\n",
    "\n",
    "            # first we will keep group 1+group 2 i.e. 0-66 as train data and\n",
    "            # group 3: 67-100 as test data, and find train and test accuracies\n",
    "            # second we will keep group 1+group 3 i.e. 0-33, 67-100 as train data and\n",
    "            # group 2: 34-66 as test data, and find train and test accuracies\n",
    "            # third we will keep group 2+group 3 i.e. 34-100 as train data and\n",
    "            # group 1: 0-33 as test data, and find train and test accuracies\n",
    "            # based on the 'num_of_total_fold' value we will do the same procedure\n",
    "\n",
    "            # NOW IMPLEMENTATION OF THE CONCEPT OF 'fold' as below\n",
    "            # For each of this inner loop running for values of j (where j represents num_of_total_fold of 0, 1, 2, 3 ...)\n",
    "            # each of the test_indices will have the data of a single fold ( which is = num_of_elements_in_each_fold )\n",
    "            # i.e. the test_indices will be the range starting at\n",
    "            # num_of_elements_in_each_fold * j and ending at num_of_elements_in_each_fold * (j + 1)\n",
    "            # And this whole range needs to be converted to list => then apply set() to the list\n",
    "            # => and then again converted to list\n",
    "            test_indices = list(set(list(range((num_of_elements_in_each_fold * j), (num_of_elements_in_each_fold*(j+1))))))\n",
    "            # print('test_indices ', test_indices)\n",
    "\n",
    "            # And the whole rest of the indices of the dataset will be the train_indices\n",
    "            train_indices = list(set(list(range(0, len(x_train_total)))) - set(test_indices) )\n",
    "            # print('train_indices ', train_indices)\n",
    "\n",
    "            ''' So for a dataset of total 100 rows, one loop of j, will have the following test_indices and train_indices\n",
    "\n",
    "            test_indices  [0, 1, 2, 3, 4, 5, 6, 7, 8, 9, 10, 11, 12, 13, 14, 15, 16, 17, 18, 19, 20, 21, 22, 23, 24]\n",
    "\n",
    "            train_indices  [25, 26, 27, 28, 29, 30, 31, 32, 33, 34, 35, 36, 37, 38, 39, 40, 41, 42, 43, 44, 45, 46, 47, 48, 49, 50, 51, 52, 53, 54, 55, 56, 57, 58, 59, 60, 61, 62, 63, 64, 65, 66, 67, 68, 69, 70, 71, 72, 73, 74]\n",
    "\n",
    "            And the next loop of j will have as below (for the same dataset of total 100 rows )\n",
    "\n",
    "            test_indices  [25, 26, 27, 28, 29, 30, 31, 32, 33, 34, 35, 36, 37, 38, 39, 40, 41, 42, 43, 44, 45, 46, 47, 48, 49]\n",
    "            train_indices  [0, 1, 2, 3, 4, 5, 6, 7, 8, 9, 10, 11, 12, 13, 14, 15, 16, 17, 18, 19, 20, 21, 22, 23, 24, 50, 51, 52, 53, 54, 55, 56, 57, 58, 59, 60, 61, 62, 63, 64, 65, 66, 67, 68, 69, 70, 71, 72, 73, 74]\n",
    "            '''\n",
    "\n",
    "            # after we have above, now select datapoints based on test_indices and train_indices\n",
    "            x_train_fold = x_train_total[train_indices]\n",
    "            y_train_fold = y_train_total[train_indices]\n",
    "            x_test_fold = x_train_total[test_indices]\n",
    "            y_test_fold = y_train_total[test_indices]\n",
    "\n",
    "            # Now based on our classifier assign corresponding parameter values\n",
    "            # and also fit() and predict()\n",
    "            classifier.n_neighbors = k\n",
    "            classifier.fit(x_train_fold, y_train_fold)\n",
    "\n",
    "            # First predict based on x_test_fold and keep the accuracy score in the testscores_folds\n",
    "            y_predicted = classifier.predict(x_test_fold)\n",
    "            testscores_folds.append(accuracy_score(y_test_fold, y_predicted))\n",
    "\n",
    "            # Now run prediction based on x_train_fold and append the accuracy score in the trainscores_folds\n",
    "            y_predicted = classifier.predict(x_train_fold)\n",
    "            trainscores_folds.append(accuracy_score(y_train_fold, y_predicted))\n",
    "\n",
    "        train_scores.append(np.mean(np.array(trainscores_folds)))\n",
    "        test_scores.append(np.mean(np.array(testscores_folds)))\n",
    "\n",
    "    return train_scores, test_scores, classifier_params"
   ],
   "outputs": [],
   "metadata": {
    "collapsed": false,
    "jupyter": {
     "outputs_hidden": false
    },
    "pycharm": {
     "name": "#%%\n"
    }
   }
  },
  {
   "cell_type": "code",
   "execution_count": 31,
   "source": [
    "\n",
    "from sklearn.neighbors import KNeighborsClassifier\n",
    "from matplotlib.colors import ListedColormap\n",
    "import matplotlib.pyplot as plt\n",
    "import warnings\n",
    "warnings.filterwarnings(\"ignore\")\n",
    "\n",
    "# Our Classifier is KNN, hence assign a variable to it.\n",
    "neigh = KNeighborsClassifier()\n",
    "params_range = 50\n",
    "number_of_total_folds = 3\n",
    "\n",
    "# Now invoking our custom function randomized_search_cv_custom(x_train,y_train,classifier, param_range, num_of_total_fold) and store the returned values\n",
    "testscores, trainscores, params = randomized_search_cv_custom(X_train, y_train, neigh, params_range, number_of_total_folds)\n",
    "\n",
    "print('trainscores are: ', trainscores)\n",
    "print('testscores are: ', testscores)"
   ],
   "outputs": [
    {
     "output_type": "stream",
     "name": "stderr",
     "text": [
      "100%|██████████| 10/10 [00:05<00:00,  1.81it/s]"
     ]
    },
    {
     "output_type": "stream",
     "name": "stdout",
     "text": [
      "trainscores are:  [0.9409333333333333, 0.9495999999999999, 0.9510666666666667, 0.9529333333333333, 0.9540000000000001, 0.9540000000000001, 0.9535999999999999, 0.9546666666666667, 0.9553333333333334, 0.9553333333333334]\n",
      "testscores are:  [0.9677333333333333, 0.9624666666666667, 0.9611333333333333, 0.9608666666666666, 0.9596666666666667, 0.9589333333333334, 0.9568, 0.9575333333333332, 0.9574666666666666, 0.9576666666666666]\n"
     ]
    },
    {
     "output_type": "stream",
     "name": "stderr",
     "text": [
      "\n"
     ]
    }
   ],
   "metadata": {
    "collapsed": false,
    "jupyter": {
     "outputs_hidden": false
    },
    "pycharm": {
     "is_executing": true,
     "name": "#%%\n"
    }
   }
  },
  {
   "cell_type": "markdown",
   "source": [
    "## Plotting hyper-parameter vs accuracy plot"
   ],
   "metadata": {}
  },
  {
   "cell_type": "code",
   "execution_count": 32,
   "source": [
    "# Now plotting hyper-parameter vs accuracy plot to choose the best hyperparameter\n",
    "plt.plot(params['n_neighbors'], trainscores, label='train curve')\n",
    "plt.plot(params['n_neighbors'], testscores, label='test curve')\n",
    "plt.title('Hyper-parameter VS accuracy plot')\n",
    "plt.legend()\n",
    "plt.show()\n"
   ],
   "outputs": [
    {
     "output_type": "display_data",
     "data": {
      "text/plain": [
       "<Figure size 432x288 with 1 Axes>"
      ],
      "image/png": "[encoded data removed]"
     },
     "metadata": {
      "needs_background": "light"
     }
    }
   ],
   "metadata": {
    "collapsed": false,
    "jupyter": {
     "outputs_hidden": false
    },
    "pycharm": {
     "is_executing": true,
     "name": "#%%\n"
    }
   }
  },
  {
   "cell_type": "code",
   "execution_count": 33,
   "source": [
    "def plot_decision_boundary(X1, X2, y, clf):\n",
    "    # Create color maps\n",
    "    cmap_light = ListedColormap(['#FFAAAA', '#AAFFAA', '#AAAAFF'])\n",
    "    cmap_bold = ListedColormap(['#FF0000', '#00FF00', '#0000FF'])\n",
    "\n",
    "    x_min, x_max = X1.min() - 1, X1.max() + 1\n",
    "    y_min, y_max = X2.min() - 1, X2.max() + 1\n",
    "\n",
    "    xx, yy = np.meshgrid(np.arange(x_min, x_max, 0.02), np.arange(y_min, y_max, 0.02))\n",
    "    Z = clf.predict(np.c_[xx.ravel(), yy.ravel()])\n",
    "    Z = Z.reshape(xx.shape)\n",
    "\n",
    "    plt.figure()\n",
    "    plt.pcolormesh(xx, yy, Z, cmap=cmap_light)\n",
    "    # Plot also the training points\n",
    "    plt.scatter(X1, X2, c=y, cmap=cmap_bold)\n",
    "\n",
    "    plt.xlim(xx.min(), xx.max())\n",
    "    plt.ylim(yy.min(), yy.max())\n",
    "    plt.title(\"2-Class classification (k = %i)\" % (clf.n_neighbors))\n",
    "    plt.show()"
   ],
   "outputs": [],
   "metadata": {
    "collapsed": false,
    "jupyter": {
     "outputs_hidden": false
    },
    "pycharm": {
     "is_executing": true,
     "name": "#%%\n"
    }
   }
  },
  {
   "cell_type": "markdown",
   "source": [
    "## Plotting the decision boundaries for the model initialized with the best hyperparameter"
   ],
   "metadata": {}
  },
  {
   "cell_type": "code",
   "execution_count": 34,
   "source": [
    "# plotting the decision boundaries for the model initialized with the best hyperparameter (45)\n",
    "neigh = KNeighborsClassifier(n_neighbors = 45)\n",
    "neigh.fit(X_train, y_train)\n",
    "plot_decision_boundary(X_train[:, 0], X_train[:, 1], y_train, neigh)"
   ],
   "outputs": [
    {
     "output_type": "display_data",
     "data": {
      "text/plain": [
       "<Figure size 432x288 with 1 Axes>"
      ],
      "image/png": "[encoded data removed]"
     },
     "metadata": {
      "needs_background": "light"
     }
    }
   ],
   "metadata": {
    "collapsed": false,
    "jupyter": {
     "outputs_hidden": false
    },
    "pycharm": {
     "is_executing": true,
     "name": "#%%\n"
    }
   }
  },
  {
   "cell_type": "markdown",
   "source": [
    "<h1 style=\"font-size:150%; font-family:cursive; color:#ff6666;\">4. Decision Function of SVM RBF Kernel<a id=\"40\"></a></h1>\n",
    "\n",
    "# Implementing Decision Function of SVM RBF Kernel from scratch (without sklearn)\n",
    "\n",
    "#### [Back to the top](#0)\n"
   ],
   "metadata": {
    "id": "4LuKrFzC4ZxV"
   }
  },
  {
   "cell_type": "markdown",
   "source": [
    "<font face=' Comic Sans MS' size=3>After we train a kernel SVM model, we will be getting support vectors and their corresponsing coefficients $\\alpha_{i}$\n",
    "\n",
    "Check below scikit-learn documentation for better understanding of these attributes: \n",
    "\n",
    "https://scikit-learn.org/stable/modules/generated/sklearn.svm.SVC.html\n",
    "\n",
    "<img src='https://i.imgur.com/K11msU4.png' width=500>\n",
    "\n",
    "Here we will be implementing the *`decision_function()`* of kernel SVM, and the *`decision_function()`* here means that, based on the value return by *`decision_function()`* the model will classify the data point either as positive or negative.\n",
    "\n",
    "For example, In logistic regression After traning the models with the optimal weights $w$ we get, we will find the value \n",
    "\n",
    "### $$\\frac{1}{1+\\exp(-(wx+b))}$$, \n",
    "\n",
    "If this value comes out to be < 0.5 we will mark it as negative class, else its positive class\n",
    "\n",
    "Another Example In Linear SVM After traning the models with the optimal weights $w$ we get, we will find the value of $sign(wx+b)$, if this value comes out to be -ve we will mark it as negative class, else its positive class.\n",
    "\n",
    "Similarly in Kernel SVM After traning the models with the coefficients $\\alpha_{i}$ we get, we will find the value of \n",
    "\n",
    "### $sign(\\sum_{i=1}^{n}(y_{i}\\alpha_{i}K(x_{i},x_{q})) + intercept)$, here $K(x_{i},x_{q})$\n",
    "\n",
    "is the RBF kernel. If this value comes out to be -ve we will mark $x_{q}$ as negative class, else its positive class.\n",
    "\n",
    "RBF kernel is defined as: \n",
    "\n",
    "## $K(x_{i},x_{q})$ = $exp(-\\gamma ||x_{i} - x_{q}||^2)$\n",
    "\n",
    "For better understanding [refer here](https://scikit-learn.org/stable/modules/svm.html#svm-mathematical-formulation)\n",
    "</font>"
   ],
   "metadata": {
    "id": "1wES-wWN4ZxX"
   }
  },
  {
   "cell_type": "markdown",
   "source": [
    "#### Now here's our workflow\n",
    "\n",
    "> 1. Split the data into $X_{train}$(60), $X_{cv}$(20), $X_{test}$(20)\n",
    "\n",
    "> 2. Train $SVC(gamma=0.001, C=100.)$ on the ($X_{train}$, $y_{train}$)\n",
    "\n",
    "> 3. Get the decision boundry values $f_{cv}$ on the $X_{cv}$ data  i.e. ` `$f_{cv}$ ```= decision_function(```$X_{cv}$```)```  <font color='red'> we are going to implement this decision_function()</font>"
   ],
   "metadata": {
    "id": "MuBxHiCQ4Zxc"
   }
  },
  {
   "cell_type": "code",
   "execution_count": 35,
   "source": [
    "import numpy as np\n",
    "import pandas as pd\n",
    "from sklearn.datasets import make_classification\n",
    "import numpy as np\n",
    "from sklearn.svm import SVC"
   ],
   "outputs": [],
   "metadata": {
    "id": "fCgMNEvI4Zxf"
   }
  },
  {
   "cell_type": "code",
   "execution_count": 36,
   "source": [
    "X, y = make_classification(n_samples=5000, n_features=5, n_redundant=2,\n",
    "                           n_classes=2, weights=[0.7], class_sep=0.7, random_state=15)"
   ],
   "outputs": [],
   "metadata": {
    "id": "ANUNIqCe4Zxn"
   }
  },
  {
   "cell_type": "markdown",
   "source": [
    "### Pseudo code\n",
    "\n",
    "clf = SVC(gamma=0.001, C=100.)<br>\n",
    "clf.fit(Xtrain, ytrain)\n",
    "\n",
    "<font color='green'>def</font> <font color='blue'>decision_function</font>(Xcv, ...): #use appropriate parameters <br>\n",
    "&nbsp;&nbsp;&nbsp;&nbsp;&nbsp;&nbsp;<font color='green'>for</font> a data point $x_q$ <font color='green'>in</font> Xcv: <br>\n",
    "&nbsp;&nbsp;&nbsp;&nbsp;&nbsp;&nbsp;&nbsp;&nbsp;&nbsp;&nbsp;&nbsp;&nbsp;<font color='grey'># code to implement $(\\sum_{i=1}^{\\text{all the support vectors}}(y_{i}\\alpha_{i}K(x_{i},x_{q})) + intercept)$, here the values $y_i$, $\\alpha_{i}$, and $intercept$ can be obtained from the trained model</font><br>\n",
    "   <font color='green'>return</font> <font color='grey'><i># the decision_function output for all the data points in the Xcv</i></font>\n",
    "    \n",
    "fcv = decision_function(Xcv, ...)  <i># based on your requirement you can pass any other parameters </i>\n",
    "\n",
    "<b>Note</b>: Make sure the values you get as fcv, should be equal to outputs of clf.decision_function(Xcv)\n",
    "\n",
    "---\n",
    "\n",
    "\n",
    "### A note on what is dual_coef in SVC\n",
    "\n",
    "In your `clf`, \n",
    "\n",
    "`coef_` are the weights assigned to the features; (Note it only works for linear SVM)\n",
    "\n",
    " `support_vectors_` and `support_` are the support vectors and the corresponding index;\n",
    "\n",
    "`dual_coef_` is the coefficients of the support vector in the decision function; and \n",
    "\n",
    "`intercept_` is the bias in decision function.\n",
    "\n",
    "In linear SVM, $w^Tx+b=0$ is the decision boundary, and $w$ is the coefficients of the support vectors, $b$ is the bias, all defined above.\n",
    "\n",
    "#### Some more on dual_coef if SVC from [here](https://stackoverflow.com/questions/22816646/the-dimension-of-dual-coef-in-sklearn-svc)\n",
    "\n",
    "\n",
    "The dual coefficients of a sklearn.svm.SVC in the multiclass setting are tricky to interpret. There is an explanation in the [scikit-learn documentation](http://scikit-learn.org/stable/modules/svm.html#multi-class-classification). The sklearn.svm.SVC uses [libsvm](http://www.csie.ntu.edu.tw/~cjlin/libsvm/) for the calculations and adopts the same data structure for the dual coefficients. Another explanation of the organization of these coefficients is in the [FAQ](http://www.csie.ntu.edu.tw/~cjlin/libsvm/faq.html#f402). In the case of the coefficients you find in the fitted SVC classifier, interpretation goes as follows:\n",
    "\n",
    "The support vectors identified by the SVC each belong to a certain class. In the dual coefficients, they are ordered according to the class they belong to.\n",
    "Given a fitted SVC estimator, e.g.\n",
    "\n",
    "    from sklearn.svm import SVC\n",
    "    svc = SVC()\n",
    "    svc.fit(X, y)\n",
    "\n",
    "you will find\n",
    "\n",
    "    svc.classes_   # represents the unique classes\n",
    "    svc.n_support_ # represents the number of support vectors per class\n",
    "\n",
    "\n",
    "#### From official guide - dual_coef\n",
    "\n",
    "dual_coef_ => ndarray of shape (n_classes -1, n_SV)\n",
    "\n",
    "Dual coefficients of the support vector in the decision function (see Mathematical formulation), multiplied by their targets. For multiclass, coefficient for all 1-vs-1 classifiers. \n",
    "\n",
    "### RBF Kernel Notes\n",
    "\n",
    "\n",
    "||x - x'||² is the squared Euclidean distance between two feature vectors (2 points).\n",
    "Gamma is a scalar that defines how much influence a single training example (point) has.\n",
    "\n",
    "\n",
    "### C Parameter\n",
    "\n",
    "It controls the trade off between smooth decision boundary and classifying training points correctly. A large value of c means you will get more training points correctly. Large value of c means you will get more intricate decision curves trying to fit in all the points.\n",
    "\n",
    "\n",
    "### Gamma Parameter\n",
    "\n",
    "It defines how far the influence of a single training example reaches. If it has a low value it means that every point has a far reach and conversely high value of gamma means that every point has close reach.\n",
    "\n",
    "If gamma has a very high value, then the decision boundary is just going to be dependent upon the points that are very close to the line which effectively results in ignoring some of the points that are very far from the decision boundary. This is because the closer points get more weight and it results in a wiggly curve as shown in previous graph.On the other hand, if the gamma value is low even the far away points get considerable weight and we get a more linear curve.\n",
    "\n",
    "\n",
    "---\n",
    "\n",
    "\n",
    "### Now the code for this\n"
   ],
   "metadata": {
    "id": "tHie1zqH4Zxt"
   }
  },
  {
   "cell_type": "code",
   "execution_count": 37,
   "source": [
    "import numpy as np\n",
    "import pandas as pd\n",
    "from sklearn.datasets import make_classification\n",
    "import numpy as np\n",
    "from sklearn.svm import SVC\n",
    "from sklearn.svm import LinearSVC\n",
    "from sklearn.model_selection import train_test_split\n",
    "import math\n",
    "import matplotlib.pyplot as plt\n",
    "\n",
    "\n",
    "X, y = make_classification(n_samples=5000, n_features=5, n_redundant=2,\n",
    "                           n_classes=2, weights=[0.7], class_sep=0.7, random_state=15)\n",
    "\n",
    "x, x_test, y, y_test = train_test_split(X, y, test_size=0.2, train_size=0.8)\n",
    "\n",
    "X_train, x_cv, y_train, y_cv = train_test_split(x, y, test_size = 0.25, train_size = 0.75)\n",
    "\n",
    "clf = SVC(gamma=0.001, C=100.)\n",
    "\n",
    "clf.fit(X_train, y_train)\n",
    "\n",
    "dual_coeff = clf.dual_coef_[0]\n",
    "\n",
    "support_vectors = clf.support_vectors_\n",
    "\n",
    "print('dual_coeff.shape ', dual_coeff.shape)\n",
    "print('support_vectors ', support_vectors.shape)\n",
    "\n",
    "intercept = clf.intercept_\n",
    "\n",
    "print('intercept ', intercept)"
   ],
   "outputs": [
    {
     "output_type": "stream",
     "name": "stdout",
     "text": [
      "dual_coeff.shape  (552,)\n",
      "support_vectors  (552, 5)\n",
      "intercept  [1.81868446]\n"
     ]
    }
   ],
   "metadata": {}
  },
  {
   "cell_type": "code",
   "execution_count": 38,
   "source": [
    "def decision_function(Xcv):\n",
    "  sample_output_rbf = 0\n",
    "  y_predicted = []\n",
    "  gamma = clf._gamma\n",
    "  \n",
    "  for x_q in Xcv:\n",
    "    kernel_sum = 0\n",
    "    for i in range(len(support_vectors)):\n",
    "      squared_distance = (np.linalg.norm(support_vectors[i] - x_q)**2)\n",
    "      rbf_k = np.exp(-gamma * (squared_distance))\n",
    "      kernel_sum += dual_coeff[i]*rbf_k    \n",
    "    \n",
    "    sample_output_rbf = kernel_sum + intercept\n",
    "    y_predicted.append(sample_output_rbf[0])\n",
    "    \n",
    "  return np.array(y_predicted)    \n",
    "      "
   ],
   "outputs": [],
   "metadata": {}
  },
  {
   "cell_type": "code",
   "execution_count": 39,
   "source": [
    "svm_decision_inbuilt_result_x_cv = clf.decision_function(x_cv)\n",
    "# svm_decision_inbuilt_result_x_cv = clf.decision_function(x_test)\n",
    "# svm_decision_inbuilt_result_x_test = clf.decision_function(x_test)\n",
    "# print('x_test.shape x', svm_decision_inbuilt_result_x_test.shape)\n",
    "\n",
    "print('inbuilt_decision_function: first 5 elements ', svm_decision_inbuilt_result_x_cv[:5] )\n",
    "\n",
    "custom_decision_function_result_x_cv = decision_function(x_cv)\n",
    "print('custom_decision_function_result: first 5 elements ', custom_decision_function_result_x_cv[:5])"
   ],
   "outputs": [
    {
     "output_type": "stream",
     "name": "stdout",
     "text": [
      "inbuilt_decision_function: first 5 elements  [-2.27874872 -1.05092958  0.94838379  1.98998225 -2.66600443]\n",
      "custom_decision_function_result: first 5 elements  [-2.27874872 -1.05092958  0.94838379  1.98998225 -2.66600443]\n"
     ]
    }
   ],
   "metadata": {}
  },
  {
   "cell_type": "markdown",
   "source": [
    "<h1 style=\"font-size:150%; font-family:cursive; color:#ff6666;\">5. Platt Scaling to find P(Y==1|X)<a id=\"50\"></a></h1>\n",
    "\n",
    "# Implementing Platt Scaling to find P(Y==1|X) from scratch (without sklearn)\n",
    "\n",
    "\n",
    "#### [Back to the top](#0)\n",
    "\n",
    "Here we will be doing the following\n",
    "\n",
    "\n",
    "- Applying SGD algorithm with ($f_{cv}$, $y_{cv}$) and find the weight $W$ intercept $b$ ```Note: here our data is of one dimensional so we will have a one dimensional weight vector i.e W.shape (1,)``` \n",
    "\n",
    "- Note1: We have to change the values of $y_{cv}$ as mentioned in the above image. you will calculate y+, y- based on data points in train data\n",
    "\n",
    "- Note2: the Sklearn's SGD algorithm doesn't support the real valued outputs. We have to use below logrithmic transformation\n",
    "\n",
    "<img src='https://i.imgur.com/zKYE9Oc.png'>\n",
    "\n",
    "if Y[i] is 1, it will be replaced with y+ value else it will replaced with y- value\n",
    "\n",
    "- Finally, for a given data point from $X_{test}$, $P(Y=1|X) = \\frac{1}{1+exp(-(W*f_{test}+ b))}$ where ` `$f_{test}$ ```= decision_function(```$X_{test}$```)```, W and b will be learned as metioned in the above step\n",
    "\n",
    "Check this paper for reference on [Platt Scaling and Isotonic Regression.](https://drive.google.com/open?id=133odBinMOIVb_rh_GQxxsyMRyW-Zts7a)\n",
    "\n",
    "\n",
    "<img src='https://i.imgur.com/CAMnVnh.png'>\n",
    "\n",
    "\n"
   ],
   "metadata": {}
  },
  {
   "cell_type": "code",
   "execution_count": 40,
   "source": [
    "# Randomly initializing weights (w) and intercept values (b)\n",
    "# dim — size of the w vector we want (or number of features or parameters in this case)\n",
    "def initialize_weights(dim):\n",
    "    ''' In this function, we will initialize our weights and bias\n",
    "    w — weights, a numpy array of size\n",
    "    b — bias, a scalar\n",
    "    '''\n",
    "    #initialize the weights to zeros array of (1,dim) dimensions\n",
    "    #you use zeros_like function to initialize zero, check this link https://docs.scipy.org/doc/numpy/reference/generated/numpy.zeros_like.html\n",
    "    #initialize bias to zero\n",
    "    w = np.zeros_like(dim)\n",
    "    # Above will initialize all w with 0.\n",
    "    b = 0\n",
    "    return w,b\n",
    "  \n",
    "def sigmoid(z):\n",
    "    return 1.0/(1 + np.exp(-z)) \n",
    "\n",
    "\n",
    "\n",
    "def logloss(y_true, y_pred):\n",
    "    \n",
    "    len_y_true = len(y_true)\n",
    "    \n",
    "    number_of_plus = np.count_nonzero(y_true == 1)\n",
    "    number_of_minus = np.count_nonzero(y_true == 0)\n",
    "    \n",
    "    y_plus = (number_of_plus+1)/(number_of_minus+2)\n",
    "    y_minus = 1/(number_of_minus+2)\n",
    "    \n",
    "    sum_of_loss = 0\n",
    "    \n",
    "    for i in range(0, len_y_true):\n",
    "      if (y_true[i] == 1):\n",
    "        sum_of_loss += ((y_plus * np.log10(y_pred[i])) + ((1- y_plus) * np.log10(1-y_pred[i])))\n",
    "      else:\n",
    "        sum_of_loss += ((y_minus * np.log10(y_pred[i])) + ((1 - y_minus) * np.log10(1-y_pred[i])))\n",
    "        \n",
    "    loss = (-1/len_y_true) * sum_of_loss  \n",
    "    return loss\n",
    "    \n",
    "    \n",
    "  \n",
    "def gradient_dw(x,y,w,b,alpha,N):\n",
    "    '''In this function, we will compute the gardient w.r.to w '''\n",
    "    z = np.dot(w, x) + b\n",
    "    dw = x*(y - sigmoid(z)) - ((alpha)*(1/N) * w)\n",
    "    return dw\n",
    "  \n",
    "  \n",
    "def gradient_db(x,y,w,b):\n",
    "    z = np.dot(w, x) + b\n",
    "    db = y - sigmoid(z)\n",
    "\n",
    "    return db"
   ],
   "outputs": [],
   "metadata": {}
  },
  {
   "cell_type": "code",
   "execution_count": 41,
   "source": [
    "def train(X_train, y_train, X_test, y_test, epochs, alpha, eta0, tol=1e-3):\n",
    "    \"\"\" In this function, we will implement logistic regression\"\"\"\n",
    "    # Here eta0 is learning rate\n",
    "    # implement the code as follows\n",
    "    # initialize the weights (call the initialize_weights(X_train[0]) function)\n",
    "    w, b = initialize_weights(X_train[0])\n",
    "    # for every epoch\n",
    "    train_loss = []\n",
    "    test_loss = []\n",
    "    N = len(X_train)\n",
    "\n",
    "    loss_threshold = 0.0001\n",
    "\n",
    "    for epoch in range(epochs):\n",
    "        # for every data point(X_train,y_train)\n",
    "        for row in range(N - 1):\n",
    "            # compute gradient w.r.to w (call the gradient_dw() function)\n",
    "            delta_weights = gradient_dw(\n",
    "                X_train[row], y_train[row], w, b, alpha, len(X_train)\n",
    "            )\n",
    "\n",
    "            # compute gradient w.r.to b (call the gradient_db() function)\n",
    "            delta_bias = gradient_db(X_train[row], y_train[row], w, b)\n",
    "\n",
    "            # update w, b\n",
    "            w = w + eta0 * delta_weights\n",
    "            b = b + eta0 * delta_bias\n",
    "\n",
    "        # predict the output of x_train[for all data points in X_train] using w,b\n",
    "        # y_prediction_train is a numpy array (vector) containing all predictions (0/1) for the examples in X\n",
    "        y_prediction_train = [  \n",
    "        sigmoid(np.dot(w, x_row) + b) for x_row in X_train\n",
    "        ]\n",
    "\n",
    "        # compute the loss between predicted and actual values (call the loss function)\n",
    "        # store all the train loss values in a list\n",
    "        train_loss.append(logloss(y_train, y_prediction_train))\n",
    "\n",
    "        # predict the output of x_test[for all data points in X_test] using w,b\n",
    "        y_prediction_test = [\n",
    "            sigmoid(np.dot(w, x_row) + b) for x_row in X_test\n",
    "        ]\n",
    "\n",
    "        print(\n",
    "            f\"For EPOCH No : {epoch} Train Loss is : {logloss(y_train, y_prediction_train)} and Test Loss is : {logloss(y_test, y_prediction_test)}\"\n",
    "        )\n",
    "\n",
    "        # compute the loss between predicted and actual values (call the loss function)\n",
    "        test_loss.append(logloss(y_test, y_prediction_test))\n",
    "\n",
    "      \n",
    "\n",
    "    return w, b, train_loss, test_loss"
   ],
   "outputs": [],
   "metadata": {}
  },
  {
   "cell_type": "code",
   "execution_count": 42,
   "source": [
    "alpha=0.0001\n",
    "eta0=0.0001\n",
    "# N=len(X_train)\n",
    "epochs=50\n",
    "\n",
    "w, b, cv_log_loss, test_loss = train(custom_decision_function_result_x_cv, y_cv, x_test, y_test, epochs, alpha, eta0)\n",
    "print('w_coef ', w)\n",
    "print('intercept b ', b)"
   ],
   "outputs": [
    {
     "output_type": "stream",
     "name": "stdout",
     "text": [
      "For EPOCH No : 0 Train Loss is : 0.27055714384648194 and Test Loss is : [0.29835123 0.29889042 0.30140801 0.30219757 0.28958197]\n",
      "For EPOCH No : 1 Train Loss is : 0.24845323964749072 and Test Loss is : [0.29684763 0.29803505 0.30190158 0.30343987 0.28038551]\n",
      "For EPOCH No : 2 Train Loss is : 0.23228232364021156 and Test Loss is : [0.2961655  0.29805371 0.30247095 0.3047131  0.27291055]\n",
      "For EPOCH No : 3 Train Loss is : 0.22030338890834023 and Test Loss is : [0.29605594 0.29866268 0.30308826 0.30599032 0.26675246]\n",
      "For EPOCH No : 4 Train Loss is : 0.21131419405072216 and Test Loss is : [0.29634723 0.29966984 0.30373444 0.30725548 0.26161091]\n",
      "For EPOCH No : 5 Train Loss is : 0.20448990019665908 and Test Loss is : [0.29692097 0.30094528 0.30439644 0.30849926 0.25726432]\n",
      "For EPOCH No : 6 Train Loss is : 0.19926024763370434 and Test Loss is : [0.29769484 0.30240058 0.30506541 0.30971646 0.25354826]\n",
      "For EPOCH No : 7 Train Loss is : 0.1952253452869545 and Test Loss is : [0.29861091 0.30397482 0.30573526 0.31090442 0.2503394 ]\n",
      "For EPOCH No : 8 Train Loss is : 0.19210004062858904 and Test Loss is : [0.29962782 0.30562557 0.30640183 0.31206203 0.24754394]\n",
      "For EPOCH No : 9 Train Loss is : 0.18967746647796938 and Test Loss is : [0.30071567 0.30732292 0.30706229 0.31318912 0.24508958]\n",
      "For EPOCH No : 10 Train Loss is : 0.18780502115033615 and Test Loss is : [0.30185258 0.30904555 0.3077147  0.3142861  0.2429198 ]\n",
      "For EPOCH No : 11 Train Loss is : 0.18636834988762432 and Test Loss is : [0.30302233 0.31077822 0.30835777 0.3153537  0.24098986]\n",
      "For EPOCH No : 12 Train Loss is : 0.18528050194749238 and Test Loss is : [0.30421285 0.31250989 0.30899069 0.31639287 0.23926389]\n",
      "For EPOCH No : 13 Train Loss is : 0.18447447340261436 and Test Loss is : [0.30541501 0.31423262 0.30961292 0.31740465 0.23771286]\n",
      "For EPOCH No : 14 Train Loss is : 0.18389799608890625 and Test Loss is : [0.30662191 0.31594066 0.3102242  0.31839011 0.23631295]\n",
      "For EPOCH No : 15 Train Loss is : 0.18350983945817337 and Test Loss is : [0.30782832 0.31762987 0.3108244  0.31935035 0.23504451]\n",
      "For EPOCH No : 16 Train Loss is : 0.18327714720428664 and Test Loss is : [0.30903023 0.31929733 0.31141354 0.32028642 0.23389114]\n",
      "For EPOCH No : 17 Train Loss is : 0.1831734923437824 and Test Loss is : [0.3102246  0.320941   0.3119917  0.32119936 0.23283905]\n",
      "For EPOCH No : 18 Train Loss is : 0.18317743837560216 and Test Loss is : [0.31140909 0.32255949 0.31255903 0.32209017 0.2318766 ]\n",
      "For EPOCH No : 19 Train Loss is : 0.1832714618449494 and Test Loss is : [0.31258196 0.32415192 0.31311573 0.32295977 0.23099382]\n",
      "For EPOCH No : 20 Train Loss is : 0.18344113635928264 and Test Loss is : [0.31374188 0.3257178  0.313662   0.32380909 0.23018219]\n",
      "For EPOCH No : 21 Train Loss is : 0.18367450806652252 and Test Loss is : [0.31488788 0.3272569  0.31419809 0.32463895 0.22943434]\n",
      "For EPOCH No : 22 Train Loss is : 0.18396161295482247 and Test Loss is : [0.31601926 0.32876923 0.31472426 0.32545018 0.22874389]\n",
      "For EPOCH No : 23 Train Loss is : 0.18429410033695703 and Test Loss is : [0.31713551 0.33025493 0.31524075 0.32624352 0.22810528]\n",
      "For EPOCH No : 24 Train Loss is : 0.18466493664121325 and Test Loss is : [0.31823631 0.3317143  0.31574783 0.32701971 0.22751362]\n",
      "For EPOCH No : 25 Train Loss is : 0.18506817051327681 and Test Loss is : [0.31932148 0.33314768 0.31624575 0.32777941 0.22696464]\n",
      "For EPOCH No : 26 Train Loss is : 0.1854987451431795 and Test Loss is : [0.32039091 0.33455553 0.31673477 0.32852326 0.22645452]\n",
      "For EPOCH No : 27 Train Loss is : 0.18595234727136573 and Test Loss is : [0.32144461 0.33593832 0.31721514 0.32925187 0.22597993]\n",
      "For EPOCH No : 28 Train Loss is : 0.18642528490663207 and Test Loss is : [0.32248265 0.33729655 0.31768711 0.32996582 0.22553787]\n",
      "For EPOCH No : 29 Train Loss is : 0.18691438768527224 and Test Loss is : [0.32350513 0.33863078 0.31815091 0.33066563 0.22512566]\n",
      "For EPOCH No : 30 Train Loss is : 0.18741692520850428 and Test Loss is : [0.3245122  0.33994153 0.31860677 0.33135183 0.22474092]\n",
      "For EPOCH No : 31 Train Loss is : 0.18793053974920698 and Test Loss is : [0.32550406 0.34122937 0.31905492 0.33202489 0.22438149]\n",
      "For EPOCH No : 32 Train Loss is : 0.1884531905145597 and Test Loss is : [0.32648092 0.34249485 0.31949558 0.33268527 0.22404545]\n",
      "For EPOCH No : 33 Train Loss is : 0.18898310725639506 and Test Loss is : [0.32744301 0.34373851 0.31992895 0.33333341 0.22373104]\n",
      "For EPOCH No : 34 Train Loss is : 0.18951875148488276 and Test Loss is : [0.32839057 0.34496091 0.32035525 0.33396972 0.22343668]\n",
      "For EPOCH No : 35 Train Loss is : 0.19005878389910688 and Test Loss is : [0.32932384 0.34616257 0.32077466 0.33459459 0.22316094]\n",
      "For EPOCH No : 36 Train Loss is : 0.19060203692615557 and Test Loss is : [0.33024311 0.34734402 0.32118737 0.33520839 0.22290249]\n",
      "For EPOCH No : 37 Train Loss is : 0.19114749147776214 and Test Loss is : [0.33114862 0.34850577 0.32159357 0.33581147 0.22266016]\n",
      "For EPOCH No : 38 Train Loss is : 0.19169425720451927 and Test Loss is : [0.33204064 0.34964833 0.32199343 0.33640417 0.22243284]\n",
      "For EPOCH No : 39 Train Loss is : 0.19224155566294432 and Test Loss is : [0.33291945 0.35077217 0.32238712 0.33698681 0.22221955]\n",
      "For EPOCH No : 40 Train Loss is : 0.19278870591827743 and Test Loss is : [0.3337853  0.35187778 0.3227748  0.3375597  0.22201937]\n",
      "For EPOCH No : 41 Train Loss is : 0.19333511219188856 and Test Loss is : [0.33463847 0.35296562 0.32315663 0.33812312 0.22183145]\n",
      "For EPOCH No : 42 Train Loss is : 0.19388025323131022 and Test Loss is : [0.3354792  0.35403612 0.32353275 0.33867736 0.22165503]\n",
      "For EPOCH No : 43 Train Loss is : 0.19442367313670886 and Test Loss is : [0.33630777 0.35508974 0.32390332 0.33922268 0.22148938]\n",
      "For EPOCH No : 44 Train Loss is : 0.19496497342286503 and Test Loss is : [0.33712442 0.35612687 0.32426848 0.33975933 0.22133386]\n",
      "For EPOCH No : 45 Train Loss is : 0.19550380613261453 and Test Loss is : [0.3379294  0.35714794 0.32462835 0.34028756 0.22118784]\n",
      "For EPOCH No : 46 Train Loss is : 0.1960398678478462 and Test Loss is : [0.33872295 0.35815334 0.32498307 0.3408076  0.22105076]\n",
      "For EPOCH No : 47 Train Loss is : 0.1965728944689406 and Test Loss is : [0.33950532 0.35914344 0.32533277 0.34131966 0.22092211]\n",
      "For EPOCH No : 48 Train Loss is : 0.1971026566539376 and Test Loss is : [0.34027674 0.36011862 0.32567756 0.34182398 0.2208014 ]\n",
      "For EPOCH No : 49 Train Loss is : 0.19762895582563836 and Test Loss is : [0.34103744 0.36107924 0.32601756 0.34232074 0.22068816]\n",
      "w_coef  1.2177778172416185\n",
      "intercept b  -0.14755555957442915\n"
     ]
    }
   ],
   "metadata": {}
  },
  {
   "cell_type": "code",
   "execution_count": 43,
   "source": [
    "x = np.array([i for i in range(0, 50)])\n",
    "\n",
    "cv_log_loss_arr = np.array(cv_log_loss)\n",
    "\n",
    "plt.plot(x, cv_log_loss_arr, \"-b\", label = 'CV log loss')\n",
    "\n",
    "plt.legend(loc=\"upper right\")\n",
    "plt.grid()\n",
    "\n",
    "plt.xlabel('Number of Epoch')\n",
    "plt.ylabel('Log Loss ')\n",
    "\n",
    "plt.title('Loss vs Epoch ')\n",
    "plt.show()"
   ],
   "outputs": [
    {
     "output_type": "display_data",
     "data": {
      "text/plain": [
       "<Figure size 432x288 with 1 Axes>"
      ],
      "image/png": "[encoded data removed]"
     },
     "metadata": {
      "needs_background": "light"
     }
    }
   ],
   "metadata": {}
  },
  {
   "cell_type": "markdown",
   "source": [
    "### Implementing the custom decision funtion on x_test"
   ],
   "metadata": {}
  },
  {
   "cell_type": "code",
   "execution_count": 44,
   "source": [
    "custom_decision_function_result_x_test = decision_function(x_test)\n",
    "print('Shape of custom_decision_function_result_x_test ', custom_decision_function_result_x_test.shape)\n",
    "\n",
    "prob_arr_x_test_custom_decision_func = []\n",
    "\n",
    "for i in custom_decision_function_result_x_test:\n",
    "  i_proba = 1/(1 + np.exp((-w * i) - b) )\n",
    "  prob_arr_x_test_custom_decision_func.append(i_proba)\n",
    "  \n",
    "  \n",
    "print('First 5 elements prob_arr_x_test_custom_decision_func ', prob_arr_x_test_custom_decision_func[:5])\n",
    "\n"
   ],
   "outputs": [
    {
     "output_type": "stream",
     "name": "stdout",
     "text": [
      "Shape of custom_decision_function_result_x_test  (1000,)\n",
      "First 5 elements prob_arr_x_test_custom_decision_func  [0.027745854697815434, 0.1832576490651534, 0.008600097312354948, 0.10813797345285311, 0.04913009404605001]\n"
     ]
    }
   ],
   "metadata": {}
  },
  {
   "cell_type": "markdown",
   "source": [
    "<h1 style=\"font-size:150%; font-family:cursive; color:#ff6666;\">6. SGD Classifier with Logloss and L2 regularization<a id=\"60\"></a></h1>\n",
    "\n",
    "# Implementing SGD Classifier with Logloss and L2 regularization using SGD from scratch (WITHOUT using sklearn)\n",
    "\n",
    "#### [Back to the top](#0)\n",
    "\n",
    "## Problem with Regular Greadient Descent\n",
    "\n",
    "\n",
    "In machine learning, we are familiar with the concept of error and we are generally concerned with minimizing said error by modelling error as a function and defining the optimal model that has the lowest error\n",
    "\n",
    "Recall in linear regression, we were conerned with minimising the sum of squared residuals. In Calculus, to find the optimal point of a function, we must utilize the **derivative**.\n",
    "\n",
    "In vector (multi-dimensional) calculus, we generalize the concept of the derivative as the gradient.\n",
    "\n",
    "The gradient is the derivative of a single function of all of its variables. We use the gradient in roder to create a **directional derivative**. The directional derivative gives us both a direction and magnitute of \"how steep\" the function is at that point and facing that direction. Our goal is follow the directional derivatives to find the minimum (or maximum) value of a function.\n",
    "\n",
    "<b>Gradient descent</b>, also known as <b>steepest descent</b>, is an optimization algorithm for finding the local minimum of a function. To find a local minimum, the function \"steps\" in the  direction of the negative of the gradient. <b>Gradient ascent</b> is the same as gradient descent, except that it steps in the direction of the positive of the gradient and therefore finds local maximums instead of minimums. The algorithm of gradient descent can be outlined as follows:\n",
    "\n",
    "&nbsp;&nbsp;&nbsp; 1: &nbsp; Choose initial guess $x_0$ and learning rate $\\alpha$ <br>\n",
    "&nbsp;&nbsp;&nbsp;    2: &nbsp; <b>for</b> k = 0, 1, 2, ... <b>do</b> <br>\n",
    "&nbsp;&nbsp;&nbsp;    3:   &nbsp;&nbsp;&nbsp;&nbsp;&nbsp; $s_k$ = -$\\nabla f(x_k)$ <br>\n",
    "&nbsp;&nbsp;&nbsp;    4:   &nbsp;&nbsp;&nbsp;&nbsp;&nbsp; $x_{k+1} = x_k + \\alpha s_k$ <br>\n",
    "&nbsp;&nbsp;&nbsp;    5: &nbsp;  <b>end for</b>\n",
    "\n",
    "\n",
    "As a simple example, let's find a local minimum for the function $f(x) = x^3-2x^2+2$"
   ],
   "metadata": {}
  },
  {
   "cell_type": "code",
   "execution_count": 45,
   "source": [
    "# define a function f\n",
    "f = lambda x: x**3-2*x**2+2\n",
    "\n",
    "x = np.linspace(-1,2.5,1000)\n",
    "plt.plot(x,f(x))\n",
    "plt.xlim([-1,2.5])\n",
    "plt.ylim([0,3])\n",
    "plt.show()"
   ],
   "outputs": [
    {
     "output_type": "display_data",
     "data": {
      "text/plain": [
       "<Figure size 432x288 with 1 Axes>"
      ],
      "image/png": "[encoded data removed]"
     },
     "metadata": {
      "needs_background": "light"
     }
    }
   ],
   "metadata": {}
  },
  {
   "cell_type": "markdown",
   "source": [
    "We can see from plot above that our local minimum is gonna be near around 1.4 or 1.5 (on the x-axis), but let's pretend that we don't know that, so we set our starting point (arbitrarily, in this case) at $x_0 = 2$"
   ],
   "metadata": {}
  },
  {
   "cell_type": "code",
   "execution_count": 46,
   "source": [
    "x_old = 0\n",
    "x_new = 2 # The algorithm starts at x=2\n",
    "learning_rate = 0.1 # step size\n",
    "precision = 0.0001  # stopping criterions\n",
    "\n",
    "x_list, y_list = [x_new], [f(x_new)]\n",
    "\n",
    "# returns the value of the derivative of our function\n",
    "def f_prime(x):\n",
    "    return 3*x**2-4*x\n",
    " \n",
    "while abs(x_new - x_old) > precision:\n",
    "    x_old = x_new\n",
    "    gradient = f_prime(x_old) # f'(2) = 4\n",
    "    x_new = x_old + (learning_rate * -gradient) # x_new = 2 + (.1 * -4) == 1.6\n",
    "    x_list.append(x_new)\n",
    "    y_list.append(f(x_new))\n",
    "print(\"Local minimum occurs at:\", x_new)\n",
    "print(\"Number of steps:\", len(x_list))"
   ],
   "outputs": [
    {
     "output_type": "stream",
     "name": "stdout",
     "text": [
      "Local minimum occurs at: 1.3334253508453249\n",
      "Number of steps: 17\n"
     ]
    }
   ],
   "metadata": {}
  },
  {
   "cell_type": "code",
   "execution_count": 47,
   "source": [
    "plt.figure(figsize=[10,3])\n",
    "plt.subplot(1,2,1)\n",
    "plt.scatter(x_list,y_list,c=\"r\")\n",
    "plt.plot(x_list,y_list,c=\"r\")\n",
    "plt.plot(x,f(x), c=\"b\")\n",
    "plt.xlim([-1,2.5])\n",
    "plt.ylim([0,3])\n",
    "plt.title(\"Gradient descent\")\n",
    "plt.subplot(1,2,2)\n",
    "plt.scatter(x_list,y_list,c=\"r\")\n",
    "plt.plot(x_list,y_list,c=\"r\")\n",
    "plt.plot(x,f(x), c=\"b\")\n",
    "plt.xlim([1.2,2.1])\n",
    "plt.ylim([.7,2.1])\n",
    "plt.title(\"Gradient descent (zoomed in)\")\n",
    "plt.show()"
   ],
   "outputs": [
    {
     "output_type": "display_data",
     "data": {
      "text/plain": [
       "<Figure size 720x216 with 2 Axes>"
      ],
      "image/png": "[encoded data removed]"
     },
     "metadata": {
      "needs_background": "light"
     }
    }
   ],
   "metadata": {}
  },
  {
   "cell_type": "markdown",
   "source": [
    "Why do we follow the negative gradient (negative derivatives?) Because to calculate the directional derivative we must do:\n",
    "\n",
    "Directional Derivative of function f($D_u(f)$) = $\\nabla f.u$ where u is the unit vector in the direction we care about.\n",
    "\n",
    "|x| indicates **magnitute** which is the length of the vector. The magnitute of the directional derivative gives us the rate of change of movement in that direction.\n",
    "\n",
    "We also know that $\\nabla f.u = |\\nabla(f)|$*   $|u|$  *  $cos(\\theta)$ where $\\theta$ is the angle between the two vectors.\n",
    "\n",
    "because $u$ is a unit vector, it has length one, so we are left with\n",
    "\n",
    "$D_u(f) = |\\nabla(f)|cos(\\theta)$\n",
    "\n",
    "The maximum value of this directional derivative ccours when the $cos(\\theta) = 1$ when $\\theta=0$ therefore when the vector u is the same direction as $\\nabla f$\n",
    "\n",
    "The maximum value of $D_u(f)$ (and hence then the maximum rate of change of the function  ) is therefore given by $|D_u(f)|$  and will occur in the direction given by $\\nabla f(x)$.\n",
    "\n",
    "---\n",
    "\n",
    "So overall, our goal is to find the equation of the straight line $h_\\theta(x) = \\theta_0 + \\theta_1 x$ that best fits our data points. The function that we are trying to minimize in this case is the sum of squared residuals:\n",
    "\n",
    "$J(\\theta_0,\\theta_1) = \\sum\\limits_{i=1}^m (h_\\theta(x_i)-y_i)^2$\n",
    "\n",
    "In this case, our gradient will be defined in two dimensions:\n",
    "\n",
    "$\\frac{\\partial}{\\partial \\theta_0} J(\\theta_0,\\theta_1) = 2  \\sum\\limits_{i=1}^m (h_\\theta(x_i)-y_i)$\n",
    "\n",
    "$\\frac{\\partial}{\\partial \\theta_1} J(\\theta_0,\\theta_1) = 2  \\sum\\limits_{i=1}^m ((h_\\theta(x_i)-y_i) \\cdot x_i)$"
   ],
   "metadata": {}
  },
  {
   "cell_type": "markdown",
   "source": [
    "## Implementing SGD Classifier with Logloss and L2 regularization using SGD from scratch\n",
    "\n",
    "Notice that in the method above (for regular Gradient Descent) we need to calculate the gradient in every step of our algorithm. In our example , this is not a big deal since there are only a hundred data points. But imagine that we had 2 million data points. If this were the case, it would certainly make the method above far less efficient.\n",
    "\n",
    "In machine learning, the algorithm above is often called <b>batch gradient descent</b> to contrast it with <b>mini-batch gradient descent</b> (which we will not go into here) and <b>stochastic gradient descent</b>.\n",
    "\n",
    "\n",
    "The implementation of the regular/classic gradient descent method consists of initially evaluating both the\n",
    "function and its gradient, starting from a configuration chosen randomly in the space of\n",
    "dimensions.\n",
    "\n",
    "From here, we try to move in the direction indicated by the gradient. This establishes a\n",
    "direction of descent in which the function tends to a minimum and examines whether the\n",
    "function actually takes on a value lower than that calculated in the previous configuration.\n",
    "If so, the procedure continues iteratively, recalculating the new gradient. This can be\n",
    "totally different from the previous one. After this, it starts again in search of a new\n",
    "minimum.\n",
    "\n",
    "\n",
    "This iterative procedure requires that, at each step, the entire system status is updated. This\n",
    "means that all the parameters of the system must be recalculated. From a computational\n",
    "point of view, this equates to an extremely expensive operating cost and greatly slows\n",
    "down the estimation procedure. With respect to the standard gradient descent method, in\n",
    "which the weights are updated after calculating the gradient for the entire dataset, in the\n",
    "stochastic method, the system parameters are updated after a certain number of examples.\n",
    "These are chosen randomly in order to speed up the process and to try and avoid any local\n",
    "minimum situations.\n",
    "\n",
    "\n",
    "Consider a dataset that contains n observations of a phenomenon. Here, let f be an\n",
    "objective function that we want to minimize with respect to a series of parameters x. Here,\n",
    "we can write the following equation:\n",
    "\n",
    "![Imgur](https://imgur.com/s4yhbwP.png)\n",
    "\n",
    "\n",
    "From the analysis of the previous equation, we can deduce that the evaluation of the\n",
    "objective function f requires n evaluations of the function f, one for each value contained\n",
    "in the dataset.\n",
    "\n",
    "In the classic gradient descent method, at each step, the function gradient is calculated in\n",
    "correspondence with all the values of the dataset through the following equation:\n",
    "\n",
    "![Imgur](https://imgur.com/z0jVNbX.png)\n",
    "\n",
    "\n",
    "In some cases, the evaluation of the sum present in the previous equation can be\n",
    "particularly expensive, such as when the dataset is particularly large and there is no\n",
    "elementary expression for the objective function. The stochastic descent of the gradient\n",
    "solves this problem by introducing an approximation of the gradient function. At each\n",
    "step, instead of the sum of the gradients being evaluated in correspondence to the data\n",
    "contained in the dataset, the evaluation of the gradient is used only in a random subset of\n",
    "the dataset.\n",
    "\n",
    "## Stochastic gradient descent vs  classic gradient descent method\n",
    "\n",
    "\n",
    "So, the previous equation replaces the following:\n",
    "\n",
    "\n",
    "![Imgur](https://imgur.com/VRCiVwR.png)\n",
    "\n",
    "In this equation, $∇f_i(x_n)$ is the gradient of one of the observations in the dataset, chosen randomly.\n",
    "\n",
    "\n",
    "The pros of this technique are as follows:\n",
    "\n",
    "• Based only on a part of the observations, the algorithm allows a wider exploration\n",
    "of the parametric space, with the greater possibility of finding new and potentially\n",
    "better points of the minimum.\n",
    "\n",
    "• Taking a step of the algorithm is computationally much faster, which ensures faster\n",
    "convergence toward the minimum point.\n",
    "\n",
    "• The parameter estimates can also be calculated by loading only a part of the dataset\n",
    "into memory at a time, allowing this method to be applied to large datasets.\n",
    "\n",
    "\n",
    "---\n",
    "\n",
    "So, as we said above, in batch gradient descent, we must look at every example in the entire training set on every step (in cases where a training set is used for gradient descent). This can be quite slow if the training set is sufficiently large. In <b>stochastic gradient descent</b>, we update our values after looking at <i>each</i> item in the training set, so that we can start making progress right away. Recall the linear regression example above. In that example, we calculated the gradient for each of the two theta values as follows:\n",
    "\n",
    "$\\frac{\\partial}{\\partial \\theta_0} J(\\theta_0,\\theta_1) = 2  \\sum\\limits_{i=1}^m (h_\\theta(x_i)-y_i)$\n",
    "\n",
    "$\\frac{\\partial}{\\partial \\theta_1} J(\\theta_0,\\theta_1) = 2  \\sum\\limits_{i=1}^m ((h_\\theta(x_i)-y_i) \\cdot x_i)$\n",
    "\n",
    "Where $h_\\theta(x) = \\theta_0 + \\theta_1 x$\n",
    "\n",
    "Then we followed this algorithm (where $\\alpha$ was a non-adapting stepsize):\n",
    "\n",
    "&nbsp;&nbsp;&nbsp; 1: &nbsp; Choose initial guess $x_0$ <br>\n",
    "&nbsp;&nbsp;&nbsp;    2: &nbsp; <b>for</b> k = 0, 1, 2, ... <b>do</b> <br>\n",
    "&nbsp;&nbsp;&nbsp;    3:   &nbsp;&nbsp;&nbsp;&nbsp;&nbsp; $s_k$ = -$\\nabla f(x_k)$ <br>\n",
    "&nbsp;&nbsp;&nbsp;    4:   &nbsp;&nbsp;&nbsp;&nbsp;&nbsp; $x_{k+1} = x_k + \\alpha s_k$ <br>\n",
    "&nbsp;&nbsp;&nbsp;    5: &nbsp;  <b>end for</b>\n",
    "\n",
    "When the sample data had a hundred data points as in the example above, calculating the gradient was not very costly. But for very large data sets, this would not be the case. So instead, we consider a stochastic gradient descent algorithm for simple linear regression such as the following, where m is the size of the data set:\n",
    "\n",
    "&nbsp;&nbsp;&nbsp; 1: &nbsp; Randomly shuffle the data set <br>\n",
    "&nbsp;&nbsp;&nbsp;    2: &nbsp; <b>for</b> k = 0, 1, 2, ... <b>do</b> <br>\n",
    "&nbsp;&nbsp;&nbsp;    3: &nbsp;&nbsp;&nbsp;&nbsp;&nbsp; <b>for</b> i = 1 to m <b>do</b> <br>\n",
    "&nbsp;&nbsp;&nbsp;    4:   &nbsp;&nbsp;&nbsp;&nbsp;&nbsp;&nbsp;&nbsp;&nbsp;&nbsp;&nbsp; $\\begin{bmatrix}\n",
    " \\theta_{1} \\\\ \n",
    " \\theta_2 \\\\ \n",
    " \\end{bmatrix}=\\begin{bmatrix}\n",
    " \\theta_1 \\\\ \n",
    " \\theta_2 \\\\ \n",
    " \\end{bmatrix}-\\alpha\\begin{bmatrix}\n",
    " 2(h_\\theta(x_i)-y_i) \\\\ \n",
    " 2x_i(h_\\theta(x_i)-y_i) \\\\ \n",
    " \\end{bmatrix}$ <br>\n",
    "&nbsp;&nbsp;&nbsp;    5: &nbsp;&nbsp;&nbsp;&nbsp;&nbsp; <b>end for</b> <br> \n",
    "&nbsp;&nbsp;&nbsp;    6: &nbsp;  <b>end for</b>\n",
    "\n",
    "Typically, with stochastic gradient descent, you will run through the entire data set 1 to 10 times (see value for k in line 2 of the pseudocode above), depending on how fast the data is converging and how large the data set is.\n",
    "\n",
    "With batch gradient descent, we must go through the entire data set before we make any progress. With this algorithm though, we can make progress right away and continue to make progress as we go through the data set. Therefore, stochastic gradient descent is often preferred when dealing with large data sets.\n",
    "\n",
    "Unlike gradient descent, stochastic gradient descent will tend to oscillate <i>near</i> a minimum value rather than continuously getting closer. It may never actually converge to the minimum though. One way around this is to slowly decrease the step size $\\alpha$ as the algorithm runs. However, this is less common than using a fixed $\\alpha$.\n",
    "\n",
    "---\n",
    "\n",
    "## Now the implementation of SGD\n",
    "\n",
    "In below there are some functions that start with the word \"grader\" ex: grader_weights(), grader_sigmoid(), grader_logloss() etc. This is for checking our intermediate functions, and every Grader function has to return True."
   ],
   "metadata": {
    "colab_type": "text",
    "id": "7eiDWcM_MC3H"
   }
  },
  {
   "cell_type": "code",
   "execution_count": 48,
   "source": [
    "import numpy as np\n",
    "import pandas as pd\n",
    "from sklearn.datasets import make_classification\n",
    "from sklearn.model_selection import train_test_split\n",
    "from sklearn.preprocessing import StandardScaler\n",
    "from sklearn import linear_model\n",
    "import matplotlib.pyplot as plt"
   ],
   "outputs": [],
   "metadata": {
    "colab": {},
    "colab_type": "code",
    "id": "42Et8BKIxnsp"
   }
  },
  {
   "cell_type": "markdown",
   "source": [
    "### Creating custom dataset"
   ],
   "metadata": {
    "colab_type": "text",
    "id": "NpSk3WQBx7TQ"
   }
  },
  {
   "cell_type": "code",
   "execution_count": 49,
   "source": [
    "# please don't change random_state\n",
    "X, y = make_classification(n_samples=50000, n_features=15, n_informative=10, n_redundant=5,\n",
    "                           n_classes=2, weights=[0.7], class_sep=0.7, random_state=15)\n",
    "# make_classification is used to create custom dataset \n",
    "# - for more details - https://scikit-learn.org/stable/modules/generated/sklearn.datasets.make_classification.html"
   ],
   "outputs": [],
   "metadata": {
    "colab": {},
    "colab_type": "code",
    "id": "BsMp0oWzx6dv"
   }
  },
  {
   "cell_type": "code",
   "execution_count": 50,
   "source": [
    "X.shape, y.shape"
   ],
   "outputs": [
    {
     "output_type": "execute_result",
     "data": {
      "text/plain": [
       "((50000, 15), (50000,))"
      ]
     },
     "metadata": {},
     "execution_count": 50
    }
   ],
   "metadata": {
    "colab": {
     "base_uri": "https://localhost:8080/",
     "height": 34
    },
    "colab_type": "code",
    "id": "L8W2fg1cyGdX",
    "outputId": "029d4c84-03b2-4143-a04c-34ff49c88890"
   }
  },
  {
   "cell_type": "code",
   "execution_count": 51,
   "source": [
    "X_train, X_test, y_train, y_test = train_test_split(X, y, test_size=0.25, random_state=15)"
   ],
   "outputs": [],
   "metadata": {
    "colab": {},
    "colab_type": "code",
    "id": "0Kh4dBfVyJMP"
   }
  },
  {
   "cell_type": "code",
   "execution_count": 52,
   "source": [
    "# Standardizing the data.\n",
    "scaler = StandardScaler()\n",
    "X_train = scaler.fit_transform(X_train)\n",
    "X_test = scaler.transform(X_test)\n",
    "\n",
    "\n",
    "''' \n",
    "From - https://datascience.stackexchange.com/a/65170/101199\n",
    "\n",
    "sklearn generally doesn't apply scaling inside of any of its models, instead relying on the user to do that.  This seems like the right way to do it, since you might want to try different scaling techniques depending on your data.\n",
    "\n",
    "From the [User Guide][1]:\n",
    "> Stochastic Gradient Descent is sensitive to feature scaling, so it is highly recommended to scale your data. For example, scale each attribute on the input vector X to [0,1] or [-1,+1], or standardize it to have mean 0 and variance 1...  \n",
    "\n",
    "  [1]: https://scikit-learn.org/stable/modules/sgd.html#tips-on-practical-use\n",
    "'''"
   ],
   "outputs": [
    {
     "output_type": "execute_result",
     "data": {
      "text/plain": [
       "\" \\nFrom - https://datascience.stackexchange.com/a/65170/101199\\n\\nsklearn generally doesn't apply scaling inside of any of its models, instead relying on the user to do that.  This seems like the right way to do it, since you might want to try different scaling techniques depending on your data.\\n\\nFrom the [User Guide][1]:\\n> Stochastic Gradient Descent is sensitive to feature scaling, so it is highly recommended to scale your data. For example, scale each attribute on the input vector X to [0,1] or [-1,+1], or standardize it to have mean 0 and variance 1...  \\n\\n  [1]: https://scikit-learn.org/stable/modules/sgd.html#tips-on-practical-use\\n\""
      ]
     },
     "metadata": {},
     "execution_count": 52
    }
   ],
   "metadata": {
    "colab": {},
    "colab_type": "code",
    "id": "gONY1YiDq7jD"
   }
  },
  {
   "cell_type": "code",
   "execution_count": 53,
   "source": [
    "X_train.shape, y_train.shape, X_test.shape, y_test.shape"
   ],
   "outputs": [
    {
     "output_type": "execute_result",
     "data": {
      "text/plain": [
       "((37500, 15), (37500,), (12500, 15), (12500,))"
      ]
     },
     "metadata": {},
     "execution_count": 53
    }
   ],
   "metadata": {
    "colab": {
     "base_uri": "https://localhost:8080/",
     "height": 34
    },
    "colab_type": "code",
    "id": "0DR_YMBsyOci",
    "outputId": "732014d9-1731-4d3f-918f-a9f5255ee149"
   }
  },
  {
   "cell_type": "markdown",
   "source": [
    "# <font color='red' size=5>SGDClassifier from scikit-learn</font>"
   ],
   "metadata": {
    "colab_type": "text",
    "id": "BW4OHswfqjHR"
   }
  },
  {
   "cell_type": "code",
   "execution_count": 54,
   "source": [
    "# alpha : float\n",
    "# Constant that multiplies the regularization term. \n",
    "\n",
    "# eta0 : double\n",
    "# The initial learning rate for the ‘constant’, ‘invscaling’ or ‘adaptive’ schedules.\n",
    "\n",
    "clf = linear_model.SGDClassifier(eta0=0.0001, alpha=0.0001, loss='log', random_state=15, penalty='l2', tol=1e-3, verbose=2, learning_rate='constant')\n",
    "clf\n",
    "# Please check this documentation (https://scikit-learn.org/stable/modules/generated/sklearn.linear_model.SGDClassifier.html) "
   ],
   "outputs": [
    {
     "output_type": "execute_result",
     "data": {
      "text/plain": [
       "SGDClassifier(alpha=0.0001, average=False, class_weight=None,\n",
       "              early_stopping=False, epsilon=0.1, eta0=0.0001,\n",
       "              fit_intercept=True, l1_ratio=0.15, learning_rate='constant',\n",
       "              loss='log', max_iter=1000, n_iter_no_change=5, n_jobs=None,\n",
       "              penalty='l2', power_t=0.5, random_state=15, shuffle=True,\n",
       "              tol=0.001, validation_fraction=0.1, verbose=2, warm_start=False)"
      ]
     },
     "metadata": {},
     "execution_count": 54
    }
   ],
   "metadata": {
    "colab": {
     "base_uri": "https://localhost:8080/",
     "height": 118
    },
    "colab_type": "code",
    "id": "3HpvTwDHyQQy",
    "outputId": "5729f08c-079a-4b17-bf51-f9aeb5abb13b"
   }
  },
  {
   "cell_type": "code",
   "execution_count": 55,
   "source": [
    "# fitting our model\n",
    "clf.fit(X=X_train, y=y_train)"
   ],
   "outputs": [
    {
     "output_type": "stream",
     "name": "stdout",
     "text": [
      "-- Epoch 1\n",
      "Norm: 0.70, NNZs: 15, Bias: -0.501317, T: 37500, Avg. loss: 0.552526\n",
      "Total training time: 0.01 seconds.\n",
      "-- Epoch 2\n",
      "Norm: 1.04, NNZs: 15, Bias: -0.752393, T: 75000, Avg. loss: 0.448021\n",
      "Total training time: 0.01 seconds.\n",
      "-- Epoch 3\n",
      "Norm: 1.26, NNZs: 15, Bias: -0.902742, T: 112500, Avg. loss: 0.415724\n",
      "Total training time: 0.02 seconds.\n",
      "-- Epoch 4\n",
      "Norm: 1.43, NNZs: 15, Bias: -1.003816, T: 150000, Avg. loss: 0.400895\n",
      "Total training time: 0.03 seconds.\n",
      "-- Epoch 5\n",
      "Norm: 1.55, NNZs: 15, Bias: -1.076296, T: 187500, Avg. loss: 0.392879\n",
      "Total training time: 0.03 seconds.\n",
      "-- Epoch 6\n",
      "Norm: 1.65, NNZs: 15, Bias: -1.131077, T: 225000, Avg. loss: 0.388094\n",
      "Total training time: 0.04 seconds.\n",
      "-- Epoch 7\n",
      "Norm: 1.73, NNZs: 15, Bias: -1.171791, T: 262500, Avg. loss: 0.385077\n",
      "Total training time: 0.05 seconds.\n",
      "-- Epoch 8\n",
      "Norm: 1.80, NNZs: 15, Bias: -1.203840, T: 300000, Avg. loss: 0.383074\n",
      "Total training time: 0.05 seconds.\n",
      "-- Epoch 9\n",
      "Norm: 1.86, NNZs: 15, Bias: -1.229563, T: 337500, Avg. loss: 0.381703\n",
      "Total training time: 0.06 seconds.\n",
      "-- Epoch 10\n",
      "Norm: 1.90, NNZs: 15, Bias: -1.251245, T: 375000, Avg. loss: 0.380763\n",
      "Total training time: 0.07 seconds.\n",
      "-- Epoch 11\n",
      "Norm: 1.94, NNZs: 15, Bias: -1.269044, T: 412500, Avg. loss: 0.380084\n",
      "Total training time: 0.08 seconds.\n",
      "-- Epoch 12\n",
      "Norm: 1.98, NNZs: 15, Bias: -1.282485, T: 450000, Avg. loss: 0.379607\n",
      "Total training time: 0.08 seconds.\n",
      "-- Epoch 13\n",
      "Norm: 2.01, NNZs: 15, Bias: -1.294386, T: 487500, Avg. loss: 0.379251\n",
      "Total training time: 0.09 seconds.\n",
      "-- Epoch 14\n",
      "Norm: 2.03, NNZs: 15, Bias: -1.305805, T: 525000, Avg. loss: 0.378992\n",
      "Total training time: 0.10 seconds.\n",
      "Convergence after 14 epochs took 0.10 seconds\n"
     ]
    },
    {
     "output_type": "execute_result",
     "data": {
      "text/plain": [
       "SGDClassifier(alpha=0.0001, average=False, class_weight=None,\n",
       "              early_stopping=False, epsilon=0.1, eta0=0.0001,\n",
       "              fit_intercept=True, l1_ratio=0.15, learning_rate='constant',\n",
       "              loss='log', max_iter=1000, n_iter_no_change=5, n_jobs=None,\n",
       "              penalty='l2', power_t=0.5, random_state=15, shuffle=True,\n",
       "              tol=0.001, validation_fraction=0.1, verbose=2, warm_start=False)"
      ]
     },
     "metadata": {},
     "execution_count": 55
    }
   ],
   "metadata": {
    "colab": {
     "base_uri": "https://localhost:8080/",
     "height": 638
    },
    "colab_type": "code",
    "id": "YYaVyQ2lyXcr",
    "outputId": "dc0bf840-b37e-4552-e513-84b64f6c64c4"
   }
  },
  {
   "cell_type": "code",
   "execution_count": 56,
   "source": [
    "clf.coef_, clf.coef_.shape, clf.intercept_\n",
    "#clf.coef_ will return the weights\n",
    "#clf.coef_.shape will return the shape of weights\n",
    "#clf.intercept_ will return the intercept term"
   ],
   "outputs": [
    {
     "output_type": "execute_result",
     "data": {
      "text/plain": [
       "(array([[-0.89007184,  0.63162363, -0.07594145,  0.63107107, -0.38434375,\n",
       "          0.93235243, -0.89573521, -0.07340522,  0.40591417,  0.4199991 ,\n",
       "          0.24722143,  0.05046199, -0.08877987,  0.54081652,  0.06643888]]),\n",
       " (1, 15),\n",
       " array([-1.30580538]))"
      ]
     },
     "metadata": {},
     "execution_count": 56
    }
   ],
   "metadata": {
    "colab": {
     "base_uri": "https://localhost:8080/",
     "height": 101
    },
    "colab_type": "code",
    "id": "EAfkVI6GyaRO",
    "outputId": "bc88f920-6531-4106-9b4c-4dabb6d72b47"
   }
  },
  {
   "cell_type": "markdown",
   "source": [
    "#### <font color='red' size=3> Pseudocode for implementing Logistic Regression with L2 regularization Using SGD: without using sklearn </font>\n",
    "\n",
    "After each function, we will check the output of the function with a grader function.\n",
    "\n",
    "* Initialize the weight_vector and intercept term to zeros (Write your code in <font color='blue'>def initialize_weights()</font>)\n",
    "\n",
    "* Create a loss function (Write your code in <font color='blue'>def logloss()</font>) \n",
    "\n",
    " $log loss = -1*\\frac{1}{n}\\Sigma_{for each Yt,Y_{pred}}(Ytlog10(Y_{pred})+(1-Yt)log10(1-Y_{pred}))$\n",
    "- for each epoch:\n",
    "\n",
    "    - for each batch of data points in train: (keep batch size=1)\n",
    "\n",
    "        - calculate the gradient of loss function w.r.t each weight in weight vector (write your code in <font color='blue'>def gradient_dw()</font>)\n",
    "\n",
    "        $dw^{(t)} = x_n(y_n − σ((w^{(t)})^{T} x_n+b^{t}))- \\frac{λ}{N}w^{(t)})$ <br>\n",
    "\n",
    "        - Calculate the gradient of the intercept (write your code in <font color='blue'> def gradient_db()</font>) <a href='https://drive.google.com/file/d/1nQ08-XY4zvOLzRX-lGf8EYB5arb7-m1H/view?usp=sharing'>check this</a>\n",
    "\n",
    "           $ db^{(t)} = y_n- σ((w^{(t)})^{T} x_n+b^{t}))$\n",
    "\n",
    "        - Update weights and intercept (check the equation number 32 in the above mentioned <a href='https://drive.google.com/file/d/1nQ08-XY4zvOLzRX-lGf8EYB5arb7-m1H/view?usp=sharing'>pdf</a>): <br>\n",
    "        $w^{(t+1)}← w^{(t)}+α(dw^{(t)}) $<br>\n",
    "\n",
    "        $b^{(t+1)}←b^{(t)}+α(db^{(t)}) $\n",
    "    - calculate the log loss for train and test with the updated weights \n",
    "    - And if you wish, you can compare the previous loss and the current loss, if it is not updating, then\n",
    "        you can stop the training\n",
    "    - append this loss in the list ( this will be used to see how loss is changing for each epoch after the training is over )\n",
    "\n",
    "---\n",
    "\n",
    "### On  the point of - if the loss is not updating then stop the process\n",
    "\n",
    "Here I am considering test loss because test set are not seen by your system (model), if you monitor train loss you would most probably be overfitting (because your model has already seen the data and can just remember the data points (so your loss will be really low for train but high will be for test)), you guide your model via test set (assuming test set distribution would reflect real world data).\n",
    "\n",
    "And also don't stop when \"previous loss and the current loss are same\" have a \"patient\" value, meaning you wait for few epochs and see if current loss is smaller than previous loss, lets say for 5 epochs, the reason we do this is gradient could be noisy sometimes due to multiple of factor (smaller batch size, big learning rate and so on), so you need to give some patient before you terminate the learning process.\n",
    "\n"
   ],
   "metadata": {
    "colab_type": "text",
    "id": "_-CcGTKgsMrY"
   }
  },
  {
   "cell_type": "markdown",
   "source": [
    "<font color='blue'>Initialize weights </font>"
   ],
   "metadata": {
    "colab_type": "text",
    "id": "ZR_HgjgS_wKu"
   }
  },
  {
   "cell_type": "code",
   "execution_count": 57,
   "source": [
    "# Randomly initializing weights (w) and intercept values (b)\n",
    "# dim — size of the w vector we want (or number of features or parameters in this case)\n",
    "def initialize_weights(dim):\n",
    "    ''' In this function, we will initialize our weights and bias\n",
    "    w — weights, a numpy array of size\n",
    "    b — bias, a scalar\n",
    "    '''\n",
    "    #initialize the weights to zeros array of (1,dim) dimensions\n",
    "    #you use zeros_like function to initialize zero, check this link https://docs.scipy.org/doc/numpy/reference/generated/numpy.zeros_like.html\n",
    "    #initialize bias to zero\n",
    "    w = np.zeros_like(dim)\n",
    "    # Above will initialize all w with 0.\n",
    "    b = 0\n",
    "    return w,b"
   ],
   "outputs": [],
   "metadata": {
    "colab": {},
    "colab_type": "code",
    "id": "GecwYV9fsKZ9"
   }
  },
  {
   "cell_type": "markdown",
   "source": [
    "<font color='cyan'>Grader function - 1 </font>"
   ],
   "metadata": {
    "colab_type": "text",
    "id": "4MI5SAjP9ofN"
   }
  },
  {
   "cell_type": "code",
   "execution_count": 58,
   "source": [
    "dim=X_train[0] \n",
    "w,b = initialize_weights(dim)\n",
    "def grader_weights(w,b):\n",
    "  assert((len(w)==len(dim)) and b==0 and np.sum(w)==0.0)\n",
    "  return True\n",
    "grader_weights(w,b)"
   ],
   "outputs": [
    {
     "output_type": "execute_result",
     "data": {
      "text/plain": [
       "True"
      ]
     },
     "metadata": {},
     "execution_count": 58
    }
   ],
   "metadata": {
    "colab": {},
    "colab_type": "code",
    "id": "Pv1llH429wG5"
   }
  },
  {
   "cell_type": "markdown",
   "source": [
    "<font color='blue'>Compute sigmoid </font>\n",
    "\n",
    "$sigmoid(z)= 1/(1+exp(-z))$"
   ],
   "metadata": {
    "colab_type": "text",
    "id": "QN83oMWy_5rv"
   }
  },
  {
   "cell_type": "code",
   "execution_count": 59,
   "source": [
    "def sigmoid(z):\n",
    "    return 1.0/(1 + np.exp(-z))"
   ],
   "outputs": [],
   "metadata": {
    "colab": {},
    "colab_type": "code",
    "id": "nAfmQF47_Sd6"
   }
  },
  {
   "cell_type": "code",
   "execution_count": 60,
   "source": [
    "def grader_sigmoid(z):\n",
    "  val=sigmoid(z)\n",
    "  assert(val==0.8807970779778823)\n",
    "  return True\n",
    "grader_sigmoid(2)"
   ],
   "outputs": [
    {
     "output_type": "execute_result",
     "data": {
      "text/plain": [
       "True"
      ]
     },
     "metadata": {},
     "execution_count": 60
    }
   ],
   "metadata": {
    "colab": {},
    "colab_type": "code",
    "id": "P_JASp_NAfK_"
   }
  },
  {
   "cell_type": "markdown",
   "source": [
    "<font color='blue'> Compute loss </font>"
   ],
   "metadata": {
    "colab_type": "text",
    "id": "gS7JXbcrBOFF"
   }
  },
  {
   "cell_type": "markdown",
   "source": [
    "## $$ log loss = -1 * \\frac{1}{n}\\Sigma_{for each Y^t, Y_{pred}}(Y^t log10(Y_{pred}) + (1-Y^t) log10(1-Y_{pred})) $$"
   ],
   "metadata": {
    "colab_type": "text",
    "id": "lfEiS22zBVYy"
   }
  },
  {
   "cell_type": "code",
   "execution_count": 61,
   "source": [
    "def logloss(y_true,y_pred):\n",
    "    sum_of_loss = 0\n",
    "    for i in range(len(y_true)):\n",
    "        sum_of_loss += ((y_true[i] * np.log10(y_pred[i])) + ((1-y_true[i]) * np.log10(1-y_pred[i])))\n",
    "\n",
    "    loss = -1*(1/len(y_true))*sum_of_loss\n",
    "\n",
    "    return loss"
   ],
   "outputs": [],
   "metadata": {
    "colab": {},
    "colab_type": "code",
    "id": "VaFDgsp3sKi6"
   }
  },
  {
   "cell_type": "markdown",
   "source": [
    "<font color='cyan'>Grader function - 3 </font>"
   ],
   "metadata": {
    "colab_type": "text",
    "id": "Zs1BTXVSClBt"
   }
  },
  {
   "cell_type": "code",
   "execution_count": 62,
   "source": [
    "def grader_logloss(true,pred):\n",
    "  loss=logloss(true,pred)\n",
    "  assert(loss==0.07644900402910389)\n",
    "  return True\n",
    "true=[1,1,0,1,0]\n",
    "pred=[0.9,0.8,0.1,0.8,0.2]\n",
    "grader_logloss(true,pred)"
   ],
   "outputs": [
    {
     "output_type": "execute_result",
     "data": {
      "text/plain": [
       "True"
      ]
     },
     "metadata": {},
     "execution_count": 62
    }
   ],
   "metadata": {
    "colab": {},
    "colab_type": "code",
    "id": "LzttjvBFCuQ5"
   }
  },
  {
   "cell_type": "markdown",
   "source": [
    "<font color='blue'>Compute gradient w.r.to  'w' </font>"
   ],
   "metadata": {
    "colab_type": "text",
    "id": "tQabIadLCBAB"
   }
  },
  {
   "cell_type": "markdown",
   "source": [
    "$dw^{(t)} = x_n(y_n − σ((w^{(t)})^{T} x_n+b^{t}))- \\frac{λ}{N}w^{(t)}$ <br>"
   ],
   "metadata": {
    "colab_type": "text",
    "id": "YTMxiYKaCQgd"
   }
  },
  {
   "cell_type": "code",
   "execution_count": 63,
   "source": [
    "def gradient_dw(x,y,w,b,alpha,N):\n",
    "    '''In this function, we will compute the gardient w.r.to w '''\n",
    "    z = np.dot(w, x) + b\n",
    "    dw = x*(y - sigmoid(z)) - ((alpha)*(1/N) * w)\n",
    "    return dw"
   ],
   "outputs": [],
   "metadata": {
    "colab": {},
    "colab_type": "code",
    "id": "NMVikyuFsKo5"
   }
  },
  {
   "cell_type": "markdown",
   "source": [
    "\n",
    "<h2><font color='red'>Special note on above gradient_dw() function</font></h2>\n",
    "\n",
    "### How am I multiplying np.dot(w, x) in below function given w is 1-d array with 15 elements i.e. 15 columns and X is a 2-D array with 50,000 rows and 15 columns\n",
    "\n",
    "```py\n",
    "def gradient_dw(x,y,w,b,alpha,N):\n",
    "    '''In this function, we will compute the gardient w.r.to w '''\n",
    "    z = np.dot(w, x) + b\n",
    "    dw = x*(y - sigmoid(z)) - ((alpha)*(1/N) * w)\n",
    "    return dw\n",
    "\n",
    "```\n",
    "\n",
    "If w = (1, 15) and X = (100, 15), you can NOT do `w.dot(x)` because\n",
    "\n",
    "#### Columns of w should match rows of x\n",
    "\n",
    "When we do multiplication:\n",
    "\n",
    "The number of columns of the 1st matrix must equal the number of rows of the 2nd matrix.\n",
    "And the result will have the same number of rows as the 1st matrix, and the same number of columns as the 2nd matrix.\n",
    "\n",
    "#### To multiply an m×n matrix by an n×p matrix, the n's must be the same, and the result is an m×p matrix.\n",
    "\n",
    "## $$m*n  \\quad Multiply \\quad  n*p => m*p \\quad Matrix$$\n",
    "\n",
    "Thats why we should take transpose of w which would make matrix multiplication possible like w.T = (15, 1) now if you take `w.dot(x)` it will return you 1X100 shaped vector. Notice after transpose of W how rows of W and columns of X are matching, and weights are represented as rows rather than columns.\n",
    "\n",
    "\n",
    "#### But the question is in my above `gradient_dw()` how come I am NOT doing this above transpose\n",
    "\n",
    "#### [Does np.dot automatically transpose vectors?](https://stackoverflow.com/questions/54160155/does-np-dot-automatically-transpose-vectors)\n",
    "\n",
    " It seems that when one of your matrices is one dimensional, then numpy will figure out automatically what you are trying to do.\n",
    "\n",
    "\n",
    "[The documentation][1] for the dot function has a more specific explanation of the logic applied:\n",
    "\n",
    "* If both a and b are 1-D arrays, it is inner product of vectors (without complex conjugation).\n",
    "\n",
    "* If both a and b are 2-D arrays, it is matrix multiplication, but using matmul or a @ b is preferred.\n",
    "\n",
    "* If either a or b is 0-D (scalar), it is equivalent to multiply and using numpy.multiply(a, b) or a * b is preferred.\n",
    "\n",
    "* If a is an N-D array and b is a 1-D array, it is a sum product over the last axis of a and b. (THIS IS WHAT IS BEING APPLIED HERE IN THE CASE OF OUR gradient_dw() function)\n",
    "\n",
    "* If a is an N-D array and b is an M-D array (where M>=2), it is a sum product over the last axis of a and the second-to-last axis of b:\n",
    "\n",
    "\n",
    "  [1]: https://numpy.org/doc/stable/reference/generated/numpy.dot.html?highlight=dot#numpy.dot"
   ],
   "metadata": {}
  },
  {
   "cell_type": "markdown",
   "source": [
    "<font color='cyan'>Grader function - 4 </font>"
   ],
   "metadata": {
    "colab_type": "text",
    "id": "RUFLNqL_GER9"
   }
  },
  {
   "cell_type": "code",
   "execution_count": 64,
   "source": [
    "def grader_dw(x,y,w,b,alpha,N):\n",
    "  grad_dw=gradient_dw(x,y,w,b,alpha,N)\n",
    "  assert(np.sum(grad_dw)==2.613689585)\n",
    "  return True\n",
    "grad_x=np.array([-2.07864835,  3.31604252, -0.79104357, -3.87045546, -1.14783286,\n",
    "       -2.81434437, -0.86771071, -0.04073287,  0.84827878,  1.99451725,\n",
    "        3.67152472,  0.01451875,  2.01062888,  0.07373904, -5.54586092])\n",
    "grad_y=0\n",
    "grad_w,grad_b=initialize_weights(grad_x)\n",
    "alpha=0.0001\n",
    "N=len(X_train)\n",
    "grader_dw(grad_x,grad_y,grad_w,grad_b,alpha,N)"
   ],
   "outputs": [
    {
     "output_type": "execute_result",
     "data": {
      "text/plain": [
       "True"
      ]
     },
     "metadata": {},
     "execution_count": 64
    }
   ],
   "metadata": {
    "colab": {},
    "colab_type": "code",
    "id": "WI3xD8ctGEnJ"
   }
  },
  {
   "cell_type": "markdown",
   "source": [
    "<font color='blue'>Compute gradient w.r.to 'b' </font>"
   ],
   "metadata": {
    "colab_type": "text",
    "id": "LE8g84_GI62n"
   }
  },
  {
   "cell_type": "markdown",
   "source": [
    "$ db^{(t)} = y_n- σ((w^{(t)})^{T} x_n+b^{t})$"
   ],
   "metadata": {
    "colab_type": "text",
    "id": "fHvTYZzZJJ_N"
   }
  },
  {
   "cell_type": "code",
   "execution_count": 65,
   "source": [
    "def gradient_db(x,y,w,b):\n",
    "    z = np.dot(w, x) + b\n",
    "    db = y - sigmoid(z)\n",
    "\n",
    "    return db"
   ],
   "outputs": [],
   "metadata": {
    "colab": {},
    "colab_type": "code",
    "id": "0nUf2ft4EZp8"
   }
  },
  {
   "cell_type": "markdown",
   "source": [
    "<font color='cyan'>Grader function - 5 </font>"
   ],
   "metadata": {
    "colab_type": "text",
    "id": "pbcBzufVG6qk"
   }
  },
  {
   "cell_type": "code",
   "execution_count": 66,
   "source": [
    "def grader_db(x,y,w,b):\n",
    "  grad_db=gradient_db(x,y,w,b)\n",
    "  assert(grad_db==-0.5)\n",
    "  return True\n",
    "grad_x=np.array([-2.07864835,  3.31604252, -0.79104357, -3.87045546, -1.14783286,\n",
    "       -2.81434437, -0.86771071, -0.04073287,  0.84827878,  1.99451725,\n",
    "        3.67152472,  0.01451875,  2.01062888,  0.07373904, -5.54586092])\n",
    "grad_y=0\n",
    "grad_w,grad_b=initialize_weights(grad_x)\n",
    "alpha=0.0001\n",
    "N=len(X_train)\n",
    "grader_db(grad_x,grad_y,grad_w,grad_b)"
   ],
   "outputs": [
    {
     "output_type": "execute_result",
     "data": {
      "text/plain": [
       "True"
      ]
     },
     "metadata": {},
     "execution_count": 66
    }
   ],
   "metadata": {
    "colab": {},
    "colab_type": "code",
    "id": "TfFDKmscG5qZ"
   }
  },
  {
   "cell_type": "markdown",
   "source": [
    "<font color='blue'> Implementing logistic regression</font>"
   ],
   "metadata": {
    "colab_type": "text",
    "id": "TCK0jY_EOvyU"
   }
  },
  {
   "cell_type": "code",
   "execution_count": 67,
   "source": [
    "def train(X_train, y_train, X_test, y_test, epochs, alpha, eta0, tol=1e-3):\n",
    "    \"\"\" In this function, we will implement logistic regression\"\"\"\n",
    "    # Here eta0 is learning rate\n",
    "    # implement the code as follows\n",
    "    # initialize the weights (call the initialize_weights(X_train[0]) function)\n",
    "    w, b = initialize_weights(X_train[0])\n",
    "    # for every epoch\n",
    "    train_loss = []\n",
    "    test_loss = []\n",
    "    N = len(X_train)\n",
    "\n",
    "    loss_threshold = 0.0001\n",
    "\n",
    "    while True:\n",
    "        for epoch in range(epochs):            \n",
    "            \n",
    "            # for every data point(X_train,y_train)\n",
    "            for row in range(N - 1):\n",
    "                # compute gradient w.r.to w (call the gradient_dw() function)\n",
    "                delta_weights = gradient_dw(\n",
    "                    X_train[row], y_train[row], w, b, alpha, len(X_train)\n",
    "                )\n",
    "\n",
    "                # compute gradient w.r.to b (call the gradient_db() function)\n",
    "                delta_bias = gradient_db(X_train[row], y_train[row], w, b)\n",
    "\n",
    "                # update w, b\n",
    "                w = w + eta0 * delta_weights\n",
    "                b = b + eta0 * delta_bias\n",
    "\n",
    "            # predict the output of x_train[for all data points in X_train] using w,b\n",
    "            # y_prediction_train — a numpy array (vector) containing all predictions (0/1) for the examples in X\n",
    "            y_prediction_train = [  \n",
    "            sigmoid(np.dot(w, x_row) + b) for x_row in X_train\n",
    "            ]\n",
    "\n",
    "            # compute the loss between predicted and actual values (call the loss function)\n",
    "            # store all the train loss values in a list\n",
    "            train_loss.append(logloss(y_train, y_prediction_train))\n",
    "\n",
    "            # predict the output of x_test[for all data points in X_test] using w,b\n",
    "            y_prediction_test = [\n",
    "                sigmoid(np.dot(w, x_row) + b) for x_row in X_test\n",
    "            ]\n",
    "\n",
    "            print(\n",
    "                f\"For EPOCH No : {epoch} Train Loss is : {logloss(y_train, y_prediction_train)} and Test Loss is : {logloss(y_test, y_prediction_test)}\"\n",
    "            )\n",
    "\n",
    "            # compute the loss between predicted and actual values (call the loss function)\n",
    "            test_loss.append(logloss(y_test, y_prediction_test))\n",
    "\n",
    "        # you can also compare previous loss and current loss\n",
    "        # if the loss is not updating then stop the process and return w,b\n",
    "        # i.e. loss is still reducing with each epoch but the reduction is insignificant ( < loss_threshold )\n",
    "        if (\n",
    "            len(test_loss) > 3\n",
    "            and (test_loss[-2] - test_loss[-1]) > 0\n",
    "            and (test_loss[-2] - test_loss[-1])\n",
    "        ) < loss_threshold:\n",
    "            break\n",
    "\n",
    "    return w, b, train_loss, test_loss\n",
    "    "
   ],
   "outputs": [],
   "metadata": {
    "colab": {},
    "colab_type": "code",
    "id": "dmAdc5ejEZ25"
   }
  },
  {
   "cell_type": "code",
   "execution_count": 68,
   "source": [
    "alpha=0.0001\n",
    "eta0=0.0001\n",
    "N=len(X_train)\n",
    "epochs=50\n",
    "\n",
    "w,b, train_loss, test_loss =train(X_train,y_train,X_test,y_test,epochs,alpha,eta0)\n",
    "\n",
    "# print(\"Weights from custom implementations \",  w)\n",
    "# print(\"Intercept b from custom implementations \", b)"
   ],
   "outputs": [
    {
     "output_type": "stream",
     "name": "stdout",
     "text": [
      "For EPOCH No : 0 Train Loss is : 0.20729876546330706 and Test Loss is : 0.2072225627554031\n",
      "For EPOCH No : 1 Train Loss is : 0.18556307486085272 and Test Loss is : 0.18565280665489842\n",
      "For EPOCH No : 2 Train Loss is : 0.17659720169678442 and Test Loss is : 0.17682550630341304\n",
      "For EPOCH No : 3 Train Loss is : 0.17201336774946202 and Test Loss is : 0.17235280771147948\n",
      "For EPOCH No : 4 Train Loss is : 0.16938035193673734 and Test Loss is : 0.1698094791351209\n",
      "For EPOCH No : 5 Train Loss is : 0.16775362865599033 and Test Loss is : 0.16825589479952285\n",
      "For EPOCH No : 6 Train Loss is : 0.16669797634806888 and Test Loss is : 0.16726046448034526\n",
      "For EPOCH No : 7 Train Loss is : 0.1659885582650497 and Test Loss is : 0.16660104550000873\n",
      "For EPOCH No : 8 Train Loss is : 0.1654993480217648 and Test Loss is : 0.16615364360344456\n",
      "For EPOCH No : 9 Train Loss is : 0.1651552959688971 and Test Loss is : 0.1658447675972595\n",
      "For EPOCH No : 10 Train Loss is : 0.16490959570548372 and Test Loss is : 0.16562882326736186\n",
      "For EPOCH No : 11 Train Loss is : 0.16473198368710804 and Test Loss is : 0.16547650132625857\n",
      "For EPOCH No : 12 Train Loss is : 0.16460232428460342 and Test Loss is : 0.16536842534862983\n",
      "For EPOCH No : 13 Train Loss is : 0.16450690802866455 and Test Loss is : 0.16529149571249893\n",
      "For EPOCH No : 14 Train Loss is : 0.16443622377854386 and Test Loss is : 0.1652366955048126\n",
      "For EPOCH No : 15 Train Loss is : 0.16438357025379308 and Test Loss is : 0.16519772726962925\n",
      "For EPOCH No : 16 Train Loss is : 0.16434416494164117 and Test Loss is : 0.1651701409613321\n",
      "For EPOCH No : 17 Train Loss is : 0.16431455786708288 and Test Loss is : 0.165150762237208\n",
      "For EPOCH No : 18 Train Loss is : 0.1642922377205458 and Test Loss is : 0.165137309759509\n",
      "For EPOCH No : 19 Train Loss is : 0.1642753624258008 and Test Loss is : 0.165128134438123\n",
      "For EPOCH No : 20 Train Loss is : 0.1642625719702185 and Test Loss is : 0.16512203905415693\n",
      "For EPOCH No : 21 Train Loss is : 0.16425285664591543 and Test Loss is : 0.16511815186696946\n",
      "For EPOCH No : 22 Train Loss is : 0.16424546323044667 and Test Loss is : 0.16511583706890876\n",
      "For EPOCH No : 23 Train Loss is : 0.16423982751795413 and Test Loss is : 0.16511463074859892\n",
      "For EPOCH No : 24 Train Loss is : 0.1642355253815806 and Test Loss is : 0.1651141947310326\n",
      "For EPOCH No : 25 Train Loss is : 0.1642322370115377 and Test Loss is : 0.16511428308035983\n",
      "For EPOCH No : 26 Train Loss is : 0.16422972061123853 and Test Loss is : 0.1651147176554711\n",
      "For EPOCH No : 27 Train Loss is : 0.1642277929402276 and Test Loss is : 0.1651153701896984\n",
      "For EPOCH No : 28 Train Loss is : 0.16422631485041644 and Test Loss is : 0.16511614910482642\n",
      "For EPOCH No : 29 Train Loss is : 0.16422518048759102 and Test Loss is : 0.1651169897810745\n",
      "For EPOCH No : 30 Train Loss is : 0.16422430919886125 and Test Loss is : 0.16511784736255197\n",
      "For EPOCH No : 31 Train Loss is : 0.16422363944785162 and Test Loss is : 0.16511869143075864\n",
      "For EPOCH No : 32 Train Loss is : 0.16422312422620117 and Test Loss is : 0.16511950205917944\n",
      "For EPOCH No : 33 Train Loss is : 0.16422272758461876 and Test Loss is : 0.16512026689177964\n",
      "For EPOCH No : 34 Train Loss is : 0.1642224220044243 and Test Loss is : 0.16512097898222547\n",
      "For EPOCH No : 35 Train Loss is : 0.1642221864020379 and Test Loss is : 0.1651216351991213\n",
      "For EPOCH No : 36 Train Loss is : 0.16422200461137332 and Test Loss is : 0.16512223505274154\n",
      "For EPOCH No : 37 Train Loss is : 0.1642218642279109 and Test Loss is : 0.1651227798357505\n",
      "For EPOCH No : 38 Train Loss is : 0.16422175572706202 and Test Loss is : 0.16512327199764668\n",
      "For EPOCH No : 39 Train Loss is : 0.16422167179097136 and Test Loss is : 0.165123714693063\n",
      "For EPOCH No : 40 Train Loss is : 0.16422160679389305 and Test Loss is : 0.16512411145907163\n",
      "For EPOCH No : 41 Train Loss is : 0.16422155640845765 and Test Loss is : 0.16512446598800698\n",
      "For EPOCH No : 42 Train Loss is : 0.16422151730414705 and Test Loss is : 0.1651247819706693\n",
      "For EPOCH No : 43 Train Loss is : 0.1642214869162373 and Test Loss is : 0.16512506299116475\n",
      "For EPOCH No : 44 Train Loss is : 0.1642214632686021 and Test Loss is : 0.1651253124593804\n",
      "For EPOCH No : 45 Train Loss is : 0.16422144483775475 and Test Loss is : 0.16512553357059578\n",
      "For EPOCH No : 46 Train Loss is : 0.1642214304484596 and Test Loss is : 0.16512572928448616\n",
      "For EPOCH No : 47 Train Loss is : 0.16422141919355182 and Test Loss is : 0.16512590231773186\n",
      "For EPOCH No : 48 Train Loss is : 0.16422141037230878 and Test Loss is : 0.16512605514599074\n",
      "For EPOCH No : 49 Train Loss is : 0.16422140344308503 and Test Loss is : 0.1651261900120949\n"
     ]
    }
   ],
   "metadata": {
    "colab": {},
    "colab_type": "code",
    "id": "sUquz7LFEZ6E"
   }
  },
  {
   "cell_type": "markdown",
   "source": [
    "<h2><font color='red'>Comparing our above Custom from-scratch implementation with Sikit Learn's SGDClassifier's implementation by calculating the differences of the weights and intercept terms</font></h2>"
   ],
   "metadata": {
    "colab_type": "text",
    "id": "l3eF_VSPSH2z"
   }
  },
  {
   "cell_type": "code",
   "execution_count": 69,
   "source": [
    "# From Scikit-Learn's SGDClassifier's implementation as done at the top of this file\n",
    "# the weights and intercept were clf.coef and clf.intercept_\n",
    "# So printing the difference below between them\n",
    "print(\"w-clf.coef_ \", w-clf.coef_)\n",
    "print(\"b-clf.intercept_ \", b-clf.intercept_)"
   ],
   "outputs": [
    {
     "output_type": "stream",
     "name": "stdout",
     "text": [
      "w-clf.coef_  [[-0.08131849  0.06368005 -0.03055416  0.05043961 -0.06035257  0.07561722\n",
      "  -0.04763114  0.000364    0.04056776  0.05818547  0.02680422  0.00971967\n",
      "  -0.00728562  0.02954035 -0.00241388]]\n",
      "b-clf.intercept_  [-0.06322387]\n"
     ]
    }
   ],
   "metadata": {
    "colab": {},
    "colab_type": "code",
    "id": "nx8Rs9rfEZ1R"
   }
  },
  {
   "cell_type": "markdown",
   "source": [
    "## IF I DONT DO Standardization (by commenting out StandardScaler related 3 lines of code at the top) on train and test data, strangely only in this case, my result is closest to scikit-learn's\n",
    "\n",
    "i.e. ONLY in this case, our custom implementation and SGDClassifier's the weights, are the closest with difference in terms of 10^-3\n",
    "\n",
    "```\n",
    "w-clf.coef_  [[-0.00657559  0.00772178  0.00016917 -0.00345672 -0.0130416   0.00973689\n",
    "   0.00729834  0.00433923  0.01296269 -0.00698266  0.00168893 -0.00475045\n",
    "  -0.00164603  0.00046798  0.00031031]]\n",
    "b-clf.intercept_  [-0.03904606]\n",
    "```\n",
    "\n",
    "This is expected as I mentioned earlier that  \n",
    "\n",
    "sklearn generally doesn't apply scaling inside of any of its models, instead relying on the user to do that.  This seems like the right way to do it, since you might want to try different scaling techniques depending on your data.\n",
    "\n",
    "[source](https://datascience.stackexchange.com/a/65170/101199)\n",
    "\n",
    "From the [User Guide][1]:\n",
    "> Stochastic Gradient Descent is sensitive to feature scaling, so it is highly recommended to scale your data. For example, scale each attribute on the input vector X to [0,1] or [-1,+1], or standardize it to have mean 0 and variance 1...  \n",
    "\n",
    "  [1]: https://scikit-learn.org/stable/modules/sgd.html#tips-on-practical-use\n",
    "'''"
   ],
   "metadata": {}
  },
  {
   "cell_type": "code",
   "execution_count": 70,
   "source": [
    "x = np.array([i for i in range(0, 50)])\n",
    "\n",
    "train_log_loss = np.array(train_loss)\n",
    "test_log_loss = np.array(test_loss)\n",
    "\n",
    "plt.plot(x, train_log_loss, \"-b\", label=\"Train Logloss\")\n",
    "plt.plot(x, test_log_loss, \"-r\", label=\"Test Logloss\")\n",
    "\n",
    "plt.legend(loc=\"upper right\")\n",
    "\n",
    "plt.xlabel('epoch numbers')\n",
    "plt.ylabel('Loss')\n",
    "plt.title('Train and Test Loss for various epochs in the same graph')\n",
    "plt.show()"
   ],
   "outputs": [
    {
     "output_type": "display_data",
     "data": {
      "text/plain": [
       "<Figure size 432x288 with 1 Axes>"
      ],
      "image/png": "[encoded data removed]"
     },
     "metadata": {
      "needs_background": "light"
     }
    }
   ],
   "metadata": {}
  },
  {
   "cell_type": "markdown",
   "source": [
    "<font color='blue'>Plot epoch number vs train , test loss </font>\n",
    "\n",
    "* epoch number on X-axis\n",
    "* loss on Y-axis"
   ],
   "metadata": {
    "colab_type": "text",
    "id": "230YbSgNSUrQ"
   }
  },
  {
   "cell_type": "code",
   "execution_count": 71,
   "source": [
    "x = np.array([i for i in range(0, 50)])\n",
    "y = np.array(train_loss)\n",
    "plt.plot(x, y)\n",
    "plt.xlabel('epoch numbers')\n",
    "plt.ylabel('Train Loss')\n",
    "plt.title('Train loss for various epochs')\n",
    "plt.show()"
   ],
   "outputs": [
    {
     "output_type": "display_data",
     "data": {
      "text/plain": [
       "<Figure size 432x288 with 1 Axes>"
      ],
      "image/png": "[encoded data removed]"
     },
     "metadata": {
      "needs_background": "light"
     }
    }
   ],
   "metadata": {
    "colab": {},
    "colab_type": "code",
    "id": "1O6GrRt7UeCJ"
   }
  },
  {
   "cell_type": "code",
   "execution_count": 72,
   "source": [
    "x = np.array([i for i in range(0, 50)])\n",
    "y = np.array(test_loss)\n",
    "plt.plot(x, y)\n",
    "plt.xlabel('epoch numbers')\n",
    "plt.ylabel('Test Loss')\n",
    "plt.title('Test loss for various epochs')\n",
    "plt.show()"
   ],
   "outputs": [
    {
     "output_type": "display_data",
     "data": {
      "text/plain": [
       "<Figure size 432x288 with 1 Axes>"
      ],
      "image/png": "[encoded data removed]"
     },
     "metadata": {
      "needs_background": "light"
     }
    }
   ],
   "metadata": {
    "collapsed": false,
    "pycharm": {
     "name": "#%%\n"
    }
   }
  },
  {
   "cell_type": "code",
   "execution_count": 73,
   "source": [
    "def pred(w,b, X):\n",
    "    N = len(X)\n",
    "    predict = []\n",
    "    for i in range(N):\n",
    "        z=np.dot(w,X[i])+b\n",
    "        if sigmoid(z) >= 0.5: # sigmoid(w,x,b) returns 1/(1+exp(-(dot(x,w)+b)))\n",
    "            predict.append(1)\n",
    "        else:\n",
    "            predict.append(0)\n",
    "    return np.array(predict)\n",
    "print(1-np.sum(y_train - pred(w,b,X_train))/len(X_train))\n",
    "print(1-np.sum(y_test  - pred(w,b,X_test))/len(X_test))"
   ],
   "outputs": [
    {
     "output_type": "stream",
     "name": "stdout",
     "text": [
      "0.95184\n",
      "0.94936\n"
     ]
    }
   ],
   "metadata": {
    "colab": {},
    "colab_type": "code",
    "id": "FUN8puFoEZtU",
    "pycharm": {
     "name": "#%%\n"
    }
   }
  }
 ],
 "metadata": {
  "colab": {
   "name": "Assignment_4_Reference.ipynb",
   "provenance": []
  },
  "kernelspec": {
   "display_name": "PyCharm (pro-machine-learning-algorithms-master)",
   "language": "python",
   "name": "pycharm-8ad3ec83"
  },
  "language_info": {
   "name": "python",
   "version": ""
  },
  "metadata": {
   "interpreter": {
    "hash": "31f2aee4e71d21fbe5cf8b01ff0e069b9275f58929596ceb00d14d90e3e16cd6"
   }
  }
 },
 "nbformat": 4,
 "nbformat_minor": 4
}