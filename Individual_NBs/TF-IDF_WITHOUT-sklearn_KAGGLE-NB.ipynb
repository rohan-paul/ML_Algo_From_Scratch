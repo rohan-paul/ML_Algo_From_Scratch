{
 "cells": [
  {
   "cell_type": "markdown",
   "metadata": {
    "pycharm": {
     "name": "#%% md\n"
    }
   },
   "source": [
    "<h2 style=\"font-size:250%; font-family:cursive; color:#ff6666;\"><b>TFIDF Vectorizer from Scratch & compare its results with Sklearn:</b><h2>\n",
    "\n",
    "1. [First Some basics on TF-IDF](#1)\n",
    "2. [fit() Method](#2)\n",
    "3. [Sklearn Implementation](#3)\n",
    "4. [Implement max features functionality](#4)\n",
    "\n",
    "\n",
    "\n",
    "<h3 style=\"font-size:250%; font-family:cursive; color:#ff6666;\"><b>First Some basics on TF-IDF <a id=\"1\"></a> </b><h3>\n",
    "\n",
    "Tf-idf stands for term frequency-inverse document frequency, and the tf-idf weight is a weight often used in information retrieval and text mining. This weight is a statistical measure used to evaluate how important a word is to a document in a collection or corpus. The importance increases proportionally to the number of times a word appears in the document but is offset by the frequency of the word in the corpus. Variations of the tf-idf weighting scheme are often used by search engines as a central tool in scoring and ranking a document's relevance given a user query.\n",
    "\n",
    "    \n",
    "One of the simplest ranking functions is computed by summing the tf-idf for each query term; many more sophisticated ranking functions are variants of this simple model.\n",
    "    \n",
    "Tf-idf can be successfully used for stop-words filtering in various subject fields including text summarization and classification.\n",
    "\n",
    "Typically, the tf-idf weight is composed by two terms: the first computes the normalized Term Frequency (TF), aka. the number of times a word appears in a document, divided by the total number of words in that document; the second term is the Inverse Document Frequency (IDF), computed as the logarithm of the number of the documents in the corpus divided by the number of documents where the specific term appears.\n",
    "\n",
    "TF:</strong> Term Frequency, which measures how frequently a term occurs in a document. Since every document is different in length, it is possible that a term would appear much more times in long documents than shorter ones. Thus, the term frequency is often divided by the document length (aka. the total number of terms in the document) as a way of normalization: \n",
    "\n",
    "$$TF(t) = \\frac{\\text{Number of times term t appears in a document}}{\\text{Total number of terms in the document}}.$$\n",
    "\n",
    "Inverse Document Frequency, which measures how important a term is. While computing TF, all terms are considered equally important. However it is known that certain terms, such as \"is\", \"of\", and \"that\", may appear a lot of times but have little importance. Thus we need to weigh down the frequent terms while scale up the rare ones, by computing the following:\n",
    "\n",
    "$$IDF(t) = \\log_{e}\\frac{\\text{Total  number of documents}} {\\text{Number of documents with term t in it}}.$$\n",
    "\n",
    "for numerical stabiltiy we will be changing this formula little bit\n",
    "\n",
    "$$IDF(t) = \\log_{e}\\frac{\\text{Total  number of documents}} {\\text{Number of documents with term t in it}+1}.$$\n",
    "\n",
    "Example\n",
    "\n",
    "\n",
    "Consider a document containing 100 words wherein the word cat appears 3 times. The term frequency (i.e., tf) for cat is then (3 / 100) = 0.03. Now, assume we have 10 million documents and the word cat appears in one thousand of these. Then, the inverse document frequency (i.e., idf) is calculated as log(10,000,000 / 1,000) = 4. Thus, the Tf-idf weight is the product of these quantities: 0.03 * 4 = 0.12.\n",
    "\n",
    "---\n",
    "\n",
    "Here I will implement a TFIDF vectorizer on a collection of text documents and then compare the results of my own implementation of TFIDF vectorizer with that of sklearns implemenation TFIDF vectorizer.\n",
    "\n",
    "     Sklearn does few more tweaks in the implementation of its version of TFIDF vectorizer, so to replicate the exact results I would need to add following things to our custom implementation of tfidf vectorizer:\n",
    "\n",
    "         - Sklearn has its vocabulary generated from idf sorted in alphabetical order\n",
    "         \n",
    "         - Sklearn formula of idf is different from the standard textbook formula. Here the constant <strong>\"1\"</strong> is added to the numerator and denominator of the idf as if an extra document was seen containing every term in the collection exactly once, which prevents zero divisions.\n",
    "\n",
    " $$IDF(t) = 1+\\log_{e}\\frac{1\\text{ }+\\text{ Total  number of documents in collection}} {1+\\text{Number of documents with term t in it}}.$$\n",
    "\n",
    "         - Sklearn applies L2-normalization on its output matrix.\n",
    "         - The final output of sklearn tfidf vectorizer is a sparse matrix.\n",
    "\n",
    "\n",
    " Steps to approach this problem :\n",
    "\n",
    " - I would have to write both fit and transform methods for my custom implementation of tfidf vectorizer.\n",
    "\n",
    " - Print out the alphabetically sorted voacb after I fit our data and check if its the same as that of the feature names from sklearn tfidf vectorizer.\n",
    "\n",
    "\n",
    " - Print out the idf values from our implementation and check if its the same as that of sklearns tfidf vectorizer idf values.\n",
    " -        Once I get our voacb and idf values to be same as that of sklearns implementation of tfidf vectorizer, proceed to the below steps.\n",
    " -       Make sure the output of our implementation is a sparse matrix. Before generating the final output, I need to normalize our sparse matrix using L2 normalization. You can refer to this link https://scikit-learn.org/stable/modules/generated/sklearn.preprocessing.normalize.html\n",
    "\n",
    " -      After completing the above steps, print the output of our custom implementation and compare it with sklearns implementation of tfidf vectorizer.\n",
    " -      To check the output of a single document in our collection of documents,  I can convert the sparse matrix related only to that document into dense matrix and print it.\n",
    "\n",
    "### The output of our custom implementation and that of sklearns implementation would match only with the collection of document strings I define below, as reference in this notebook. It would not match for strings that contain capital letters or punctuations, etc, because sklearn version of tfidf vectorizer deals with such strings in a different way."
   ]
  },
  {
   "cell_type": "code",
   "execution_count": 1,
   "metadata": {
    "jupyter": {
     "outputs_hidden": false
    },
    "pycharm": {
     "name": "#%%\n"
    }
   },
   "outputs": [],
   "source": [
    "from collections import Counter\n",
    "from scipy.sparse import csr_matrix\n",
    "from sklearn.preprocessing import normalize\n",
    "import numpy as np\n",
    "import pandas as pd\n",
    "\n",
    "corpus_1 = [\n",
    "     'this is the first document',\n",
    "     'this document is the second document',\n",
    "     'and this is the third one',\n",
    "     'is this the first document',\n",
    "]"
   ]
  },
  {
   "cell_type": "markdown",
   "metadata": {
    "pycharm": {
     "name": "#%% md\n"
    }
   },
   "source": [
    "<h2 style=\"font-size:250%; font-family:cursive; color:#ff6666;\"><b>fit() Method <a id=\"2\"></a> </b><h2>\n",
    "\n",
    " - With this function, we will find all unique words in the data and assign a dimension-number to each unique word.\n",
    " - So will define a python dictionary to store all the unique words, such that the key of dictionary represents a unique word and the corresponding value represent it's dimension-number.\n",
    " - For example, if a review says, 'very good taste' - then I can represent each unique word with a dimension_number as,\n",
    "\n",
    "        { 'very' : 1, 'good' : 2, 'taste' : 3}\n",
    "\n",
    "- And remember our dataset is a list of string"
   ]
  },
  {
   "cell_type": "code",
   "execution_count": 2,
   "metadata": {
    "jupyter": {
     "outputs_hidden": false
    },
    "pycharm": {
     "name": "#%%\n"
    }
   },
   "outputs": [],
   "source": [
    "# Input : set of documents\n",
    "# Output: word, dimension number pair for each word as a python dictionary\n",
    "def fit_custom(dataset):\n",
    "  unique_words = []\n",
    "  for row in dataset:\n",
    "    for word in row.split(\" \"):\n",
    "      if len(word)>=2 and word not in unique_words:\n",
    "        unique_words.append(word) # Add each unique word of length>2 to the list\n",
    "  unique_words.sort()\n",
    "  word_dimension_dict = {j:i for i,j in enumerate(unique_words)} # Enumerate the list, i.e., give consecutive numbers to each item, store in a dict\n",
    "  return word_dimension_dict\n",
    "\n",
    "word_dimension_dict = fit_custom(corpus_1)\n",
    "# print(word_dimension_dict)"
   ]
  },
  {
   "cell_type": "code",
   "execution_count": 3,
   "metadata": {
    "jupyter": {
     "outputs_hidden": false
    },
    "pycharm": {
     "name": "#%%\n"
    }
   },
   "outputs": [],
   "source": [
    "# Defining an utility Function to calculate the number of times a word appears in a whole dataset\n",
    "def count_of_word_in_whole_dataset(dataset, word):\n",
    "  count = 0\n",
    "  for row in dataset:\n",
    "    if word in row:\n",
    "      count = count+1\n",
    "  return count"
   ]
  },
  {
   "cell_type": "code",
   "execution_count": 4,
   "metadata": {
    "jupyter": {
     "outputs_hidden": false
    },
    "pycharm": {
     "name": "#%%\n"
    }
   },
   "outputs": [],
   "source": [
    "# TRANSFROM METHOD\n",
    "# Input : set of documents, word_dimension_dict from fit_custom() ; Output : TF-count_of_word_in_whole_dataset Matrix\n",
    "def transform_custom(dataset, word_dimension_dict):\n",
    "  rows = []\n",
    "  columns = []\n",
    "  values = []\n",
    "  tf_val = []\n",
    "  idf_val = []\n",
    "  for idx, row in enumerate(dataset): # for each document in the dataset\n",
    "    # it will return a dict type object where key is the word and values is its frequency, {word:frequency}\n",
    "    word_freq = dict(Counter(row.split()))\n",
    "    # for every unique word in the document\n",
    "    for word, freq in word_freq.items():\n",
    "      if len(word) < 2:\n",
    "        continue\n",
    "      # we will check if its there in the word_dimension_dictionary that we build in fit_custom() function\n",
    "      # dict.get() function will return the values, if the key doesn't exits it will return -1\n",
    "      col_index = word_dimension_dict.get(word, -1) # retrieving the dimension number of a word\n",
    "      if col_index!=-1:\n",
    "        # we are storing the index of the document\n",
    "        rows.append(idx)\n",
    "        # we are storing the dimensions of the word\n",
    "        columns.append(col_index)\n",
    "        # computes TF value for each word, freq of each word / total words in a document\n",
    "        # computes count_of_word_in_whole_dataset value for each word=log(total no. of docus / no. of times a word is present in a doc via count_of_word_in_whole_dataset()\n",
    "\n",
    "        # Now just multiply TF with count_of_word_in_whole_dataset\n",
    "        # Below formulae to exactly replicate sklearn's formulae for tf-df calculation\n",
    "        # See - https://scikit-learn.org/stable/modules/feature_extraction.html#text-feature-extraction\n",
    "        # If ``smooth_idf=True`` (the default), the constant \"1\" is added to the\n",
    "        # numerator and denominator of the idf as if an extra document was seen\n",
    "        # containing every term in the collection exactly once, which prevents\n",
    "        # zero divisions: idf(t) = log [ (1 + n) / (1 + df(t)) ] + 1.\n",
    "        # https://github.com/scikit-learn/scikit-learn/blob/master/sklearn/feature_extraction/text.py#L1340\n",
    "        tf_idf_value = (freq/len(row.split()))*(1 + (  np.log( (1 + len(dataset) ) / (1 + count_of_word_in_whole_dataset(dataset, word) ))))\n",
    "\n",
    "        # but if smooth_idf=False then the following formulae would have been applied\n",
    "        # val = (freq/len(row.split()))*(1 + (  np.log( (int(len(dataset)) ) / (count_of_word_in_whole_dataset(dataset, word) ))))\n",
    "\n",
    "        values.append(tf_idf_value)\n",
    "\n",
    "        sparse_matrix = csr_matrix((values, (rows,columns)), shape=(len(dataset), len(word_dimension_dict)))\n",
    "\n",
    "        # As noted earlier, in sk-learn this output is normalized using L2 normalization. sklearn does this by default.\n",
    "        # So we have to do that as well to match with sk-learn\n",
    "        # normalize() function will apply ‘l2’, normalization by default\n",
    "        # The 'norm' parameter to use to normalize each non zero sample\n",
    "        # (or each non-zero feature if axis is 0).\n",
    "        # https://scikit-learn.org/stable/modules/preprocessing.html#preprocessing-normalization\n",
    "        final_normalized_output = normalize(sparse_matrix)\n",
    "\n",
    "  return final_normalized_output\n"
   ]
  },
  {
   "cell_type": "code",
   "execution_count": 5,
   "metadata": {
    "jupyter": {
     "outputs_hidden": false
    },
    "pycharm": {
     "name": "#%%\n"
    }
   },
   "outputs": [
    {
     "name": "stdout",
     "output_type": "stream",
     "text": [
      "[[0.         0.46979139 0.58028582 0.38408524 0.         0.\n",
      "  0.38408524 0.         0.38408524]\n",
      " [0.         0.6876236  0.         0.28108867 0.         0.53864762\n",
      "  0.28108867 0.         0.28108867]\n",
      " [0.51184851 0.         0.         0.26710379 0.51184851 0.\n",
      "  0.26710379 0.51184851 0.26710379]\n",
      " [0.         0.46979139 0.58028582 0.38408524 0.         0.\n",
      "  0.38408524 0.         0.38408524]]\n"
     ]
    },
    {
     "data": {
      "text/html": [
       "<div>\n",
       "<style scoped>\n",
       "    .dataframe tbody tr th:only-of-type {\n",
       "        vertical-align: middle;\n",
       "    }\n",
       "\n",
       "    .dataframe tbody tr th {\n",
       "        vertical-align: top;\n",
       "    }\n",
       "\n",
       "    .dataframe thead th {\n",
       "        text-align: right;\n",
       "    }\n",
       "</style>\n",
       "<table border=\"1\" class=\"dataframe\">\n",
       "  <thead>\n",
       "    <tr style=\"text-align: right;\">\n",
       "      <th></th>\n",
       "      <th>tf-idf</th>\n",
       "    </tr>\n",
       "  </thead>\n",
       "  <tbody>\n",
       "    <tr>\n",
       "      <th>and</th>\n",
       "      <td>0.000000</td>\n",
       "    </tr>\n",
       "    <tr>\n",
       "      <th>document</th>\n",
       "      <td>0.469791</td>\n",
       "    </tr>\n",
       "    <tr>\n",
       "      <th>first</th>\n",
       "      <td>0.580286</td>\n",
       "    </tr>\n",
       "    <tr>\n",
       "      <th>is</th>\n",
       "      <td>0.384085</td>\n",
       "    </tr>\n",
       "    <tr>\n",
       "      <th>one</th>\n",
       "      <td>0.000000</td>\n",
       "    </tr>\n",
       "    <tr>\n",
       "      <th>second</th>\n",
       "      <td>0.000000</td>\n",
       "    </tr>\n",
       "    <tr>\n",
       "      <th>the</th>\n",
       "      <td>0.384085</td>\n",
       "    </tr>\n",
       "    <tr>\n",
       "      <th>third</th>\n",
       "      <td>0.000000</td>\n",
       "    </tr>\n",
       "    <tr>\n",
       "      <th>this</th>\n",
       "      <td>0.384085</td>\n",
       "    </tr>\n",
       "  </tbody>\n",
       "</table>\n",
       "</div>"
      ],
      "text/plain": [
       "            tf-idf\n",
       "and       0.000000\n",
       "document  0.469791\n",
       "first     0.580286\n",
       "is        0.384085\n",
       "one       0.000000\n",
       "second    0.000000\n",
       "the       0.384085\n",
       "third     0.000000\n",
       "this      0.384085"
      ]
     },
     "execution_count": 5,
     "metadata": {},
     "output_type": "execute_result"
    }
   ],
   "source": [
    "tf_idf_vectorized_custom = transform_custom(corpus_1, word_dimension_dict)\n",
    "\n",
    "# As the final output of sklearn tf-idf vectorizer is a sparse matrix to save storage space\n",
    "# To visually understand the output better, we need to convert the sparse output matrix to dense matrix with toarray()\n",
    "print(tf_idf_vectorized_custom.toarray())\n",
    "\n",
    "# Even more clear way to visually inspect the output is to convert it to a pandas dataframe\n",
    "# So below I will convert that to a dataframe and then use todense()\n",
    "custom_tf_idf_output = tf_idf_vectorized_custom[0]\n",
    "df_custom_tf_idf = pd.DataFrame(custom_tf_idf_output.T.todense(),  index=word_dimension_dict.keys(), columns=['tf-idf'])\n",
    "df_custom_tf_idf.sort_values(by=[\"tf-idf\"], ascending=True)\n",
    "df_custom_tf_idf"
   ]
  },
  {
   "cell_type": "markdown",
   "metadata": {
    "pycharm": {
     "name": "#%% md\n"
    }
   },
   "source": [
    "<h2 style=\"font-size:250%; font-family:cursive; color:#ff6666;\"><b>TFIDF - Sklearn Implementation <a id=\"3\"></a> </b><h2>\n"
   ]
  },
  {
   "cell_type": "code",
   "execution_count": 6,
   "metadata": {
    "jupyter": {
     "outputs_hidden": false
    },
    "pycharm": {
     "name": "#%%\n"
    }
   },
   "outputs": [
    {
     "data": {
      "text/plain": [
       "TfidfVectorizer(analyzer='word', binary=False, decode_error='strict',\n",
       "                dtype=<class 'numpy.float64'>, encoding='utf-8',\n",
       "                input='content', lowercase=True, max_df=1.0, max_features=None,\n",
       "                min_df=1, ngram_range=(1, 1), norm='l2', preprocessor=None,\n",
       "                smooth_idf=True, stop_words=None, strip_accents=None,\n",
       "                sublinear_tf=False, token_pattern='(?u)\\\\b\\\\w\\\\w+\\\\b',\n",
       "                tokenizer=None, use_idf=True, vocabulary=None)"
      ]
     },
     "execution_count": 6,
     "metadata": {},
     "output_type": "execute_result"
    }
   ],
   "source": [
    "from sklearn.feature_extraction.text import TfidfVectorizer\n",
    "vectorizer = TfidfVectorizer()\n",
    "vectorizer.fit(corpus_1)\n",
    "# print('vectorizer is ', vectorizer)"
   ]
  },
  {
   "cell_type": "code",
   "execution_count": 7,
   "metadata": {
    "jupyter": {
     "outputs_hidden": false
    },
    "pycharm": {
     "name": "#%%\n"
    }
   },
   "outputs": [
    {
     "name": "stdout",
     "output_type": "stream",
     "text": [
      "[[0.         0.46979139 0.58028582 0.38408524 0.         0.\n",
      "  0.38408524 0.         0.38408524]\n",
      " [0.         0.6876236  0.         0.28108867 0.         0.53864762\n",
      "  0.28108867 0.         0.28108867]\n",
      " [0.51184851 0.         0.         0.26710379 0.51184851 0.\n",
      "  0.26710379 0.51184851 0.26710379]\n",
      " [0.         0.46979139 0.58028582 0.38408524 0.         0.\n",
      "  0.38408524 0.         0.38408524]]\n"
     ]
    },
    {
     "data": {
      "text/html": [
       "<div>\n",
       "<style scoped>\n",
       "    .dataframe tbody tr th:only-of-type {\n",
       "        vertical-align: middle;\n",
       "    }\n",
       "\n",
       "    .dataframe tbody tr th {\n",
       "        vertical-align: top;\n",
       "    }\n",
       "\n",
       "    .dataframe thead th {\n",
       "        text-align: right;\n",
       "    }\n",
       "</style>\n",
       "<table border=\"1\" class=\"dataframe\">\n",
       "  <thead>\n",
       "    <tr style=\"text-align: right;\">\n",
       "      <th></th>\n",
       "      <th>tf-idf</th>\n",
       "    </tr>\n",
       "  </thead>\n",
       "  <tbody>\n",
       "    <tr>\n",
       "      <th>and</th>\n",
       "      <td>0.000000</td>\n",
       "    </tr>\n",
       "    <tr>\n",
       "      <th>document</th>\n",
       "      <td>0.469791</td>\n",
       "    </tr>\n",
       "    <tr>\n",
       "      <th>first</th>\n",
       "      <td>0.580286</td>\n",
       "    </tr>\n",
       "    <tr>\n",
       "      <th>is</th>\n",
       "      <td>0.384085</td>\n",
       "    </tr>\n",
       "    <tr>\n",
       "      <th>one</th>\n",
       "      <td>0.000000</td>\n",
       "    </tr>\n",
       "    <tr>\n",
       "      <th>second</th>\n",
       "      <td>0.000000</td>\n",
       "    </tr>\n",
       "    <tr>\n",
       "      <th>the</th>\n",
       "      <td>0.384085</td>\n",
       "    </tr>\n",
       "    <tr>\n",
       "      <th>third</th>\n",
       "      <td>0.000000</td>\n",
       "    </tr>\n",
       "    <tr>\n",
       "      <th>this</th>\n",
       "      <td>0.384085</td>\n",
       "    </tr>\n",
       "  </tbody>\n",
       "</table>\n",
       "</div>"
      ],
      "text/plain": [
       "            tf-idf\n",
       "and       0.000000\n",
       "document  0.469791\n",
       "first     0.580286\n",
       "is        0.384085\n",
       "one       0.000000\n",
       "second    0.000000\n",
       "the       0.384085\n",
       "third     0.000000\n",
       "this      0.384085"
      ]
     },
     "execution_count": 7,
     "metadata": {},
     "output_type": "execute_result"
    }
   ],
   "source": [
    "skl_tf_idf_vectorized = vectorizer.transform(corpus_1)\n",
    "\n",
    "# As the final output of sklearn tf-idf vectorizer is a sparse matrix to save storage space\n",
    "# To visually understand the output better, we need to convert the sparse output matrix to dense matrix with toarray()\n",
    "print(skl_tf_idf_vectorized.toarray())\n",
    "# print(skl_tf_idf_vectorized[0])\n",
    "\n",
    "# As above Even more clear way to visually inspect the output is to convert it to a pandas dataframe\n",
    "# So below I will convert that to a dataframe and then use todense()\n",
    "skl_tfdf_output = skl_tf_idf_vectorized[0]\n",
    "df_tfdf_sklearn = pd.DataFrame(skl_tfdf_output.T.todense(), index=vectorizer.get_feature_names(), columns=['tf-idf'])\n",
    "df_tfdf_sklearn.sort_values(by=[\"tf-idf\"], ascending=True)\n",
    "df_tfdf_sklearn"
   ]
  },
  {
   "cell_type": "markdown",
   "metadata": {
    "pycharm": {
     "name": "#%% md\n"
    }
   },
   "source": [
    "#### So from above we can see the dense-matrix printed are the same both for my custom function and from using scikit-learn's TfidfVectorizer\n",
    "\n",
    "\n",
    "<h2 style=\"font-size:250%; font-family:cursive; color:#ff6666;\"><b> Implement max features functionality  <a id=\"4\"></a> </b><h2>\n",
    "\n",
    "\n",
    "\n",
    "### Same as above implementation, but now ONLY consider top-50 words by top-50 IDF scores\n",
    "\n",
    "As a part of this task I have to modify our fit and transform functions so that our vocab will contain only 50 terms with top idf scores.\n",
    "\n",
    "    This task is similar to our previous task, just that here our vocabulary is limited to only top 50 features names based on their idf values. Basically our output will have exactly 50 columns and the number of rows will depend on the number of documents I have in our corpus.\n",
    "\n",
    "    Here I will be give a pickle file, with file name <strong>cleaned_strings</strong>. You would have to load the corpus from this file and use it as input to our tfidf vectorizer.\n",
    "\n",
    "    Steps to approach this task:\n",
    "\n",
    "         - You would have to write both fit and transform methods for our custom implementation of tfidf vectorizer, just like in the previous task. Additionally, here I have to limit the number of features generated to 50 as described above.\n",
    "         \n",
    "         - Now sort our vocab based in descending order of idf values and print out the words in the sorted voacb after I fit our data. Here I should be getting only 50 terms in our vocab. And make sure to print idf values for each term in our vocab.\n",
    "         Make sure the output of our implementation is a sparse matrix.\n",
    "\n",
    "         - Before generating the final output, I need to normalize our sparse matrix using L2 normalization. You can refer to [this link](https://scikit-learn.org/stable/modules/generated/sklearn.preprocessing.normalize.html)\n",
    "\n",
    "         - Now check the output of a single document in our collection of documents,  I can convert the sparse matrix related only to that document into dense matrix and print it. And this dense matrix should contain 1 row and 50 columns.\n"
   ]
  },
  {
   "cell_type": "code",
   "execution_count": 8,
   "metadata": {
    "jupyter": {
     "outputs_hidden": false
    },
    "pycharm": {
     "name": "#%%\n"
    }
   },
   "outputs": [],
   "source": [
    "import urllib.request\n",
    "import pickle\n",
    "\n",
    "corpus_2 = pickle.load(urllib.request.urlopen(\"https://github.com/rohan-paul/Multiple-Dataset/blob/main/3-tf-idf/cleaned_strings?raw=true\"))\n"
   ]
  },
  {
   "cell_type": "code",
   "execution_count": 9,
   "metadata": {
    "jupyter": {
     "outputs_hidden": false
    },
    "pycharm": {
     "name": "#%%\n"
    }
   },
   "outputs": [],
   "source": [
    "# Defining an utility Function to calculate the number of times a word appears in a whole dataset\n",
    "def count_of_word_in_whole_dataset(dataset, word):\n",
    "  count = 0\n",
    "  for row in dataset:\n",
    "    if word in row:\n",
    "      count = count+1\n",
    "  return count"
   ]
  },
  {
   "cell_type": "code",
   "execution_count": 10,
   "metadata": {
    "jupyter": {
     "outputs_hidden": false
    },
    "pycharm": {
     "name": "#%%\n"
    }
   },
   "outputs": [],
   "source": [
    "def fit_custom_top_50(dataset):\n",
    "    unique_words_list = []\n",
    "    idf_value_list = []\n",
    "\n",
    "    for row in dataset:\n",
    "        for word in row.split(\" \"):\n",
    "            if (len(word) >=2) and word not in unique_words_list:\n",
    "                unique_words_list.append(word)\n",
    "\n",
    "    for word in unique_words_list:\n",
    "        idf_value = 1 + (  np.log( (1 + len(dataset) ) / (1 + count_of_word_in_whole_dataset(dataset, word) )))\n",
    "        idf_value_list.append(idf_value)\n",
    "\n",
    "    '''So now I have 2 lists something of the below form\n",
    "\n",
    "    unique_words_list => ['this', 'is', 'the', 'first', 'document', 'second', 'and', 'third', 'one']\n",
    "    idf_value_list => [1.0, 1.0, 1.0, 1.510, 1.2, 1.91, 1.9, 1.91, 1.9]\n",
    "\n",
    "    And the first one exactly maps to the second one\n",
    "\n",
    "    And all I have to do is sort the 'unique_words_list' in descending order by the second list value\n",
    "\n",
    "    '''\n",
    "\n",
    "    combined_list = zip(idf_value_list, unique_words_list )\n",
    "    sorted_combined_list = sorted(combined_list, reverse=True)\n",
    "    sorted_unique_words_list = [element for _, element in sorted_combined_list]\n",
    "\n",
    "    word_dimension_dict_top_50 = {j:i for i,j in enumerate(sorted_unique_words_list[:50]) }\n",
    "    # word_dimension_dict_top_50 = {j:i for i,j in enumerate(unique_words_list)}\n",
    "\n",
    "    return word_dimension_dict_top_50\n",
    "\n",
    "\n",
    "word_dimension_dict_top_50 = fit_custom_top_50(corpus_2)\n",
    "# print(\"sorted word_dimension_dict_top_50 \", word_dimension_dict_top_50)"
   ]
  },
  {
   "cell_type": "code",
   "execution_count": 11,
   "metadata": {
    "jupyter": {
     "outputs_hidden": false
    },
    "pycharm": {
     "name": "#%%\n"
    }
   },
   "outputs": [],
   "source": [
    "# TRANSFROM METHOD - Same as earlier implemented\n",
    "# Input : set of documents, word_dimension_dict_top_50 from fit_custom() ; Output : TF-count_of_word_in_whole_dataset Matrix\n",
    "def transform_custom_top_50(dataset, word_dimension_dict_top_50):\n",
    "  rows = []\n",
    "  columns = []\n",
    "  values = []\n",
    "  tf_val = []\n",
    "  idf_val = []\n",
    "  for idx, row in enumerate(dataset): # for each document in the dataset\n",
    "    # it will return a dict type object where key is the word and values is its frequency, {word:frequency}\n",
    "    word_freq = dict(Counter(row.split()))\n",
    "    # for every unique word in the document\n",
    "    for word, freq in word_freq.items():\n",
    "      if len(word) < 2:\n",
    "        continue\n",
    "      # we will check if its there in the word_dimension_dictionary that we build in fit_custom() function\n",
    "      # dict.get() function will return the values, if the key doesn't exits it will return -1\n",
    "      col_index = word_dimension_dict_top_50.get(word, -1) # retrieving the dimension number of a word\n",
    "      if col_index!=-1:\n",
    "        # we are storing the index of the document\n",
    "        rows.append(idx)\n",
    "        # we are storing the dimensions of the word\n",
    "        columns.append(col_index)\n",
    "        tf_idf_value = (freq/len(row.split()))*(1 + (  np.log( (1 + len(dataset) ) / (1 + count_of_word_in_whole_dataset(dataset,word) ))))\n",
    "\n",
    "        values.append(tf_idf_value)\n",
    "\n",
    "        sparse_matrix = csr_matrix((values, (rows,columns)), shape=(len(dataset), len(word_dimension_dict_top_50)))\n",
    "\n",
    "        final_normalized_output = normalize(sparse_matrix)\n",
    "\n",
    "  return final_normalized_output\n"
   ]
  },
  {
   "cell_type": "code",
   "execution_count": 12,
   "metadata": {
    "jupyter": {
     "outputs_hidden": false
    },
    "pycharm": {
     "name": "#%%\n"
    }
   },
   "outputs": [
    {
     "name": "stdout",
     "output_type": "stream",
     "text": [
      "[[0. 0. 0. ... 0. 0. 0.]\n",
      " [0. 0. 0. ... 0. 0. 0.]\n",
      " [0. 0. 0. ... 0. 0. 0.]\n",
      " ...\n",
      " [0. 0. 0. ... 0. 0. 0.]\n",
      " [0. 0. 0. ... 0. 0. 0.]\n",
      " [0. 0. 0. ... 0. 0. 0.]]\n"
     ]
    },
    {
     "data": {
      "text/html": [
       "<div>\n",
       "<style scoped>\n",
       "    .dataframe tbody tr th:only-of-type {\n",
       "        vertical-align: middle;\n",
       "    }\n",
       "\n",
       "    .dataframe tbody tr th {\n",
       "        vertical-align: top;\n",
       "    }\n",
       "\n",
       "    .dataframe thead th {\n",
       "        text-align: right;\n",
       "    }\n",
       "</style>\n",
       "<table border=\"1\" class=\"dataframe\">\n",
       "  <thead>\n",
       "    <tr style=\"text-align: right;\">\n",
       "      <th></th>\n",
       "      <th>zombiez</th>\n",
       "      <th>zillion</th>\n",
       "      <th>yun</th>\n",
       "      <th>youtube</th>\n",
       "      <th>youthful</th>\n",
       "      <th>younger</th>\n",
       "      <th>yelps</th>\n",
       "      <th>yawn</th>\n",
       "      <th>yardley</th>\n",
       "      <th>wrote</th>\n",
       "      <th>...</th>\n",
       "      <th>wedding</th>\n",
       "      <th>website</th>\n",
       "      <th>weaving</th>\n",
       "      <th>weariness</th>\n",
       "      <th>weaker</th>\n",
       "      <th>wayne</th>\n",
       "      <th>waylaid</th>\n",
       "      <th>wave</th>\n",
       "      <th>wasting</th>\n",
       "      <th>waster</th>\n",
       "    </tr>\n",
       "  </thead>\n",
       "  <tbody>\n",
       "    <tr>\n",
       "      <th>tf-idf</th>\n",
       "      <td>0.0</td>\n",
       "      <td>0.0</td>\n",
       "      <td>0.0</td>\n",
       "      <td>0.0</td>\n",
       "      <td>0.0</td>\n",
       "      <td>0.0</td>\n",
       "      <td>0.0</td>\n",
       "      <td>0.0</td>\n",
       "      <td>0.0</td>\n",
       "      <td>0.0</td>\n",
       "      <td>...</td>\n",
       "      <td>0.0</td>\n",
       "      <td>0.0</td>\n",
       "      <td>0.0</td>\n",
       "      <td>0.0</td>\n",
       "      <td>0.0</td>\n",
       "      <td>0.0</td>\n",
       "      <td>0.0</td>\n",
       "      <td>0.0</td>\n",
       "      <td>0.0</td>\n",
       "      <td>0.0</td>\n",
       "    </tr>\n",
       "  </tbody>\n",
       "</table>\n",
       "<p>1 rows × 50 columns</p>\n",
       "</div>"
      ],
      "text/plain": [
       "        zombiez  zillion  yun  youtube  youthful  younger  yelps  yawn  \\\n",
       "tf-idf      0.0      0.0  0.0      0.0       0.0      0.0    0.0   0.0   \n",
       "\n",
       "        yardley  wrote  ...  wedding  website  weaving  weariness  weaker  \\\n",
       "tf-idf      0.0    0.0  ...      0.0      0.0      0.0        0.0     0.0   \n",
       "\n",
       "        wayne  waylaid  wave  wasting  waster  \n",
       "tf-idf    0.0      0.0   0.0      0.0     0.0  \n",
       "\n",
       "[1 rows x 50 columns]"
      ]
     },
     "execution_count": 12,
     "metadata": {},
     "output_type": "execute_result"
    }
   ],
   "source": [
    "tf_idf_vectorized_custom = transform_custom_top_50(corpus_2, word_dimension_dict_top_50)\n",
    "\n",
    "# As the final output of sklearn tf-idf vectorizer is a sparse matrix to save storage space\n",
    "# To visually understand the output better, we need to convert the sparse output matrix to dense matrix with toarray()\n",
    "print(tf_idf_vectorized_custom.toarray())\n",
    "\n",
    "# Even more clear way to see the output is to convert it to a pandas dataframe\n",
    "# So below I will convert that to a dataframe and then use todense()\n",
    "custom_tf_idf_output = tf_idf_vectorized_custom[0]\n",
    "df_custom_tf_idf = pd.DataFrame(custom_tf_idf_output.T.todense(),  index=word_dimension_dict_top_50.keys(), columns=['tf-idf'])\n",
    "df_custom_tf_idf.sort_values(by=[\"tf-idf\"], ascending=True)\n",
    "df_custom_tf_idf.T"
   ]
  },
  {
   "cell_type": "markdown",
   "metadata": {},
   "source": [
    "### As we can see above the dataframe has 1 row and 50 columns\n",
    "\n",
    "#### Now will implement tf-idf with sklearn's TfidfVectorizer on the same Pickle dataset"
   ]
  },
  {
   "cell_type": "code",
   "execution_count": 13,
   "metadata": {
    "jupyter": {
     "outputs_hidden": false
    },
    "pycharm": {
     "name": "#%%\n"
    }
   },
   "outputs": [
    {
     "data": {
      "text/plain": [
       "TfidfVectorizer(analyzer='word', binary=False, decode_error='strict',\n",
       "                dtype=<class 'numpy.float64'>, encoding='utf-8',\n",
       "                input='content', lowercase=True, max_df=1.0, max_features=None,\n",
       "                min_df=1, ngram_range=(1, 1), norm='l2', preprocessor=None,\n",
       "                smooth_idf=True, stop_words=None, strip_accents=None,\n",
       "                sublinear_tf=False, token_pattern='(?u)\\\\b\\\\w\\\\w+\\\\b',\n",
       "                tokenizer=None, use_idf=True, vocabulary=None)"
      ]
     },
     "execution_count": 13,
     "metadata": {},
     "output_type": "execute_result"
    }
   ],
   "source": [
    "from sklearn.feature_extraction.text import TfidfVectorizer\n",
    "vectorizer = TfidfVectorizer()\n",
    "vectorizer.fit(corpus_2)"
   ]
  },
  {
   "cell_type": "code",
   "execution_count": 14,
   "metadata": {
    "jupyter": {
     "outputs_hidden": false
    },
    "pycharm": {
     "name": "#%%\n"
    }
   },
   "outputs": [
    {
     "name": "stdout",
     "output_type": "stream",
     "text": [
      "[[0. 0. 0. ... 0. 0. 0.]\n",
      " [0. 0. 0. ... 0. 0. 0.]\n",
      " [0. 0. 0. ... 0. 0. 0.]\n",
      " ...\n",
      " [0. 0. 0. ... 0. 0. 0.]\n",
      " [0. 0. 0. ... 0. 0. 0.]\n",
      " [0. 0. 0. ... 0. 0. 0.]]\n"
     ]
    },
    {
     "data": {
      "text/html": [
       "<div>\n",
       "<style scoped>\n",
       "    .dataframe tbody tr th:only-of-type {\n",
       "        vertical-align: middle;\n",
       "    }\n",
       "\n",
       "    .dataframe tbody tr th {\n",
       "        vertical-align: top;\n",
       "    }\n",
       "\n",
       "    .dataframe thead th {\n",
       "        text-align: right;\n",
       "    }\n",
       "</style>\n",
       "<table border=\"1\" class=\"dataframe\">\n",
       "  <thead>\n",
       "    <tr style=\"text-align: right;\">\n",
       "      <th></th>\n",
       "      <th>tf-idf</th>\n",
       "    </tr>\n",
       "  </thead>\n",
       "  <tbody>\n",
       "    <tr>\n",
       "      <th>aailiyah</th>\n",
       "      <td>0.0</td>\n",
       "    </tr>\n",
       "    <tr>\n",
       "      <th>abandoned</th>\n",
       "      <td>0.0</td>\n",
       "    </tr>\n",
       "    <tr>\n",
       "      <th>ability</th>\n",
       "      <td>0.0</td>\n",
       "    </tr>\n",
       "    <tr>\n",
       "      <th>abroad</th>\n",
       "      <td>0.0</td>\n",
       "    </tr>\n",
       "    <tr>\n",
       "      <th>absolutely</th>\n",
       "      <td>0.0</td>\n",
       "    </tr>\n",
       "    <tr>\n",
       "      <th>...</th>\n",
       "      <td>...</td>\n",
       "    </tr>\n",
       "    <tr>\n",
       "      <th>youtube</th>\n",
       "      <td>0.0</td>\n",
       "    </tr>\n",
       "    <tr>\n",
       "      <th>yun</th>\n",
       "      <td>0.0</td>\n",
       "    </tr>\n",
       "    <tr>\n",
       "      <th>zillion</th>\n",
       "      <td>0.0</td>\n",
       "    </tr>\n",
       "    <tr>\n",
       "      <th>zombie</th>\n",
       "      <td>0.0</td>\n",
       "    </tr>\n",
       "    <tr>\n",
       "      <th>zombiez</th>\n",
       "      <td>0.0</td>\n",
       "    </tr>\n",
       "  </tbody>\n",
       "</table>\n",
       "<p>2886 rows × 1 columns</p>\n",
       "</div>"
      ],
      "text/plain": [
       "            tf-idf\n",
       "aailiyah       0.0\n",
       "abandoned      0.0\n",
       "ability        0.0\n",
       "abroad         0.0\n",
       "absolutely     0.0\n",
       "...            ...\n",
       "youtube        0.0\n",
       "yun            0.0\n",
       "zillion        0.0\n",
       "zombie         0.0\n",
       "zombiez        0.0\n",
       "\n",
       "[2886 rows x 1 columns]"
      ]
     },
     "execution_count": 14,
     "metadata": {},
     "output_type": "execute_result"
    }
   ],
   "source": [
    "skl_tf_idf_vectorized = vectorizer.transform(corpus_2)\n",
    "\n",
    "# As the final output of sklearn tf-idf vectorizer is a sparse matrix to save storage space\n",
    "# To visually understand the output better, we need to convert the sparse output matrix to dense matrix with toarray()\n",
    "print(skl_tf_idf_vectorized.toarray())\n",
    "# print(skl_tf_idf_vectorized[0])\n",
    "\n",
    "# As above Even more clear way to see the output is to convert it to a pandas dataframe\n",
    "# So below I will convert that to a dataframe and then use todense()\n",
    "skl_tfdf_output = skl_tf_idf_vectorized[0]\n",
    "df_tfdf_sklearn = pd.DataFrame(skl_tfdf_output.T.todense(), index=vectorizer.get_feature_names(), columns=['tf-idf'])\n",
    "df_tfdf_sklearn.sort_values(by=[\"tf-idf\"], ascending=True)\n",
    "df_tfdf_sklearn"
   ]
  }
 ],
 "metadata": {
  "kernelspec": {
   "display_name": "Python 3.7.6 64-bit ('base': conda)",
   "language": "python",
   "name": "python37664bitbaseconda0278f8e65a884c4eaa40857ae0d63d51"
  },
  "language_info": {
   "codemirror_mode": {
    "name": "ipython",
    "version": 3
   },
   "file_extension": ".py",
   "mimetype": "text/x-python",
   "name": "python",
   "nbconvert_exporter": "python",
   "pygments_lexer": "ipython3",
   "version": "3.7.10"
  },
  "latex_envs": {
   "LaTeX_envs_menu_present": true,
   "autoclose": false,
   "autocomplete": true,
   "bibliofile": "biblio.bib",
   "cite_by": "apalike",
   "current_citInitial": 1,
   "eqLabelWithNumbers": true,
   "eqNumInitial": 1,
   "hotkeys": {
    "equation": "Ctrl-E",
    "itemize": "Ctrl-I"
   },
   "labels_anchors": false,
   "latex_user_defs": false,
   "report_style_numbering": false,
   "user_envs_cfg": false
  },
  "varInspector": {
   "cols": {
    "lenName": 16,
    "lenType": 16,
    "lenVar": 40
   },
   "kernels_config": {
    "python": {
     "delete_cmd_postfix": "",
     "delete_cmd_prefix": "del ",
     "library": "var_list.py",
     "varRefreshCmd": "print(var_dic_list())"
    },
    "r": {
     "delete_cmd_postfix": ") ",
     "delete_cmd_prefix": "rm(",
     "library": "var_list.r",
     "varRefreshCmd": "cat(var_dic_list()) "
    }
   },
   "types_to_exclude": [
    "module",
    "function",
    "builtin_function_or_method",
    "instance",
    "_Feature"
   ],
   "window_display": false
  }
 },
 "nbformat": 4,
 "nbformat_minor": 4
}
